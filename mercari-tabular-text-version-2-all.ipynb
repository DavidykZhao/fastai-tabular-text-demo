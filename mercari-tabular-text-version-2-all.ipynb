{
 "cells": [
  {
   "cell_type": "markdown",
   "metadata": {},
   "source": [
    "From https://nbviewer.jupyter.org/gist/joshfp/b62b76eae95e6863cb511997b5a63118/5.full-deep-learning.ipynb"
   ]
  },
  {
   "cell_type": "code",
   "execution_count": 1,
   "metadata": {},
   "outputs": [],
   "source": [
    "from IPython.core.interactiveshell import InteractiveShell\n",
    "InteractiveShell.ast_node_interactivity = \"all\""
   ]
  },
  {
   "cell_type": "code",
   "execution_count": 2,
   "metadata": {},
   "outputs": [],
   "source": [
    "from sklearn.model_selection import KFold"
   ]
  },
  {
   "cell_type": "code",
   "execution_count": 3,
   "metadata": {},
   "outputs": [],
   "source": [
    "from fastai.callbacks.tracker import *\n",
    "from fastai.text import *\n",
    "from fastai.tabular import *"
   ]
  },
  {
   "cell_type": "code",
   "execution_count": 4,
   "metadata": {},
   "outputs": [],
   "source": [
    "def reset_seed(seed=42):\n",
    "    random.seed(seed)\n",
    "    os.environ['PYTHONHASHSEED'] = str(seed)\n",
    "#     tf.set_random_seed(seed)\n",
    "    np.random.seed(seed)\n",
    "    torch.manual_seed(seed)\n",
    "    torch.backends.cudnn.deterministic = True\n",
    "    if torch.cuda.is_available(): \n",
    "        torch.cuda.manual_seed(seed)\n",
    "        torch.cuda.manual_seed_all(seed)\n",
    "reset_seed()"
   ]
  },
  {
   "cell_type": "code",
   "execution_count": 5,
   "metadata": {},
   "outputs": [],
   "source": [
    "mercari_path = Path('data/')"
   ]
  },
  {
   "cell_type": "code",
   "execution_count": 6,
   "metadata": {},
   "outputs": [
    {
     "name": "stdout",
     "output_type": "stream",
     "text": [
      "\n",
      "\n",
      "```text\n",
      "=== Software === \n",
      "python        : 3.7.1\n",
      "fastai        : 1.0.51\n",
      "fastprogress  : 0.1.19\n",
      "torch         : 1.0.0\n",
      "nvidia driver : 410.104\n",
      "torch cuda    : 9.0.176 / is available\n",
      "torch cudnn   : 7401 / is enabled\n",
      "\n",
      "=== Hardware === \n",
      "nvidia gpus   : 1\n",
      "torch devices : 1\n",
      "  - gpu0      : 8116MB | GeForce GTX 1080\n",
      "\n",
      "=== Environment === \n",
      "platform      : Linux-4.15.0-47-generic-x86_64-with-debian-stretch-sid\n",
      "distro        : #50~16.04.1-Ubuntu SMP Fri Mar 15 16:06:21 UTC 2019\n",
      "conda env     : python37\n",
      "python        : /home/quantran/anaconda3/envs/python37/bin/python\n",
      "sys.path      : \n",
      "/home/quantran/kwon/kaggle/mercari\n",
      "/home/quantran/anaconda3/envs/python37/lib/python37.zip\n",
      "/home/quantran/anaconda3/envs/python37/lib/python3.7\n",
      "/home/quantran/anaconda3/envs/python37/lib/python3.7/lib-dynload\n",
      "/home/quantran/anaconda3/envs/python37/lib/python3.7/site-packages\n",
      "/home/quantran/anaconda3/envs/python37/lib/python3.7/site-packages/IPython/extensions\n",
      "/home/quantran/.ipython\n",
      "```\n",
      "\n",
      "Please make sure to include opening/closing ``` when you paste into forums/github to make the reports appear formatted as code sections.\n",
      "\n",
      "Optional package(s) to enhance the diagnostics can be installed with:\n",
      "pip install distro\n",
      "Once installed, re-run this utility to get the additional information\n"
     ]
    }
   ],
   "source": [
    "from fastai.utils.collect_env import show_install\n",
    "show_install()"
   ]
  },
  {
   "cell_type": "markdown",
   "metadata": {},
   "source": [
    "# Prepare data"
   ]
  },
  {
   "cell_type": "code",
   "execution_count": 7,
   "metadata": {},
   "outputs": [],
   "source": [
    "def preprocess_text_cols(df: pd.DataFrame) -> pd.DataFrame:\n",
    "  \n",
    "    df['category_name'] = df['category_name'].fillna('//')\n",
    "    df['category1'] = df['category_name'].apply(lambda x : x.split('/')[0].strip())\n",
    "    df.loc[df.category1=='','category1']= np.NaN\n",
    "    df['category2'] = df['category_name'].apply(lambda x : x.split('/')[1].strip())\n",
    "    df.loc[df.category2=='','category2']= np.NaN\n",
    "    df['category3'] = df['category_name'].apply(lambda x : x.split('/')[2].strip())\n",
    "    df.loc[df.category3=='','category3']= np.NaN\n",
    "    df['category_name'] = df['category_name'].apply( lambda x : ' '.join( x.split('/') ).strip() )\n",
    "    df.loc[df.category_name=='','category_name']= 'No category' # let this info in when concatenating text for RNN\n",
    "    \n",
    "    df_bn_fillna = df['brand_name'].fillna('No brand')\n",
    "    df['text'] = (df['name'].fillna('No name') + '. ' + df_bn_fillna + '. ' + \n",
    "                  df['category_name'] + '. ' + df['item_description'].fillna('No description'))\n",
    "    return df[['category1','category2','category3','brand_name', 'text', 'shipping', 'item_condition_id','price']]\n",
    "\n",
    "def preprocess_all(sample=None):\n",
    "    train = pd.read_table(mercari_path/'train.tsv').drop('train_id',axis=1)\n",
    "    price = train.price.values\n",
    "    train=train.drop('price',axis=1)\n",
    "    train['price']=price\n",
    "    \n",
    "    test = pd.read_table(mercari_path/'test_stg2.tsv').drop('test_id',axis=1)\n",
    "    test['price'] = np.NAN\n",
    "    train = train[train['price'] > 0].reset_index(drop=True)\n",
    "    all_df = pd.concat([train,test],axis=0).reset_index(drop=True)\n",
    "    del train\n",
    "    del test\n",
    "    gc.collect()\n",
    "\n",
    "    all_df = preprocess_text_cols(all_df)\n",
    "    train_df = all_df[~all_df.price.isnull()]\n",
    "    test_df = all_df[all_df.price.isnull()]\n",
    "    del all_df\n",
    "    gc.collect()\n",
    "    \n",
    "    if sample:\n",
    "        np.random.seed(42)\n",
    "        sample = np.random.permutation(sample)\n",
    "        train_df = train_df.loc[sample].reset_index(drop=True)\n",
    "        \n",
    "    test_df= test_df.drop('price',axis=1)    \n",
    "    return train_df,test_df\n",
    "\n",
    "def preprocess_train(sample=None):\n",
    "    train = pd.read_table(mercari_path/'train.tsv').drop('train_id',axis=1)\n",
    "    price = train.price.values\n",
    "    train=train.drop('price',axis=1)\n",
    "    train['price']=price\n",
    "\n",
    "    if sample:\n",
    "        np.random.seed(42)\n",
    "        sample = np.random.permutation(sample)\n",
    "        train = train.loc[sample].reset_index(drop=True)\n",
    "\n",
    "    train = preprocess_text_cols(train)\n",
    "\n",
    "    return train\n",
    "def get_val_idxs(train,n_splits=20):\n",
    "    np.random.seed(42)\n",
    "    cv = KFold(n_splits=n_splits, shuffle=True, random_state=42)\n",
    "    train_idxs, valid_idxs = next(cv.split(train))\n",
    "    return train_idxs,valid_idxs"
   ]
  },
  {
   "cell_type": "code",
   "execution_count": 8,
   "metadata": {},
   "outputs": [],
   "source": [
    "n=1482535 # train shape"
   ]
  },
  {
   "cell_type": "code",
   "execution_count": 9,
   "metadata": {},
   "outputs": [
    {
     "data": {
      "text/plain": [
       "7"
      ]
     },
     "execution_count": 9,
     "metadata": {},
     "output_type": "execute_result"
    }
   ],
   "source": [
    "gc.collect()"
   ]
  },
  {
   "cell_type": "code",
   "execution_count": 10,
   "metadata": {},
   "outputs": [],
   "source": [
    "# train_df,test_df = preprocess_all(int(0.02*n))\n",
    "\n",
    "# train_df.shape,test_df.shape"
   ]
  },
  {
   "cell_type": "code",
   "execution_count": 11,
   "metadata": {},
   "outputs": [
    {
     "data": {
      "text/plain": [
       "(148253, 8)"
      ]
     },
     "execution_count": 11,
     "metadata": {},
     "output_type": "execute_result"
    }
   ],
   "source": [
    "train_df = preprocess_train(int(0.1*n))\n",
    "train_df.shape"
   ]
  },
  {
   "cell_type": "code",
   "execution_count": 12,
   "metadata": {},
   "outputs": [
    {
     "data": {
      "text/plain": [
       "Index(['category1', 'category2', 'category3', 'brand_name', 'text', 'shipping',\n",
       "       'item_condition_id', 'price'],\n",
       "      dtype='object')"
      ]
     },
     "execution_count": 12,
     "metadata": {},
     "output_type": "execute_result"
    }
   ],
   "source": [
    "train_df.columns"
   ]
  },
  {
   "cell_type": "code",
   "execution_count": 13,
   "metadata": {},
   "outputs": [],
   "source": [
    "train_df.price = np.log1p(train_df['price']) # Metric for this is RMSLE, we log them so we can use MSE in NN"
   ]
  },
  {
   "cell_type": "code",
   "execution_count": 14,
   "metadata": {},
   "outputs": [
    {
     "data": {
      "text/html": [
       "<div>\n",
       "<style scoped>\n",
       "    .dataframe tbody tr th:only-of-type {\n",
       "        vertical-align: middle;\n",
       "    }\n",
       "\n",
       "    .dataframe tbody tr th {\n",
       "        vertical-align: top;\n",
       "    }\n",
       "\n",
       "    .dataframe thead th {\n",
       "        text-align: right;\n",
       "    }\n",
       "</style>\n",
       "<table border=\"1\" class=\"dataframe\">\n",
       "  <thead>\n",
       "    <tr style=\"text-align: right;\">\n",
       "      <th></th>\n",
       "      <th>category1</th>\n",
       "      <th>category2</th>\n",
       "      <th>category3</th>\n",
       "      <th>brand_name</th>\n",
       "      <th>text</th>\n",
       "      <th>shipping</th>\n",
       "      <th>item_condition_id</th>\n",
       "      <th>price</th>\n",
       "    </tr>\n",
       "  </thead>\n",
       "  <tbody>\n",
       "    <tr>\n",
       "      <th>0</th>\n",
       "      <td>Kids</td>\n",
       "      <td>Boys 0-24 Mos</td>\n",
       "      <td>One-Pieces</td>\n",
       "      <td>NaN</td>\n",
       "      <td>5 boy 2 piece sets. No brand. Kids Boys 0-24 M...</td>\n",
       "      <td>0</td>\n",
       "      <td>3</td>\n",
       "      <td>2.833213</td>\n",
       "    </tr>\n",
       "    <tr>\n",
       "      <th>1</th>\n",
       "      <td>Women</td>\n",
       "      <td>Athletic Apparel</td>\n",
       "      <td>Pants, Tights, Leggings</td>\n",
       "      <td>Torrid</td>\n",
       "      <td>Torrid sz 2 nwt teal leggings. Torrid. Women A...</td>\n",
       "      <td>1</td>\n",
       "      <td>1</td>\n",
       "      <td>2.890372</td>\n",
       "    </tr>\n",
       "    <tr>\n",
       "      <th>2</th>\n",
       "      <td>Beauty</td>\n",
       "      <td>Tools &amp; Accessories</td>\n",
       "      <td>Mirrors</td>\n",
       "      <td>NaN</td>\n",
       "      <td>DND LED gel nail light (OPI,CND,gelish). No br...</td>\n",
       "      <td>1</td>\n",
       "      <td>1</td>\n",
       "      <td>4.510860</td>\n",
       "    </tr>\n",
       "    <tr>\n",
       "      <th>3</th>\n",
       "      <td>Women</td>\n",
       "      <td>Dresses</td>\n",
       "      <td>Asymmetrical Hem</td>\n",
       "      <td>LuLaRoe</td>\n",
       "      <td>Medium Carly. LuLaRoe. Women Dresses Asymmetri...</td>\n",
       "      <td>0</td>\n",
       "      <td>1</td>\n",
       "      <td>4.127134</td>\n",
       "    </tr>\n",
       "    <tr>\n",
       "      <th>4</th>\n",
       "      <td>Men</td>\n",
       "      <td>Tops</td>\n",
       "      <td>T-shirts</td>\n",
       "      <td>Supreme</td>\n",
       "      <td>Gosha Rubchinsky Small Flag Tee. Supreme. Men ...</td>\n",
       "      <td>0</td>\n",
       "      <td>2</td>\n",
       "      <td>3.091042</td>\n",
       "    </tr>\n",
       "  </tbody>\n",
       "</table>\n",
       "</div>"
      ],
      "text/plain": [
       "  category1            category2                category3 brand_name  \\\n",
       "0      Kids        Boys 0-24 Mos               One-Pieces        NaN   \n",
       "1     Women     Athletic Apparel  Pants, Tights, Leggings     Torrid   \n",
       "2    Beauty  Tools & Accessories                  Mirrors        NaN   \n",
       "3     Women              Dresses         Asymmetrical Hem    LuLaRoe   \n",
       "4       Men                 Tops                 T-shirts    Supreme   \n",
       "\n",
       "                                                text  shipping  \\\n",
       "0  5 boy 2 piece sets. No brand. Kids Boys 0-24 M...         0   \n",
       "1  Torrid sz 2 nwt teal leggings. Torrid. Women A...         1   \n",
       "2  DND LED gel nail light (OPI,CND,gelish). No br...         1   \n",
       "3  Medium Carly. LuLaRoe. Women Dresses Asymmetri...         0   \n",
       "4  Gosha Rubchinsky Small Flag Tee. Supreme. Men ...         0   \n",
       "\n",
       "   item_condition_id     price  \n",
       "0                  3  2.833213  \n",
       "1                  1  2.890372  \n",
       "2                  1  4.510860  \n",
       "3                  1  4.127134  \n",
       "4                  2  3.091042  "
      ]
     },
     "execution_count": 14,
     "metadata": {},
     "output_type": "execute_result"
    }
   ],
   "source": [
    "train_df.head()"
   ]
  },
  {
   "cell_type": "code",
   "execution_count": 15,
   "metadata": {},
   "outputs": [
    {
     "name": "stdout",
     "output_type": "stream",
     "text": [
      "5 boy 2 piece sets. No brand. Kids Boys 0-24 Mos One-Pieces. Boys 5 sets Only flaw is some staining on navy and light blue sweats (knee area) Condition of clothing is good to like new. Brands: Batman, Buster Brown, Calvin Klein, U.S Polo, and Baby headquarters\n",
      "--------------------\n",
      "Torrid sz 2 nwt teal leggings. Torrid. Women Athletic Apparel Pants, Tights, Leggings. No description yet\n",
      "--------------------\n",
      "DND LED gel nail light (OPI,CND,gelish). No brand. Beauty Tools & Accessories Mirrors. Brand new sealed and in box.\n",
      "--------------------\n",
      "Medium Carly. LuLaRoe. Women Dresses Asymmetrical Hem. LuLaRoe\n",
      "--------------------\n"
     ]
    }
   ],
   "source": [
    "for i in range(4):\n",
    "    print(train_df.text[i])\n",
    "    print('-'*20)"
   ]
  },
  {
   "cell_type": "code",
   "execution_count": 16,
   "metadata": {},
   "outputs": [
    {
     "name": "stdout",
     "output_type": "stream",
     "text": [
      "# of continuous feas: 1\n",
      "# of categorical feas: 5\n"
     ]
    },
    {
     "data": {
      "text/plain": [
       "True"
      ]
     },
     "execution_count": 16,
     "metadata": {},
     "output_type": "execute_result"
    }
   ],
   "source": [
    "cat_names=['category1','category2','category3','brand_name','shipping']\n",
    "cont_names= list(set(train_df.columns) - set(cat_names) - {'price','text'})\n",
    "print(f'# of continuous feas: {len(cont_names)}')\n",
    "print(f'# of categorical feas: {len(cat_names)}')\n",
    "dep_var = 'price'\n",
    "procs = [FillMissing,Categorify, Normalize]\n",
    "\n",
    "txt_cols=['text']\n",
    "\n",
    "len(cat_names) + len(cont_names) + 2 == train_df.shape[1]"
   ]
  },
  {
   "cell_type": "code",
   "execution_count": 17,
   "metadata": {},
   "outputs": [
    {
     "data": {
      "text/plain": [
       "(array([     0,      1,      2,      3, ..., 148249, 148250, 148251, 148252]),\n",
       " array([    34,     89,    110,    117, ..., 148230, 148234, 148241, 148246]))"
      ]
     },
     "execution_count": 17,
     "metadata": {},
     "output_type": "execute_result"
    },
    {
     "data": {
      "text/plain": [
       "((140840,), (7413,))"
      ]
     },
     "execution_count": 17,
     "metadata": {},
     "output_type": "execute_result"
    }
   ],
   "source": [
    "train_idxs,val_idxs = get_val_idxs(train_df,n_splits=20)\n",
    "# train_idxs,val_idxs = get_val_idxs(train_df,n_splits=5)\n",
    "train_idxs,val_idxs\n",
    "train_idxs.shape,val_idxs.shape"
   ]
  },
  {
   "cell_type": "code",
   "execution_count": 18,
   "metadata": {},
   "outputs": [],
   "source": [
    "def get_tab_databunch(train_df,bs=100,val_idxs=val_idxs,path = mercari_path):\n",
    "    return (TabularList.from_df(train_df, cat_names, cont_names, procs=procs, path=path)\n",
    "                            .split_by_idx(val_idxs)\n",
    "                            .label_from_df(cols=dep_var,label_cls=FloatList)\n",
    "#                             .add_test(TabularTextList.from_df(test_df, cat_names, cont_names, txt_cols,path=path))\n",
    "                            .databunch(bs=bs))"
   ]
  },
  {
   "cell_type": "code",
   "execution_count": 19,
   "metadata": {},
   "outputs": [],
   "source": [
    "def get_text_databunch(train_df,bs=100,val_idxs=val_idxs,path = mercari_path):\n",
    "    data_lm = load_data(path, 'data_lm.pkl', bs=bs)\n",
    "    return (TextList.from_df(train_df, cols = txt_cols[0], vocab=data_lm.vocab, path=path)\n",
    "                            .split_by_idx(val_idxs)\n",
    "                            .label_from_df(cols=dep_var,label_cls=FloatList)\n",
    "                            .databunch(bs=bs))"
   ]
  },
  {
   "cell_type": "code",
   "execution_count": 20,
   "metadata": {},
   "outputs": [],
   "source": [
    "def get_tabular_learner(data,params,seed=42):\n",
    "    return tabular_learner(data,metrics=[root_mean_squared_error],**params)\n",
    "\n",
    "def get_text_learner(data,params,seed=42):\n",
    "    encoder_name = 'bs60-awdlstm-enc-stage2'\n",
    "    learn = text_classifier_learner(data,AWD_LSTM,metrics=root_mean_squared_error,**params)\n",
    "    learn.load_encoder(encoder_name)\n",
    "    return learn.to_fp32()"
   ]
  },
  {
   "cell_type": "markdown",
   "metadata": {},
   "source": [
    "# Training tabular text with different approach"
   ]
  },
  {
   "cell_type": "code",
   "execution_count": 21,
   "metadata": {},
   "outputs": [],
   "source": [
    "class ConcatDataset(Dataset):\n",
    "    def __init__(self, x1, x2, y): self.x1,self.x2,self.y = x1,x2,y\n",
    "    def __len__(self): return len(self.y)\n",
    "    def __getitem__(self, i): return (self.x1[i], self.x2[i]), self.y[i]\n",
    "    \n",
    "def my_collate(batch):    \n",
    "    x,y = list(zip(*batch))\n",
    "    x1,x2 = list(zip(*x)) # x1 would be (cat,cont), x2 would be numericalized ids for text\n",
    "    x1 = to_data(x1)\n",
    "    x1 = list(zip(*x1))\n",
    "    x1 = torch.stack(x1[0]), torch.stack(x1[1])\n",
    "    x2, y = pad_collate(list(zip(x2, y)), pad_idx=1, pad_first=True)\n",
    "    return (x1, x2), y\n",
    "\n",
    "class ConcatModel(nn.Module):\n",
    "    def __init__(self, mod_tab, mod_nlp, layers, drops,y_range=None): \n",
    "        super().__init__()\n",
    "        self.mod_tab = mod_tab\n",
    "        self.mod_nlp = mod_nlp\n",
    "        lst_layers = []\n",
    "        activs = [nn.ReLU(inplace=True),] * (len(layers)-2) + [None]\n",
    "        for n_in,n_out,p,actn in zip(layers[:-1], layers[1:], drops, activs):\n",
    "            lst_layers += bn_drop_lin(n_in, n_out, p=p, actn=actn)\n",
    "        self.layers = nn.Sequential(*lst_layers)\n",
    "        self.y_range = y_range\n",
    "    def forward(self, *x):\n",
    "        x_tab = self.mod_tab(*x[0])\n",
    "        x_nlp = self.mod_nlp(x[1])[0]\n",
    "        x = torch.cat([x_tab, x_nlp], dim=1)\n",
    "        x = self.layers(x)    \n",
    "        if self.y_range is not None:\n",
    "            x = (self.y_range[1]-self.y_range[0]) * torch.sigmoid(x) + self.y_range[0]\n",
    "        return x"
   ]
  },
  {
   "cell_type": "code",
   "execution_count": 22,
   "metadata": {},
   "outputs": [],
   "source": [
    "def get_data_v2(bs=70,path= mercari_path):\n",
    "    \n",
    "    tab_db = get_tab_databunch(train_df[cat_names + cont_names+ [dep_var]])\n",
    "    text_db = get_text_databunch(train_df[txt_cols +[dep_var]])\n",
    "    \n",
    "    train_ds = ConcatDataset(tab_db.train_ds.x, text_db.train_ds.x, tab_db.train_ds.y)\n",
    "    valid_ds = ConcatDataset(tab_db.valid_ds.x, text_db.valid_ds.x, tab_db.valid_ds.y)\n",
    "    \n",
    "    train_sampler = SortishSampler(text_db.train_ds.x, key=lambda t: len(text_db.train_ds[t][0].data), bs=bs//2)\n",
    "    valid_sampler = SortSampler(text_db.valid_ds.x, key=lambda t: len(text_db.valid_ds[t][0].data))\n",
    "\n",
    "    train_dl = DataLoader(train_ds, bs//2, sampler=train_sampler)\n",
    "    valid_dl = DataLoader(valid_ds, bs, sampler=valid_sampler)\n",
    "    data = DataBunch(train_dl, valid_dl, device=defaults.device, collate_fn=my_collate, path=path)\n",
    "    return data,tab_db,text_db"
   ]
  },
  {
   "cell_type": "code",
   "execution_count": 23,
   "metadata": {},
   "outputs": [],
   "source": [
    "def get_learner_v2(data,tab_db,text_db):\n",
    "    params={\n",
    "    'layers':[500],\n",
    "#     'ps': [0.001,0,0],\n",
    "    'emb_drop': 0.,\n",
    "#     'y_range': [0,6],\n",
    "    'use_bn': True,    \n",
    "    }\n",
    "    tab_learner = get_tabular_learner(tab_db,params)\n",
    "\n",
    "    tab_learner.model.layers = tab_learner.model.layers[:-2]\n",
    "    \n",
    "    params={\n",
    "        'lin_ftrs':[300],\n",
    "    #     'ps': [0.001],\n",
    "        'bptt':80,\n",
    "        'max_len':20*80,\n",
    "        'drop_mult': 1., \n",
    "   \n",
    "    }\n",
    "\n",
    "    text_learner = get_text_learner(text_db,params)\n",
    "    \n",
    "    text_learner.model[-1].layers =text_learner.model[-1].layers[:-3] \n",
    "    \n",
    "    lin_layers = [500+300, 1]\n",
    "    ps = [0.]\n",
    "    model = ConcatModel(tab_learner.model, text_learner.model, lin_layers, ps,y_range=[0,6])\n",
    "    \n",
    "    loss_func = MSELossFlat()\n",
    "    layer_groups = [nn.Sequential(*flatten_model(text_learner.layer_groups[0])),\n",
    "                    nn.Sequential(*flatten_model(text_learner.layer_groups[1])),\n",
    "                    nn.Sequential(*flatten_model(text_learner.layer_groups[2])),\n",
    "                    nn.Sequential(*flatten_model(text_learner.layer_groups[3])),\n",
    "                    nn.Sequential(*(flatten_model(text_learner.layer_groups[4]) + \n",
    "                                    flatten_model(model.mod_tab) +\n",
    "                                    flatten_model(model.layers)))] \n",
    "    learn = Learner(data, model, loss_func=loss_func, metrics=root_mean_squared_error, layer_groups=layer_groups)\n",
    "    return learn"
   ]
  },
  {
   "cell_type": "code",
   "execution_count": 24,
   "metadata": {},
   "outputs": [],
   "source": [
    "data,tab_db,text_db = get_data_v2(bs=200)"
   ]
  },
  {
   "cell_type": "code",
   "execution_count": 25,
   "metadata": {},
   "outputs": [],
   "source": [
    "learner = get_learner_v2(data,tab_db,text_db)"
   ]
  },
  {
   "cell_type": "code",
   "execution_count": 26,
   "metadata": {},
   "outputs": [
    {
     "data": {
      "text/plain": [
       "56"
      ]
     },
     "execution_count": 26,
     "metadata": {},
     "output_type": "execute_result"
    }
   ],
   "source": [
    "gc.collect()"
   ]
  },
  {
   "cell_type": "code",
   "execution_count": 36,
   "metadata": {
    "scrolled": false
   },
   "outputs": [
    {
     "data": {
      "text/plain": [
       "5"
      ]
     },
     "execution_count": 36,
     "metadata": {},
     "output_type": "execute_result"
    },
    {
     "data": {
      "text/plain": [
       "ConcatModel(\n",
       "  (mod_tab): TabularModel(\n",
       "    (embeds): ModuleList(\n",
       "      (0): Embedding(11, 6)\n",
       "      (1): Embedding(112, 22)\n",
       "      (2): Embedding(730, 64)\n",
       "      (3): Embedding(2372, 124)\n",
       "      (4): Embedding(3, 3)\n",
       "    )\n",
       "    (emb_drop): Dropout(p=0.0)\n",
       "    (bn_cont): BatchNorm1d(1, eps=1e-05, momentum=0.1, affine=True, track_running_stats=True)\n",
       "    (layers): Sequential(\n",
       "      (0): Linear(in_features=220, out_features=500, bias=True)\n",
       "      (1): ReLU(inplace)\n",
       "    )\n",
       "  )\n",
       "  (mod_nlp): SequentialRNN(\n",
       "    (0): MultiBatchEncoder(\n",
       "      (module): AWD_LSTM(\n",
       "        (encoder): Embedding(33781, 400, padding_idx=1)\n",
       "        (encoder_dp): EmbeddingDropout(\n",
       "          (emb): Embedding(33781, 400, padding_idx=1)\n",
       "        )\n",
       "        (rnns): ModuleList(\n",
       "          (0): WeightDropout(\n",
       "            (module): LSTM(400, 1150, batch_first=True)\n",
       "          )\n",
       "          (1): WeightDropout(\n",
       "            (module): LSTM(1150, 1150, batch_first=True)\n",
       "          )\n",
       "          (2): WeightDropout(\n",
       "            (module): LSTM(1150, 400, batch_first=True)\n",
       "          )\n",
       "        )\n",
       "        (input_dp): RNNDropout()\n",
       "        (hidden_dps): ModuleList(\n",
       "          (0): RNNDropout()\n",
       "          (1): RNNDropout()\n",
       "          (2): RNNDropout()\n",
       "        )\n",
       "      )\n",
       "    )\n",
       "    (1): PoolingLinearClassifier(\n",
       "      (layers): Sequential(\n",
       "        (0): BatchNorm1d(1200, eps=1e-05, momentum=0.1, affine=True, track_running_stats=True)\n",
       "        (1): Dropout(p=0.4)\n",
       "        (2): Linear(in_features=1200, out_features=300, bias=True)\n",
       "        (3): ReLU(inplace)\n",
       "      )\n",
       "    )\n",
       "  )\n",
       "  (layers): Sequential(\n",
       "    (0): BatchNorm1d(800, eps=1e-05, momentum=0.1, affine=True, track_running_stats=True)\n",
       "    (1): Linear(in_features=800, out_features=1, bias=True)\n",
       "  )\n",
       ")"
      ]
     },
     "execution_count": 36,
     "metadata": {},
     "output_type": "execute_result"
    }
   ],
   "source": [
    "len(learner.layer_groups)\n",
    "learner.model"
   ]
  },
  {
   "cell_type": "code",
   "execution_count": 26,
   "metadata": {
    "scrolled": true
   },
   "outputs": [
    {
     "data": {
      "text/html": [],
      "text/plain": [
       "<IPython.core.display.HTML object>"
      ]
     },
     "metadata": {},
     "output_type": "display_data"
    },
    {
     "name": "stdout",
     "output_type": "stream",
     "text": [
      "LR Finder is complete, type {learner_name}.recorder.plot() to see the graph.\n"
     ]
    },
    {
     "data": {
      "image/png": "[encoded data removed]",
      "text/plain": [
       "<Figure size 432x288 with 1 Axes>"
      ]
     },
     "metadata": {
      "needs_background": "light"
     },
     "output_type": "display_data"
    }
   ],
   "source": [
    "learner.freeze()\n",
    "learner.lr_find()\n",
    "learner.recorder.plot(skip_end=1)"
   ]
  },
  {
   "cell_type": "code",
   "execution_count": 31,
   "metadata": {},
   "outputs": [
    {
     "data": {
      "text/plain": [
       "0"
      ]
     },
     "execution_count": 31,
     "metadata": {},
     "output_type": "execute_result"
    }
   ],
   "source": [
    "gc.collect()"
   ]
  },
  {
   "cell_type": "code",
   "execution_count": 43,
   "metadata": {},
   "outputs": [
    {
     "data": {
      "text/html": [
       "Total time: 02:00 <p><table style='width:375px; margin-bottom:10px'>\n",
       "  <tr>\n",
       "    <th>epoch</th>\n",
       "    <th>train_loss</th>\n",
       "    <th>valid_loss</th>\n",
       "    <th>root_mean_squared_error</th>\n",
       "    <th>time</th>\n",
       "  </tr>\n",
       "  <tr>\n",
       "    <th>0</th>\n",
       "    <th>0.314951</th>\n",
       "    <th>0.297387</th>\n",
       "    <th>0.542975</th>\n",
       "    <th>02:00</th>\n",
       "  </tr>\n",
       "</table>\n"
      ],
      "text/plain": [
       "<IPython.core.display.HTML object>"
      ]
     },
     "metadata": {},
     "output_type": "display_data"
    }
   ],
   "source": [
    "learner.freeze()\n",
    "learner.fit_one_cycle(1, 2e-3, moms=(0.8, 0.7))"
   ]
  },
  {
   "cell_type": "code",
   "execution_count": 44,
   "metadata": {},
   "outputs": [],
   "source": [
    "learner.save('tmp1')"
   ]
  },
  {
   "cell_type": "code",
   "execution_count": 46,
   "metadata": {},
   "outputs": [
    {
     "name": "stderr",
     "output_type": "stream",
     "text": [
      "/home/quantran/anaconda3/envs/python37/lib/python3.7/site-packages/torch/serialization.py:250: UserWarning: Couldn't retrieve source code for container of type ConcatModel. It won't be checked for correctness upon loading.\n",
      "  \"type \" + obj.__name__ + \". It won't be checked \"\n",
      "/home/quantran/anaconda3/envs/python37/lib/python3.7/site-packages/fastai/basic_train.py:324: UserWarning: Wasn't able to properly load the optimizer state again.\n",
      "  except: warn(\"Wasn't able to properly load the optimizer state again.\")\n"
     ]
    },
    {
     "data": {
      "text/html": [],
      "text/plain": [
       "<IPython.core.display.HTML object>"
      ]
     },
     "metadata": {},
     "output_type": "display_data"
    },
    {
     "name": "stdout",
     "output_type": "stream",
     "text": [
      "LR Finder is complete, type {learner_name}.recorder.plot() to see the graph.\n"
     ]
    },
    {
     "data": {
      "image/png": "[encoded data removed]",
      "text/plain": [
       "<Figure size 432x288 with 1 Axes>"
      ]
     },
     "metadata": {
      "needs_background": "light"
     },
     "output_type": "display_data"
    }
   ],
   "source": [
    "_=learner.load('tmp1')\n",
    "learner.freeze_to(-2)\n",
    "learner.lr_find()\n",
    "learner.recorder.plot(skip_end=1)"
   ]
  },
  {
   "cell_type": "code",
   "execution_count": 47,
   "metadata": {},
   "outputs": [
    {
     "name": "stderr",
     "output_type": "stream",
     "text": [
      "/home/quantran/anaconda3/envs/python37/lib/python3.7/site-packages/torch/serialization.py:250: UserWarning: Couldn't retrieve source code for container of type ConcatModel. It won't be checked for correctness upon loading.\n",
      "  \"type \" + obj.__name__ + \". It won't be checked \"\n"
     ]
    },
    {
     "data": {
      "text/html": [
       "Total time: 02:13 <p><table style='width:375px; margin-bottom:10px'>\n",
       "  <tr>\n",
       "    <th>epoch</th>\n",
       "    <th>train_loss</th>\n",
       "    <th>valid_loss</th>\n",
       "    <th>root_mean_squared_error</th>\n",
       "    <th>time</th>\n",
       "  </tr>\n",
       "  <tr>\n",
       "    <th>0</th>\n",
       "    <th>0.311178</th>\n",
       "    <th>0.288988</th>\n",
       "    <th>0.535144</th>\n",
       "    <th>02:13</th>\n",
       "  </tr>\n",
       "</table>\n"
      ],
      "text/plain": [
       "<IPython.core.display.HTML object>"
      ]
     },
     "metadata": {},
     "output_type": "display_data"
    }
   ],
   "source": [
    "_=learner.load('tmp1')\n",
    "learner.freeze_to(-2)\n",
    "\n",
    "learner.fit_one_cycle(1, slice(1e-03/(2.6**4),1e-03), moms=(0.8, 0.7))"
   ]
  },
  {
   "cell_type": "code",
   "execution_count": 48,
   "metadata": {},
   "outputs": [],
   "source": [
    "learner.save('tmp2')"
   ]
  },
  {
   "cell_type": "code",
   "execution_count": 50,
   "metadata": {},
   "outputs": [
    {
     "name": "stderr",
     "output_type": "stream",
     "text": [
      "/home/quantran/anaconda3/envs/python37/lib/python3.7/site-packages/torch/serialization.py:250: UserWarning: Couldn't retrieve source code for container of type ConcatModel. It won't be checked for correctness upon loading.\n",
      "  \"type \" + obj.__name__ + \". It won't be checked \"\n",
      "/home/quantran/anaconda3/envs/python37/lib/python3.7/site-packages/fastai/basic_train.py:324: UserWarning: Wasn't able to properly load the optimizer state again.\n",
      "  except: warn(\"Wasn't able to properly load the optimizer state again.\")\n"
     ]
    },
    {
     "data": {
      "text/html": [],
      "text/plain": [
       "<IPython.core.display.HTML object>"
      ]
     },
     "metadata": {},
     "output_type": "display_data"
    },
    {
     "name": "stdout",
     "output_type": "stream",
     "text": [
      "LR Finder is complete, type {learner_name}.recorder.plot() to see the graph.\n"
     ]
    },
    {
     "data": {
      "image/png": "[encoded data removed]",
      "text/plain": [
       "<Figure size 432x288 with 1 Axes>"
      ]
     },
     "metadata": {
      "needs_background": "light"
     },
     "output_type": "display_data"
    }
   ],
   "source": [
    "_=learner.load('tmp2')\n",
    "learner.freeze_to(-3)\n",
    "learner.lr_find()\n",
    "learner.recorder.plot(skip_end=1)"
   ]
  },
  {
   "cell_type": "code",
   "execution_count": 52,
   "metadata": {},
   "outputs": [
    {
     "name": "stderr",
     "output_type": "stream",
     "text": [
      "/home/quantran/anaconda3/envs/python37/lib/python3.7/site-packages/torch/serialization.py:250: UserWarning: Couldn't retrieve source code for container of type ConcatModel. It won't be checked for correctness upon loading.\n",
      "  \"type \" + obj.__name__ + \". It won't be checked \"\n"
     ]
    },
    {
     "data": {
      "text/html": [
       "Total time: 03:45 <p><table style='width:375px; margin-bottom:10px'>\n",
       "  <tr>\n",
       "    <th>epoch</th>\n",
       "    <th>train_loss</th>\n",
       "    <th>valid_loss</th>\n",
       "    <th>root_mean_squared_error</th>\n",
       "    <th>time</th>\n",
       "  </tr>\n",
       "  <tr>\n",
       "    <th>0</th>\n",
       "    <th>0.294356</th>\n",
       "    <th>0.280014</th>\n",
       "    <th>0.526876</th>\n",
       "    <th>03:45</th>\n",
       "  </tr>\n",
       "</table>\n"
      ],
      "text/plain": [
       "<IPython.core.display.HTML object>"
      ]
     },
     "metadata": {},
     "output_type": "display_data"
    }
   ],
   "source": [
    "_=learner.load('tmp2')\n",
    "learner.freeze_to(-3)\n",
    "\n",
    "learner.fit_one_cycle(1, slice(3e-04/(2.6**4),3e-04), moms=(0.8, 0.7))"
   ]
  },
  {
   "cell_type": "code",
   "execution_count": 53,
   "metadata": {},
   "outputs": [],
   "source": [
    "# learner.save('tmp3')"
   ]
  },
  {
   "cell_type": "code",
   "execution_count": 27,
   "metadata": {},
   "outputs": [
    {
     "name": "stderr",
     "output_type": "stream",
     "text": [
      "/home/quantran/anaconda3/envs/python37/lib/python3.7/site-packages/torch/serialization.py:250: UserWarning: Couldn't retrieve source code for container of type ConcatModel. It won't be checked for correctness upon loading.\n",
      "  \"type \" + obj.__name__ + \". It won't be checked \"\n"
     ]
    },
    {
     "data": {
      "text/html": [],
      "text/plain": [
       "<IPython.core.display.HTML object>"
      ]
     },
     "metadata": {},
     "output_type": "display_data"
    },
    {
     "name": "stdout",
     "output_type": "stream",
     "text": [
      "LR Finder is complete, type {learner_name}.recorder.plot() to see the graph.\n"
     ]
    },
    {
     "data": {
      "image/png": "[encoded data removed]",
      "text/plain": [
       "<Figure size 432x288 with 1 Axes>"
      ]
     },
     "metadata": {
      "needs_background": "light"
     },
     "output_type": "display_data"
    }
   ],
   "source": [
    "_=learner.load('tmp3')\n",
    "learner.unfreeze()\n",
    "learner.lr_find()\n",
    "learner.recorder.plot(skip_end=1)"
   ]
  },
  {
   "cell_type": "code",
   "execution_count": 28,
   "metadata": {},
   "outputs": [
    {
     "name": "stderr",
     "output_type": "stream",
     "text": [
      "/home/quantran/anaconda3/envs/python37/lib/python3.7/site-packages/torch/serialization.py:250: UserWarning: Couldn't retrieve source code for container of type ConcatModel. It won't be checked for correctness upon loading.\n",
      "  \"type \" + obj.__name__ + \". It won't be checked \"\n"
     ]
    },
    {
     "data": {
      "text/html": [],
      "text/plain": [
       "<IPython.core.display.HTML object>"
      ]
     },
     "metadata": {},
     "output_type": "display_data"
    },
    {
     "name": "stdout",
     "output_type": "stream",
     "text": [
      "LR Finder is complete, type {learner_name}.recorder.plot() to see the graph.\n"
     ]
    },
    {
     "data": {
      "image/png": "[encoded data removed]",
      "text/plain": [
       "<Figure size 432x288 with 1 Axes>"
      ]
     },
     "metadata": {
      "needs_background": "light"
     },
     "output_type": "display_data"
    }
   ],
   "source": [
    "_=learner.load('tmp3')\n",
    "learner.unfreeze()\n",
    "learner.lr_find()\n",
    "learner.recorder.plot(skip_end=1)"
   ]
  },
  {
   "cell_type": "code",
   "execution_count": 29,
   "metadata": {},
   "outputs": [
    {
     "name": "stderr",
     "output_type": "stream",
     "text": [
      "/home/quantran/anaconda3/envs/python37/lib/python3.7/site-packages/torch/serialization.py:250: UserWarning: Couldn't retrieve source code for container of type ConcatModel. It won't be checked for correctness upon loading.\n",
      "  \"type \" + obj.__name__ + \". It won't be checked \"\n"
     ]
    },
    {
     "data": {
      "text/html": [
       "Total time: 25:50 <p><table style='width:375px; margin-bottom:10px'>\n",
       "  <tr>\n",
       "    <th>epoch</th>\n",
       "    <th>train_loss</th>\n",
       "    <th>valid_loss</th>\n",
       "    <th>root_mean_squared_error</th>\n",
       "    <th>time</th>\n",
       "  </tr>\n",
       "  <tr>\n",
       "    <th>0</th>\n",
       "    <th>0.288560</th>\n",
       "    <th>0.277208</th>\n",
       "    <th>0.524394</th>\n",
       "    <th>05:14</th>\n",
       "  </tr>\n",
       "  <tr>\n",
       "    <th>1</th>\n",
       "    <th>0.283084</th>\n",
       "    <th>0.281439</th>\n",
       "    <th>0.528282</th>\n",
       "    <th>05:13</th>\n",
       "  </tr>\n",
       "  <tr>\n",
       "    <th>2</th>\n",
       "    <th>0.287060</th>\n",
       "    <th>0.275966</th>\n",
       "    <th>0.522864</th>\n",
       "    <th>04:42</th>\n",
       "  </tr>\n",
       "  <tr>\n",
       "    <th>3</th>\n",
       "    <th>0.285103</th>\n",
       "    <th>0.275280</th>\n",
       "    <th>0.522361</th>\n",
       "    <th>05:30</th>\n",
       "  </tr>\n",
       "  <tr>\n",
       "    <th>4</th>\n",
       "    <th>0.279331</th>\n",
       "    <th>0.273984</th>\n",
       "    <th>0.521214</th>\n",
       "    <th>05:08</th>\n",
       "  </tr>\n",
       "</table>\n"
      ],
      "text/plain": [
       "<IPython.core.display.HTML object>"
      ]
     },
     "metadata": {},
     "output_type": "display_data"
    }
   ],
   "source": [
    "_=learner.load('tmp3')\n",
    "learner.unfreeze()\n",
    "\n",
    "learner.fit_one_cycle(5, slice(8e-05/(2.6**4),1e-04), moms=(0.8, 0.7))"
   ]
  },
  {
   "cell_type": "code",
   "execution_count": null,
   "metadata": {},
   "outputs": [],
   "source": []
  },
  {
   "cell_type": "code",
   "execution_count": 18,
   "metadata": {},
   "outputs": [
    {
     "data": {
      "text/html": [
       "Total time: 6:51:07 <p><table style='width:375px; margin-bottom:10px'>\n",
       "  <tr>\n",
       "    <th>epoch</th>\n",
       "    <th>train_loss</th>\n",
       "    <th>valid_loss</th>\n",
       "    <th>root_mean_squared_error</th>\n",
       "    <th>time</th>\n",
       "  </tr>\n",
       "  <tr>\n",
       "    <th>0</th>\n",
       "    <th>0.308574</th>\n",
       "    <th>0.297962</th>\n",
       "    <th>0.543225</th>\n",
       "    <th>1:08:28</th>\n",
       "  </tr>\n",
       "  <tr>\n",
       "    <th>1</th>\n",
       "    <th>0.322636</th>\n",
       "    <th>0.325656</th>\n",
       "    <th>0.565951</th>\n",
       "    <th>1:08:32</th>\n",
       "  </tr>\n",
       "  <tr>\n",
       "    <th>2</th>\n",
       "    <th>0.308093</th>\n",
       "    <th>0.320362</th>\n",
       "    <th>0.561940</th>\n",
       "    <th>1:08:28</th>\n",
       "  </tr>\n",
       "  <tr>\n",
       "    <th>3</th>\n",
       "    <th>0.301868</th>\n",
       "    <th>0.287178</th>\n",
       "    <th>0.532738</th>\n",
       "    <th>1:08:28</th>\n",
       "  </tr>\n",
       "  <tr>\n",
       "    <th>4</th>\n",
       "    <th>0.287716</th>\n",
       "    <th>0.280896</th>\n",
       "    <th>0.527114</th>\n",
       "    <th>1:08:32</th>\n",
       "  </tr>\n",
       "  <tr>\n",
       "    <th>5</th>\n",
       "    <th>0.283715</th>\n",
       "    <th>0.277816</th>\n",
       "    <th>0.523942</th>\n",
       "    <th>1:08:35</th>\n",
       "  </tr>\n",
       "</table>\n"
      ],
      "text/plain": [
       "<IPython.core.display.HTML object>"
      ]
     },
     "metadata": {},
     "output_type": "display_data"
    },
    {
     "name": "stdout",
     "output_type": "stream",
     "text": [
      "Better model found at epoch 0 with root_mean_squared_error value: 0.543224573135376.\n",
      "Better model found at epoch 3 with root_mean_squared_error value: 0.5327377915382385.\n",
      "Better model found at epoch 4 with root_mean_squared_error value: 0.5271139144897461.\n",
      "Better model found at epoch 5 with root_mean_squared_error value: 0.5239419341087341.\n"
     ]
    }
   ],
   "source": [
    "# # train on all data from training. Took a whole night\n",
    "# learn.fit_one_cycle(6,max_lr=1e-02,pct_start=0.3,moms=(0.8,0.7))a"
   ]
  },
  {
   "cell_type": "code",
   "execution_count": null,
   "metadata": {},
   "outputs": [],
   "source": []
  }
 ],
 "metadata": {
  "kernelspec": {
   "display_name": "Python 3",
   "language": "python",
   "name": "python3"
  },
  "language_info": {
   "codemirror_mode": {
    "name": "ipython",
    "version": 3
   },
   "file_extension": ".py",
   "mimetype": "text/x-python",
   "name": "python",
   "nbconvert_exporter": "python",
   "pygments_lexer": "ipython3",
   "version": "3.7.1"
  }
 },
 "nbformat": 4,
 "nbformat_minor": 2
}

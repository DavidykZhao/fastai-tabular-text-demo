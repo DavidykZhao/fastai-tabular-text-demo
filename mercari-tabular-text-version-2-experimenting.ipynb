{
 "cells": [
  {
   "cell_type": "markdown",
   "metadata": {
    "heading_collapsed": true
   },
   "source": [
    "# Train tabular model/ text model/ new tabular+text model"
   ]
  },
  {
   "cell_type": "markdown",
   "metadata": {
    "hidden": true
   },
   "source": [
    "From https://nbviewer.jupyter.org/gist/joshfp/b62b76eae95e6863cb511997b5a63118/5.full-deep-learning.ipynb"
   ]
  },
  {
   "cell_type": "code",
   "execution_count": 1,
   "metadata": {
    "hidden": true
   },
   "outputs": [],
   "source": [
    "from IPython.core.interactiveshell import InteractiveShell\n",
    "InteractiveShell.ast_node_interactivity = \"all\""
   ]
  },
  {
   "cell_type": "code",
   "execution_count": 2,
   "metadata": {
    "hidden": true
   },
   "outputs": [],
   "source": [
    "from sklearn.model_selection import KFold"
   ]
  },
  {
   "cell_type": "code",
   "execution_count": 3,
   "metadata": {
    "hidden": true
   },
   "outputs": [],
   "source": [
    "from fastai.callbacks.tracker import *\n",
    "from fastai.text import *\n",
    "from fastai.tabular import *"
   ]
  },
  {
   "cell_type": "code",
   "execution_count": 4,
   "metadata": {
    "hidden": true
   },
   "outputs": [],
   "source": [
    "def reset_seed(seed=42):\n",
    "    random.seed(seed)\n",
    "    os.environ['PYTHONHASHSEED'] = str(seed)\n",
    "#     tf.set_random_seed(seed)\n",
    "    np.random.seed(seed)\n",
    "    torch.manual_seed(seed)\n",
    "    torch.backends.cudnn.deterministic = True\n",
    "    if torch.cuda.is_available(): \n",
    "        torch.cuda.manual_seed(seed)\n",
    "        torch.cuda.manual_seed_all(seed)\n",
    "reset_seed()"
   ]
  },
  {
   "cell_type": "code",
   "execution_count": 5,
   "metadata": {
    "hidden": true
   },
   "outputs": [],
   "source": [
    "mercari_path = Path('data/')"
   ]
  },
  {
   "cell_type": "code",
   "execution_count": 6,
   "metadata": {
    "hidden": true
   },
   "outputs": [
    {
     "name": "stdout",
     "output_type": "stream",
     "text": [
      "\n",
      "\n",
      "```text\n",
      "=== Software === \n",
      "python        : 3.7.1\n",
      "fastai        : 1.0.51\n",
      "fastprogress  : 0.1.19\n",
      "torch         : 1.0.0\n",
      "nvidia driver : 410.104\n",
      "torch cuda    : 9.0.176 / is available\n",
      "torch cudnn   : 7401 / is enabled\n",
      "\n",
      "=== Hardware === \n",
      "nvidia gpus   : 1\n",
      "torch devices : 1\n",
      "  - gpu0      : 8116MB | GeForce GTX 1080\n",
      "\n",
      "=== Environment === \n",
      "platform      : Linux-4.15.0-47-generic-x86_64-with-debian-stretch-sid\n",
      "distro        : #50~16.04.1-Ubuntu SMP Fri Mar 15 16:06:21 UTC 2019\n",
      "conda env     : python37\n",
      "python        : /home/quantran/anaconda3/envs/python37/bin/python\n",
      "sys.path      : \n",
      "/home/quantran/kwon/kaggle/mercari\n",
      "/home/quantran/anaconda3/envs/python37/lib/python37.zip\n",
      "/home/quantran/anaconda3/envs/python37/lib/python3.7\n",
      "/home/quantran/anaconda3/envs/python37/lib/python3.7/lib-dynload\n",
      "/home/quantran/anaconda3/envs/python37/lib/python3.7/site-packages\n",
      "/home/quantran/anaconda3/envs/python37/lib/python3.7/site-packages/IPython/extensions\n",
      "/home/quantran/.ipython\n",
      "```\n",
      "\n",
      "Please make sure to include opening/closing ``` when you paste into forums/github to make the reports appear formatted as code sections.\n",
      "\n",
      "Optional package(s) to enhance the diagnostics can be installed with:\n",
      "pip install distro\n",
      "Once installed, re-run this utility to get the additional information\n"
     ]
    }
   ],
   "source": [
    "from fastai.utils.collect_env import show_install\n",
    "show_install()"
   ]
  },
  {
   "cell_type": "markdown",
   "metadata": {
    "heading_collapsed": true
   },
   "source": [
    "# Prepare data"
   ]
  },
  {
   "cell_type": "code",
   "execution_count": 7,
   "metadata": {
    "hidden": true
   },
   "outputs": [],
   "source": [
    "def preprocess_text_cols(df: pd.DataFrame) -> pd.DataFrame:\n",
    "  \n",
    "    df['category_name'] = df['category_name'].fillna('//')\n",
    "    df['category1'] = df['category_name'].apply(lambda x : x.split('/')[0].strip())\n",
    "    df.loc[df.category1=='','category1']= np.NaN\n",
    "    df['category2'] = df['category_name'].apply(lambda x : x.split('/')[1].strip())\n",
    "    df.loc[df.category2=='','category2']= np.NaN\n",
    "    df['category3'] = df['category_name'].apply(lambda x : x.split('/')[2].strip())\n",
    "    df.loc[df.category3=='','category3']= np.NaN\n",
    "    df['category_name'] = df['category_name'].apply( lambda x : ' '.join( x.split('/') ).strip() )\n",
    "    df.loc[df.category_name=='','category_name']= 'No category' # let this info in when concatenating text for RNN\n",
    "    \n",
    "    df_bn_fillna = df['brand_name'].fillna('No brand')\n",
    "    df['text'] = (df['name'].fillna('No name') + '. ' + df_bn_fillna + '. ' + \n",
    "                  df['category_name'] + '. ' + df['item_description'].fillna('No description'))\n",
    "    return df[['category1','category2','category3','brand_name', 'text', 'shipping', 'item_condition_id','price']]\n",
    "\n",
    "def preprocess_all(sample=None):\n",
    "    train = pd.read_table(mercari_path/'train.tsv').drop('train_id',axis=1)\n",
    "    price = train.price.values\n",
    "    train=train.drop('price',axis=1)\n",
    "    train['price']=price\n",
    "    \n",
    "    test = pd.read_table(mercari_path/'test_stg2.tsv').drop('test_id',axis=1)\n",
    "    test['price'] = np.NAN\n",
    "    train = train[train['price'] > 0].reset_index(drop=True)\n",
    "    all_df = pd.concat([train,test],axis=0).reset_index(drop=True)\n",
    "    del train\n",
    "    del test\n",
    "    gc.collect()\n",
    "\n",
    "    all_df = preprocess_text_cols(all_df)\n",
    "    train_df = all_df[~all_df.price.isnull()]\n",
    "    test_df = all_df[all_df.price.isnull()]\n",
    "    del all_df\n",
    "    gc.collect()\n",
    "    \n",
    "    if sample:\n",
    "        np.random.seed(42)\n",
    "        sample = np.random.permutation(sample)\n",
    "        train_df = train_df.loc[sample].reset_index(drop=True)\n",
    "        \n",
    "    test_df= test_df.drop('price',axis=1)    \n",
    "    return train_df,test_df\n",
    "\n",
    "def preprocess_train(sample=None):\n",
    "    train = pd.read_table(mercari_path/'train.tsv').drop('train_id',axis=1)\n",
    "    price = train.price.values\n",
    "    train=train.drop('price',axis=1)\n",
    "    train['price']=price\n",
    "\n",
    "    if sample:\n",
    "        np.random.seed(42)\n",
    "        sample = np.random.permutation(sample)\n",
    "        train = train.loc[sample].reset_index(drop=True)\n",
    "\n",
    "    train = preprocess_text_cols(train)\n",
    "\n",
    "    return train\n",
    "def get_val_idxs(train,n_splits=20):\n",
    "    np.random.seed(42)\n",
    "    cv = KFold(n_splits=n_splits, shuffle=True, random_state=42)\n",
    "    train_idxs, valid_idxs = next(cv.split(train))\n",
    "    return train_idxs,valid_idxs"
   ]
  },
  {
   "cell_type": "code",
   "execution_count": 8,
   "metadata": {
    "hidden": true
   },
   "outputs": [],
   "source": [
    "n=1482535 # train shape"
   ]
  },
  {
   "cell_type": "code",
   "execution_count": 9,
   "metadata": {
    "hidden": true
   },
   "outputs": [
    {
     "data": {
      "text/plain": [
       "7"
      ]
     },
     "execution_count": 9,
     "metadata": {},
     "output_type": "execute_result"
    }
   ],
   "source": [
    "gc.collect()"
   ]
  },
  {
   "cell_type": "code",
   "execution_count": 10,
   "metadata": {
    "hidden": true
   },
   "outputs": [
    {
     "data": {
      "text/plain": [
       "((29650, 8), (3460725, 7))"
      ]
     },
     "execution_count": 10,
     "metadata": {},
     "output_type": "execute_result"
    }
   ],
   "source": [
    "train_df,test_df = preprocess_all(int(0.02*n))\n",
    "\n",
    "train_df.shape,test_df.shape"
   ]
  },
  {
   "cell_type": "code",
   "execution_count": 36,
   "metadata": {
    "hidden": true
   },
   "outputs": [
    {
     "data": {
      "text/plain": [
       "(1482535, 8)"
      ]
     },
     "execution_count": 36,
     "metadata": {},
     "output_type": "execute_result"
    }
   ],
   "source": [
    "# train_df = preprocess_train()\n",
    "# train_df.shape"
   ]
  },
  {
   "cell_type": "code",
   "execution_count": 11,
   "metadata": {
    "hidden": true
   },
   "outputs": [
    {
     "data": {
      "text/plain": [
       "Index(['category1', 'category2', 'category3', 'brand_name', 'text', 'shipping',\n",
       "       'item_condition_id', 'price'],\n",
       "      dtype='object')"
      ]
     },
     "execution_count": 11,
     "metadata": {},
     "output_type": "execute_result"
    }
   ],
   "source": [
    "train_df.columns"
   ]
  },
  {
   "cell_type": "code",
   "execution_count": 12,
   "metadata": {
    "hidden": true
   },
   "outputs": [],
   "source": [
    "train_df.price = np.log1p(train_df['price']) # Metric for this is RMSLE, we log them so we can use MSE in NN"
   ]
  },
  {
   "cell_type": "code",
   "execution_count": 13,
   "metadata": {
    "hidden": true
   },
   "outputs": [
    {
     "data": {
      "text/html": [
       "<div>\n",
       "<style scoped>\n",
       "    .dataframe tbody tr th:only-of-type {\n",
       "        vertical-align: middle;\n",
       "    }\n",
       "\n",
       "    .dataframe tbody tr th {\n",
       "        vertical-align: top;\n",
       "    }\n",
       "\n",
       "    .dataframe thead th {\n",
       "        text-align: right;\n",
       "    }\n",
       "</style>\n",
       "<table border=\"1\" class=\"dataframe\">\n",
       "  <thead>\n",
       "    <tr style=\"text-align: right;\">\n",
       "      <th></th>\n",
       "      <th>category1</th>\n",
       "      <th>category2</th>\n",
       "      <th>category3</th>\n",
       "      <th>brand_name</th>\n",
       "      <th>text</th>\n",
       "      <th>shipping</th>\n",
       "      <th>item_condition_id</th>\n",
       "      <th>price</th>\n",
       "    </tr>\n",
       "  </thead>\n",
       "  <tbody>\n",
       "    <tr>\n",
       "      <th>0</th>\n",
       "      <td>Beauty</td>\n",
       "      <td>Makeup</td>\n",
       "      <td>Face</td>\n",
       "      <td>NaN</td>\n",
       "      <td>Primer &amp; Brush Duo. No brand. Beauty Makeup Fa...</td>\n",
       "      <td>0</td>\n",
       "      <td>2</td>\n",
       "      <td>2.833213</td>\n",
       "    </tr>\n",
       "    <tr>\n",
       "      <th>1</th>\n",
       "      <td>Women</td>\n",
       "      <td>Dresses</td>\n",
       "      <td>Above Knee, Mini</td>\n",
       "      <td>Bebe</td>\n",
       "      <td>Bebe black feather dress. Bebe. Women Dresses ...</td>\n",
       "      <td>0</td>\n",
       "      <td>2</td>\n",
       "      <td>3.555348</td>\n",
       "    </tr>\n",
       "    <tr>\n",
       "      <th>2</th>\n",
       "      <td>Women</td>\n",
       "      <td>Athletic Apparel</td>\n",
       "      <td>Jackets</td>\n",
       "      <td>NaN</td>\n",
       "      <td>For Kayla-do not buy. No brand. Women Athletic...</td>\n",
       "      <td>1</td>\n",
       "      <td>1</td>\n",
       "      <td>3.258097</td>\n",
       "    </tr>\n",
       "    <tr>\n",
       "      <th>3</th>\n",
       "      <td>Vintage &amp; Collectibles</td>\n",
       "      <td>Accessories</td>\n",
       "      <td>Keychain</td>\n",
       "      <td>NaN</td>\n",
       "      <td>Rhinestone choker &amp; pom pom keychain. No brand...</td>\n",
       "      <td>1</td>\n",
       "      <td>1</td>\n",
       "      <td>2.397895</td>\n",
       "    </tr>\n",
       "    <tr>\n",
       "      <th>4</th>\n",
       "      <td>Beauty</td>\n",
       "      <td>Makeup</td>\n",
       "      <td>Eyes</td>\n",
       "      <td>NaN</td>\n",
       "      <td>FREE SHP GREEN CONTAC LENSES. No brand. Beauty...</td>\n",
       "      <td>1</td>\n",
       "      <td>1</td>\n",
       "      <td>2.302585</td>\n",
       "    </tr>\n",
       "  </tbody>\n",
       "</table>\n",
       "</div>"
      ],
      "text/plain": [
       "                category1         category2         category3 brand_name  \\\n",
       "0                  Beauty            Makeup              Face        NaN   \n",
       "1                   Women           Dresses  Above Knee, Mini       Bebe   \n",
       "2                   Women  Athletic Apparel           Jackets        NaN   \n",
       "3  Vintage & Collectibles       Accessories          Keychain        NaN   \n",
       "4                  Beauty            Makeup              Eyes        NaN   \n",
       "\n",
       "                                                text  shipping  \\\n",
       "0  Primer & Brush Duo. No brand. Beauty Makeup Fa...         0   \n",
       "1  Bebe black feather dress. Bebe. Women Dresses ...         0   \n",
       "2  For Kayla-do not buy. No brand. Women Athletic...         1   \n",
       "3  Rhinestone choker & pom pom keychain. No brand...         1   \n",
       "4  FREE SHP GREEN CONTAC LENSES. No brand. Beauty...         1   \n",
       "\n",
       "   item_condition_id     price  \n",
       "0                  2  2.833213  \n",
       "1                  2  3.555348  \n",
       "2                  1  3.258097  \n",
       "3                  1  2.397895  \n",
       "4                  1  2.302585  "
      ]
     },
     "execution_count": 13,
     "metadata": {},
     "output_type": "execute_result"
    }
   ],
   "source": [
    "train_df.head()"
   ]
  },
  {
   "cell_type": "code",
   "execution_count": 14,
   "metadata": {
    "hidden": true
   },
   "outputs": [
    {
     "name": "stdout",
     "output_type": "stream",
     "text": [
      "Primer & Brush Duo. No brand. Beauty Makeup Face. Younique face and eye primer : used once Brush: never used\n",
      "--------------------\n",
      "Bebe black feather dress. Bebe. Women Dresses Above Knee, Mini. Bebe black feather dress strapless around the neck decorative front bejeweled bow tie in the back satin beautiful dress like new no flaws size extra small women's\n",
      "--------------------\n",
      "For Kayla-do not buy. No brand. Women Athletic Apparel Jackets. New with tags and long sleeve. No free shipping and firm on price. Also have available in a size medium. No free shipping and firm on price.\n",
      "--------------------\n",
      "Rhinestone choker & pom pom keychain. No brand. Vintage & Collectibles Accessories Keychain. 1x rhinestone choker ( handmade) 1x pink pom pom keychain Brand new I ship fast\n",
      "--------------------\n"
     ]
    }
   ],
   "source": [
    "for i in range(4):\n",
    "    print(train_df.text[i])\n",
    "    print('-'*20)"
   ]
  },
  {
   "cell_type": "code",
   "execution_count": 15,
   "metadata": {
    "hidden": true
   },
   "outputs": [
    {
     "name": "stdout",
     "output_type": "stream",
     "text": [
      "# of continuous feas: 1\n",
      "# of categorical feas: 5\n"
     ]
    },
    {
     "data": {
      "text/plain": [
       "True"
      ]
     },
     "execution_count": 15,
     "metadata": {},
     "output_type": "execute_result"
    }
   ],
   "source": [
    "cat_names=['category1','category2','category3','brand_name','shipping']\n",
    "cont_names= list(set(train_df.columns) - set(cat_names) - {'price','text'})\n",
    "print(f'# of continuous feas: {len(cont_names)}')\n",
    "print(f'# of categorical feas: {len(cat_names)}')\n",
    "dep_var = 'price'\n",
    "procs = [FillMissing,Categorify, Normalize]\n",
    "\n",
    "txt_cols=['text']\n",
    "\n",
    "len(cat_names) + len(cont_names) + 2 == train_df.shape[1]"
   ]
  },
  {
   "cell_type": "code",
   "execution_count": 16,
   "metadata": {
    "hidden": true
   },
   "outputs": [
    {
     "data": {
      "text/plain": [
       "(array([    0,     1,     2,     3, ..., 29646, 29647, 29648, 29649]),\n",
       " array([    6,    34,    92,    96, ..., 29586, 29597, 29634, 29642]))"
      ]
     },
     "execution_count": 16,
     "metadata": {},
     "output_type": "execute_result"
    },
    {
     "data": {
      "text/plain": [
       "((28167,), (1483,))"
      ]
     },
     "execution_count": 16,
     "metadata": {},
     "output_type": "execute_result"
    }
   ],
   "source": [
    "train_idxs,val_idxs = get_val_idxs(train_df,n_splits=20)\n",
    "# train_idxs,val_idxs = get_val_idxs(train_df,n_splits=5)\n",
    "train_idxs,val_idxs\n",
    "train_idxs.shape,val_idxs.shape"
   ]
  },
  {
   "cell_type": "code",
   "execution_count": 17,
   "metadata": {
    "hidden": true
   },
   "outputs": [],
   "source": [
    "def get_tab_databunch(train_df,bs=100,val_idxs=val_idxs,path = mercari_path):\n",
    "    return (TabularList.from_df(train_df, cat_names, cont_names, procs=procs, path=path)\n",
    "                            .split_by_idx(val_idxs)\n",
    "                            .label_from_df(cols=dep_var,label_cls=FloatList)\n",
    "#                             .add_test(TabularTextList.from_df(test_df, cat_names, cont_names, txt_cols,path=path))\n",
    "                            .databunch(bs=bs))"
   ]
  },
  {
   "cell_type": "code",
   "execution_count": 18,
   "metadata": {
    "hidden": true
   },
   "outputs": [],
   "source": [
    "def get_text_databunch(train_df,bs=100,val_idxs=val_idxs,path = mercari_path):\n",
    "    data_lm = load_data(path, 'data_lm.pkl', bs=bs)\n",
    "    return (TextList.from_df(train_df, cols = txt_cols[0], vocab=data_lm.vocab, path=path)\n",
    "                            .split_by_idx(val_idxs)\n",
    "                            .label_from_df(cols=dep_var,label_cls=FloatList)\n",
    "                            .databunch(bs=bs))"
   ]
  },
  {
   "cell_type": "code",
   "execution_count": 20,
   "metadata": {
    "hidden": true
   },
   "outputs": [],
   "source": [
    "# def get_tabulartext_databunch(bs=100,val_idxs=val_idxs,path=mercari_path):\n",
    "#     data_lm = load_data(path, 'data_lm.pkl', bs=bs)\n",
    "#     collate_fn = partial(mixed_tabular_pad_collate, pad_idx=1, pad_first=True)\n",
    "#     reset_seed()\n",
    "#     return (TabularTextList.from_df(train_df, cat_names, cont_names, txt_cols, vocab=data_lm.vocab, procs=procs, path=path)\n",
    "#                             .split_by_idx(val_idxs)\n",
    "#                             .label_from_df(cols=dep_var)\n",
    "# #                             .add_test(TabularTextList.from_df(test_df, cat_names, cont_names, txt_cols,path=path))\n",
    "#                             .databunch(bs=bs,collate_fn=collate_fn, no_check=False))"
   ]
  },
  {
   "cell_type": "code",
   "execution_count": 19,
   "metadata": {
    "hidden": true
   },
   "outputs": [],
   "source": [
    "def get_tabular_learner(data,params,seed=42):\n",
    "    return tabular_learner(data,metrics=[root_mean_squared_error],**params)\n",
    "\n",
    "def get_text_learner(data,params,seed=42):\n",
    "    encoder_name = 'bs60-awdlstm-enc-stage2'\n",
    "    learn = text_classifier_learner(data,AWD_LSTM,metrics=root_mean_squared_error,**params)\n",
    "    learn.load_encoder(encoder_name)\n",
    "    return learn.to_fp32()"
   ]
  },
  {
   "cell_type": "code",
   "execution_count": 23,
   "metadata": {
    "hidden": true
   },
   "outputs": [],
   "source": [
    "# encoder_name = 'bs60-awdlstm-enc-stage2'\n",
    "# def get_tabtext_lr_find(data,params,seed=42):\n",
    "#     reset_seed(seed)\n",
    "#     learn_lf = tabtext_learner(data,AWD_LSTM,metrics=[root_mean_squared_error],**params).to_fp16()\n",
    "#     learn_lf.load_encoder(encoder_name)\n",
    "#     return learn_lf.to_fp32()\n",
    "\n",
    "# def get_tabulartext_learner(data,params,seed=42):\n",
    "#     reset_seed(seed)\n",
    "#     learn= tabtext_learner(data,AWD_LSTM,metrics=[root_mean_squared_error],\n",
    "#                                callback_fns=[partial(SaveModelCallback, monitor='root_mean_squared_error',mode='min',every='improvement',name='best_nn')],\n",
    "#                                **params).to_fp16() # because the language model is trained in fp16\n",
    "#     learn.load_encoder(encoder_name)\n",
    "#     return learn.to_fp32()"
   ]
  },
  {
   "cell_type": "markdown",
   "metadata": {
    "heading_collapsed": true
   },
   "source": [
    "# Get databunch"
   ]
  },
  {
   "cell_type": "code",
   "execution_count": 45,
   "metadata": {
    "hidden": true
   },
   "outputs": [],
   "source": [
    "tab_db = get_tab_databunch(train_df[cat_names + cont_names+ [dep_var]])"
   ]
  },
  {
   "cell_type": "code",
   "execution_count": 19,
   "metadata": {
    "hidden": true
   },
   "outputs": [],
   "source": [
    "text_db = get_text_databunch(train_df[txt_cols +[dep_var]])"
   ]
  },
  {
   "cell_type": "code",
   "execution_count": 26,
   "metadata": {
    "hidden": true
   },
   "outputs": [
    {
     "data": {
      "text/html": [
       "<table border=\"1\" class=\"dataframe\">\n",
       "  <thead>\n",
       "    <tr style=\"text-align: right;\">\n",
       "      <th>category1</th>\n",
       "      <th>category2</th>\n",
       "      <th>category3</th>\n",
       "      <th>brand_name</th>\n",
       "      <th>shipping</th>\n",
       "      <th>item_condition_id</th>\n",
       "      <th>target</th>\n",
       "    </tr>\n",
       "  </thead>\n",
       "  <tbody>\n",
       "    <tr>\n",
       "      <td>Beauty</td>\n",
       "      <td>Makeup</td>\n",
       "      <td>Makeup Palettes</td>\n",
       "      <td>#na#</td>\n",
       "      <td>1</td>\n",
       "      <td>-1.0001</td>\n",
       "      <td>2.1972246</td>\n",
       "    </tr>\n",
       "    <tr>\n",
       "      <td>Kids</td>\n",
       "      <td>Boys 2T-5T</td>\n",
       "      <td>Bottoms</td>\n",
       "      <td>#na#</td>\n",
       "      <td>0</td>\n",
       "      <td>1.2049</td>\n",
       "      <td>2.3978953</td>\n",
       "    </tr>\n",
       "    <tr>\n",
       "      <td>Women</td>\n",
       "      <td>Sweaters</td>\n",
       "      <td>Crewneck</td>\n",
       "      <td>PINK</td>\n",
       "      <td>1</td>\n",
       "      <td>1.2049</td>\n",
       "      <td>3.2580965</td>\n",
       "    </tr>\n",
       "    <tr>\n",
       "      <td>Men</td>\n",
       "      <td>Shoes</td>\n",
       "      <td>Athletic</td>\n",
       "      <td>Jordan</td>\n",
       "      <td>0</td>\n",
       "      <td>0.1024</td>\n",
       "      <td>5.332719</td>\n",
       "    </tr>\n",
       "    <tr>\n",
       "      <td>Beauty</td>\n",
       "      <td>Makeup</td>\n",
       "      <td>Face</td>\n",
       "      <td>L'Oreal</td>\n",
       "      <td>1</td>\n",
       "      <td>-1.0001</td>\n",
       "      <td>2.5649493</td>\n",
       "    </tr>\n",
       "  </tbody>\n",
       "</table>"
      ],
      "text/plain": [
       "<IPython.core.display.HTML object>"
      ]
     },
     "metadata": {},
     "output_type": "display_data"
    }
   ],
   "source": [
    "tab_db.show_batch()"
   ]
  },
  {
   "cell_type": "code",
   "execution_count": 20,
   "metadata": {
    "hidden": true
   },
   "outputs": [
    {
     "data": {
      "text/html": [
       "<table border=\"1\" class=\"dataframe\">\n",
       "  <thead>\n",
       "    <tr style=\"text-align: right;\">\n",
       "      <th>text</th>\n",
       "      <th>target</th>\n",
       "    </tr>\n",
       "  </thead>\n",
       "  <tbody>\n",
       "    <tr>\n",
       "      <td>xxbos xxmaj pink xxmaj samsung xxmaj galaxy xxup s8 xxmaj plus xxmaj case . xxmaj no brand . xxmaj electronics xxmaj cell xxmaj phones &amp; xxmaj accessories xxmaj cases , xxmaj covers &amp; xxmaj skins . xxmaj brand xxup new , xxmaj high quality xxmaj durable case . * * * xxmaj buy xxmaj today , xxmaj ship xxmaj today * * * xxmaj shipping takes 3 - 5 days</td>\n",
       "      <td>2.8332133</td>\n",
       "    </tr>\n",
       "    <tr>\n",
       "      <td>xxbos xxmaj minnesota xxmaj vikings iphone 7 rubber case . xxmaj no brand . xxmaj sports &amp; xxmaj outdoors xxmaj fan xxmaj shop xxup nfl . xxmaj brand xxup new , xxmaj high quality xxmaj durable rubber case . * * * xxmaj buy xxmaj today , xxmaj ship xxmaj today * * * xxmaj shipping takes 3 - 5 days with tracking # . xxrep 5 { . xxup</td>\n",
       "      <td>2.7080503</td>\n",
       "    </tr>\n",
       "    <tr>\n",
       "      <td>xxbos xxup storybook xxup cosmetics xxup wand xxup brushes . xxmaj no brand . xxmaj beauty xxmaj tools &amp; xxmaj accessories xxmaj makeup xxmaj brushes &amp; xxmaj tools . xxup brand xxup new xxup authentic xxup original xxup storybook xxup cosmetics ( 2 ) xxup wand xxup brushes xxup with xxup authentic xxup storybook xxup cosmetics xxup wand xxup brush xxup bag .. xxup this xxup listing xxup only xxup</td>\n",
       "      <td>3.0910425</td>\n",
       "    </tr>\n",
       "    <tr>\n",
       "      <td>xxbos xxup hello xxup kitty xxup water xxup bottle &amp; 2 xxup touch xxup lamps . xxmaj no brand . xxmaj handmade xxmaj glass xxmaj bottles . xxup brand xxup new xxup water xxup bottle &amp; 2 xxup touch xxup sensor xxup lamps xxup with xxup hello xxup kitty xxup decals xxup by : xxup maya . xxup the xxup water xxup bottle xxup is xxup tritan xxup brand ,</td>\n",
       "      <td>3.1354942</td>\n",
       "    </tr>\n",
       "    <tr>\n",
       "      <td>xxbos xxup 3xl xxup beige xxup waist xxup cincher . xxmaj no brand . xxmaj handmade xxmaj clothing xxmaj corset . 100 % xxup new xxup and xxup hight xxup quality xxup waist xxup cincher xxup shapes xxup the xxup tummy &amp; xxup defines xxup your xxup waistline , xxup higher xxup rise xxup to xxup provide xxup optimal xxup coverage xxup for xxup every xxup day xxup wear .</td>\n",
       "      <td>2.4849067</td>\n",
       "    </tr>\n",
       "  </tbody>\n",
       "</table>"
      ],
      "text/plain": [
       "<IPython.core.display.HTML object>"
      ]
     },
     "metadata": {},
     "output_type": "display_data"
    }
   ],
   "source": [
    "text_db.show_batch()"
   ]
  },
  {
   "cell_type": "markdown",
   "metadata": {
    "heading_collapsed": true
   },
   "source": [
    "# Train tabular"
   ]
  },
  {
   "cell_type": "code",
   "execution_count": 57,
   "metadata": {
    "hidden": true
   },
   "outputs": [],
   "source": [
    "params={\n",
    "    'layers':[500,400,200],\n",
    "#     'ps': [0.001,0,0],\n",
    "    'emb_drop': 0.,\n",
    "    'y_range': [0,6],\n",
    "    'use_bn': True,    \n",
    "}"
   ]
  },
  {
   "cell_type": "code",
   "execution_count": 58,
   "metadata": {
    "hidden": true
   },
   "outputs": [],
   "source": [
    "tab_learner = get_tabular_learner(tab_db,params)"
   ]
  },
  {
   "cell_type": "code",
   "execution_count": 59,
   "metadata": {
    "hidden": true
   },
   "outputs": [
    {
     "data": {
      "text/html": [],
      "text/plain": [
       "<IPython.core.display.HTML object>"
      ]
     },
     "metadata": {},
     "output_type": "display_data"
    },
    {
     "name": "stdout",
     "output_type": "stream",
     "text": [
      "LR Finder is complete, type {learner_name}.recorder.plot() to see the graph.\n"
     ]
    },
    {
     "data": {
      "image/png": "[encoded data removed]",
      "text/plain": [
       "<Figure size 432x288 with 1 Axes>"
      ]
     },
     "metadata": {
      "needs_background": "light"
     },
     "output_type": "display_data"
    }
   ],
   "source": [
    "tab_learner.lr_find()\n",
    "tab_learner.recorder.plot()"
   ]
  },
  {
   "cell_type": "code",
   "execution_count": 31,
   "metadata": {
    "hidden": true
   },
   "outputs": [
    {
     "data": {
      "text/html": [
       "Total time: 00:09 <p><table style='width:375px; margin-bottom:10px'>\n",
       "  <tr>\n",
       "    <th>epoch</th>\n",
       "    <th>train_loss</th>\n",
       "    <th>valid_loss</th>\n",
       "    <th>root_mean_squared_error</th>\n",
       "    <th>time</th>\n",
       "  </tr>\n",
       "  <tr>\n",
       "    <th>0</th>\n",
       "    <th>0.388644</th>\n",
       "    <th>0.360133</th>\n",
       "    <th>0.596372</th>\n",
       "    <th>00:01</th>\n",
       "  </tr>\n",
       "  <tr>\n",
       "    <th>1</th>\n",
       "    <th>0.353052</th>\n",
       "    <th>0.356356</th>\n",
       "    <th>0.594344</th>\n",
       "    <th>00:01</th>\n",
       "  </tr>\n",
       "  <tr>\n",
       "    <th>2</th>\n",
       "    <th>0.337223</th>\n",
       "    <th>0.326131</th>\n",
       "    <th>0.568739</th>\n",
       "    <th>00:01</th>\n",
       "  </tr>\n",
       "  <tr>\n",
       "    <th>3</th>\n",
       "    <th>0.297957</th>\n",
       "    <th>0.320199</th>\n",
       "    <th>0.562867</th>\n",
       "    <th>00:01</th>\n",
       "  </tr>\n",
       "  <tr>\n",
       "    <th>4</th>\n",
       "    <th>0.284083</th>\n",
       "    <th>0.324008</th>\n",
       "    <th>0.566056</th>\n",
       "    <th>00:01</th>\n",
       "  </tr>\n",
       "</table>\n"
      ],
      "text/plain": [
       "<IPython.core.display.HTML object>"
      ]
     },
     "metadata": {},
     "output_type": "display_data"
    }
   ],
   "source": [
    "params={\n",
    "    'layers':[500,200],\n",
    "#     'ps': [0.001,0,0],\n",
    "    'emb_drop': 0.,\n",
    "    'y_range': [0,6],\n",
    "    'use_bn': True,    \n",
    "}\n",
    "tab_learner = get_tabular_learner(tab_db,params)\n",
    "tab_learner.fit_one_cycle(5,max_lr = 2e-03,pct_start=.3,moms=(0.95, 0.85))"
   ]
  },
  {
   "cell_type": "code",
   "execution_count": 60,
   "metadata": {
    "hidden": true
   },
   "outputs": [
    {
     "data": {
      "text/html": [
       "Total time: 01:42 <p><table style='width:375px; margin-bottom:10px'>\n",
       "  <tr>\n",
       "    <th>epoch</th>\n",
       "    <th>train_loss</th>\n",
       "    <th>valid_loss</th>\n",
       "    <th>root_mean_squared_error</th>\n",
       "    <th>time</th>\n",
       "  </tr>\n",
       "  <tr>\n",
       "    <th>0</th>\n",
       "    <th>0.316520</th>\n",
       "    <th>0.322360</th>\n",
       "    <th>0.567687</th>\n",
       "    <th>00:17</th>\n",
       "  </tr>\n",
       "  <tr>\n",
       "    <th>1</th>\n",
       "    <th>0.308784</th>\n",
       "    <th>0.312987</th>\n",
       "    <th>0.559367</th>\n",
       "    <th>00:17</th>\n",
       "  </tr>\n",
       "  <tr>\n",
       "    <th>2</th>\n",
       "    <th>0.305537</th>\n",
       "    <th>0.305977</th>\n",
       "    <th>0.553064</th>\n",
       "    <th>00:16</th>\n",
       "  </tr>\n",
       "  <tr>\n",
       "    <th>3</th>\n",
       "    <th>0.299920</th>\n",
       "    <th>0.303430</th>\n",
       "    <th>0.550750</th>\n",
       "    <th>00:16</th>\n",
       "  </tr>\n",
       "  <tr>\n",
       "    <th>4</th>\n",
       "    <th>0.295662</th>\n",
       "    <th>0.301751</th>\n",
       "    <th>0.549227</th>\n",
       "    <th>00:17</th>\n",
       "  </tr>\n",
       "  <tr>\n",
       "    <th>5</th>\n",
       "    <th>0.293086</th>\n",
       "    <th>0.301080</th>\n",
       "    <th>0.548616</th>\n",
       "    <th>00:16</th>\n",
       "  </tr>\n",
       "</table>\n"
      ],
      "text/plain": [
       "<IPython.core.display.HTML object>"
      ]
     },
     "metadata": {},
     "output_type": "display_data"
    }
   ],
   "source": [
    "# # train on full dataset\n",
    "# params={\n",
    "#     'layers':[500,400,200],\n",
    "# #     'ps': [0.001,0,0],\n",
    "#     'emb_drop': 0.,\n",
    "#     'y_range': [0,6],\n",
    "#     'use_bn': True,    \n",
    "# }\n",
    "# tab_learner = get_tabular_learner(tab_db,params,)\n",
    "# tab_learner.fit_one_cycle(6,max_lr = 1e-02,pct_start=.3,moms=(0.95, 0.85))"
   ]
  },
  {
   "cell_type": "markdown",
   "metadata": {
    "heading_collapsed": true
   },
   "source": [
    "# Train text"
   ]
  },
  {
   "cell_type": "code",
   "execution_count": 21,
   "metadata": {
    "hidden": true
   },
   "outputs": [],
   "source": [
    "text_db = get_text_databunch(train_df[txt_cols +[dep_var]])"
   ]
  },
  {
   "cell_type": "code",
   "execution_count": 26,
   "metadata": {
    "hidden": true
   },
   "outputs": [],
   "source": [
    "params={\n",
    "    'lin_ftrs':[1000],\n",
    "#     'ps': [0.001,0,0],\n",
    "    'bptt':100,\n",
    "    'max_len':20*70,\n",
    "    'drop_mult': 1., \n",
    "#     'y_range': [0,6], # there is no y_range in text_classfier_learner\n",
    "#     'use_bn': True,    \n",
    "}"
   ]
  },
  {
   "cell_type": "code",
   "execution_count": 27,
   "metadata": {
    "hidden": true
   },
   "outputs": [],
   "source": [
    "text_learner = get_text_learner(text_db,params)"
   ]
  },
  {
   "cell_type": "code",
   "execution_count": 189,
   "metadata": {
    "hidden": true
   },
   "outputs": [
    {
     "data": {
      "text/plain": [
       "[BatchNorm1d(200, eps=1e-05, momentum=0.1, affine=True, track_running_stats=True),\n",
       " Linear(in_features=200, out_features=1, bias=True)]"
      ]
     },
     "execution_count": 189,
     "metadata": {},
     "output_type": "execute_result"
    }
   ],
   "source": [
    "# bn_drop_lin(params['lin_ftrs'][1],1)\n",
    "\n",
    "# # fix some weird bug when doing regression with text_learner\n",
    "# text_learner = get_text_learner(text_db,params)\n",
    "# text_learner.model[1].layers = nn.Sequential( *(list(text_learner.model[1].layers) + bn_drop_lin(params['lin_ftrs'][1],1)) ).cuda()"
   ]
  },
  {
   "cell_type": "code",
   "execution_count": 195,
   "metadata": {
    "hidden": true,
    "scrolled": true
   },
   "outputs": [],
   "source": [
    "# text_learner.model"
   ]
  },
  {
   "cell_type": "code",
   "execution_count": 29,
   "metadata": {
    "hidden": true,
    "scrolled": true
   },
   "outputs": [
    {
     "data": {
      "text/html": [],
      "text/plain": [
       "<IPython.core.display.HTML object>"
      ]
     },
     "metadata": {},
     "output_type": "display_data"
    },
    {
     "name": "stdout",
     "output_type": "stream",
     "text": [
      "LR Finder is complete, type {learner_name}.recorder.plot() to see the graph.\n"
     ]
    },
    {
     "data": {
      "image/png": "[encoded data removed]",
      "text/plain": [
       "<Figure size 432x288 with 1 Axes>"
      ]
     },
     "metadata": {
      "needs_background": "light"
     },
     "output_type": "display_data"
    }
   ],
   "source": [
    "text_learner.lr_find()\n",
    "text_learner.recorder.plot(skip_end=1)"
   ]
  },
  {
   "cell_type": "code",
   "execution_count": 30,
   "metadata": {
    "hidden": true
   },
   "outputs": [
    {
     "data": {
      "text/html": [
       "Total time: 02:21 <p><table style='width:375px; margin-bottom:10px'>\n",
       "  <tr>\n",
       "    <th>epoch</th>\n",
       "    <th>train_loss</th>\n",
       "    <th>valid_loss</th>\n",
       "    <th>root_mean_squared_error</th>\n",
       "    <th>time</th>\n",
       "  </tr>\n",
       "  <tr>\n",
       "    <th>0</th>\n",
       "    <th>0.699812</th>\n",
       "    <th>0.475136</th>\n",
       "    <th>0.686352</th>\n",
       "    <th>00:27</th>\n",
       "  </tr>\n",
       "  <tr>\n",
       "    <th>1</th>\n",
       "    <th>0.577503</th>\n",
       "    <th>0.560678</th>\n",
       "    <th>0.745181</th>\n",
       "    <th>00:28</th>\n",
       "  </tr>\n",
       "  <tr>\n",
       "    <th>2</th>\n",
       "    <th>0.515830</th>\n",
       "    <th>0.392125</th>\n",
       "    <th>0.622882</th>\n",
       "    <th>00:29</th>\n",
       "  </tr>\n",
       "  <tr>\n",
       "    <th>3</th>\n",
       "    <th>0.487941</th>\n",
       "    <th>0.371341</th>\n",
       "    <th>0.606690</th>\n",
       "    <th>00:26</th>\n",
       "  </tr>\n",
       "  <tr>\n",
       "    <th>4</th>\n",
       "    <th>0.496415</th>\n",
       "    <th>0.373503</th>\n",
       "    <th>0.608344</th>\n",
       "    <th>00:30</th>\n",
       "  </tr>\n",
       "</table>\n"
      ],
      "text/plain": [
       "<IPython.core.display.HTML object>"
      ]
     },
     "metadata": {},
     "output_type": "display_data"
    }
   ],
   "source": [
    "text_learner.fit_one_cycle(5,max_lr = 1e-02,pct_start=0.3,moms=(0.8,0.7))"
   ]
  },
  {
   "cell_type": "code",
   "execution_count": 32,
   "metadata": {
    "hidden": true
   },
   "outputs": [],
   "source": [
    "# text_learner.save('tmp1')"
   ]
  },
  {
   "cell_type": "code",
   "execution_count": 33,
   "metadata": {
    "hidden": true
   },
   "outputs": [
    {
     "data": {
      "text/html": [],
      "text/plain": [
       "<IPython.core.display.HTML object>"
      ]
     },
     "metadata": {},
     "output_type": "display_data"
    },
    {
     "name": "stdout",
     "output_type": "stream",
     "text": [
      "LR Finder is complete, type {learner_name}.recorder.plot() to see the graph.\n"
     ]
    },
    {
     "data": {
      "image/png": "[encoded data removed]",
      "text/plain": [
       "<Figure size 432x288 with 1 Axes>"
      ]
     },
     "metadata": {
      "needs_background": "light"
     },
     "output_type": "display_data"
    }
   ],
   "source": [
    "_=text_learner.load('tmp1')\n",
    "text_learner.freeze_to(-2)\n",
    "text_learner.lr_find()\n",
    "text_learner.recorder.plot()"
   ]
  },
  {
   "cell_type": "code",
   "execution_count": 38,
   "metadata": {
    "hidden": true
   },
   "outputs": [],
   "source": [
    "_=text_learner.load('tmp1')\n",
    "text_learner.freeze_to(-2)"
   ]
  },
  {
   "cell_type": "code",
   "execution_count": 39,
   "metadata": {
    "hidden": true
   },
   "outputs": [
    {
     "data": {
      "text/html": [
       "Total time: 01:07 <p><table style='width:375px; margin-bottom:10px'>\n",
       "  <tr>\n",
       "    <th>epoch</th>\n",
       "    <th>train_loss</th>\n",
       "    <th>valid_loss</th>\n",
       "    <th>root_mean_squared_error</th>\n",
       "    <th>time</th>\n",
       "  </tr>\n",
       "  <tr>\n",
       "    <th>0</th>\n",
       "    <th>0.477718</th>\n",
       "    <th>0.365917</th>\n",
       "    <th>0.602141</th>\n",
       "    <th>00:34</th>\n",
       "  </tr>\n",
       "  <tr>\n",
       "    <th>1</th>\n",
       "    <th>0.491508</th>\n",
       "    <th>0.361138</th>\n",
       "    <th>0.598394</th>\n",
       "    <th>00:33</th>\n",
       "  </tr>\n",
       "</table>\n"
      ],
      "text/plain": [
       "<IPython.core.display.HTML object>"
      ]
     },
     "metadata": {},
     "output_type": "display_data"
    }
   ],
   "source": [
    "text_learner.fit_one_cycle(2,max_lr = slice(1e-05,1e-03),pct_start=0.3,moms=(0.8,0.7))"
   ]
  },
  {
   "cell_type": "code",
   "execution_count": 40,
   "metadata": {
    "hidden": true
   },
   "outputs": [],
   "source": [
    "# text_learner.save('tmp2')"
   ]
  },
  {
   "cell_type": "code",
   "execution_count": 43,
   "metadata": {
    "hidden": true
   },
   "outputs": [
    {
     "data": {
      "text/html": [],
      "text/plain": [
       "<IPython.core.display.HTML object>"
      ]
     },
     "metadata": {},
     "output_type": "display_data"
    },
    {
     "name": "stdout",
     "output_type": "stream",
     "text": [
      "LR Finder is complete, type {learner_name}.recorder.plot() to see the graph.\n"
     ]
    },
    {
     "data": {
      "image/png": "[encoded data removed]",
      "text/plain": [
       "<Figure size 432x288 with 1 Axes>"
      ]
     },
     "metadata": {
      "needs_background": "light"
     },
     "output_type": "display_data"
    }
   ],
   "source": [
    "_=text_learner.load('tmp2')\n",
    "text_learner.freeze_to(-3)\n",
    "text_learner.lr_find()\n",
    "text_learner.recorder.plot()"
   ]
  },
  {
   "cell_type": "code",
   "execution_count": 48,
   "metadata": {
    "hidden": true
   },
   "outputs": [
    {
     "data": {
      "text/html": [
       "Total time: 01:57 <p><table style='width:375px; margin-bottom:10px'>\n",
       "  <tr>\n",
       "    <th>epoch</th>\n",
       "    <th>train_loss</th>\n",
       "    <th>valid_loss</th>\n",
       "    <th>root_mean_squared_error</th>\n",
       "    <th>time</th>\n",
       "  </tr>\n",
       "  <tr>\n",
       "    <th>0</th>\n",
       "    <th>0.477855</th>\n",
       "    <th>0.361182</th>\n",
       "    <th>0.598372</th>\n",
       "    <th>00:55</th>\n",
       "  </tr>\n",
       "  <tr>\n",
       "    <th>1</th>\n",
       "    <th>0.475571</th>\n",
       "    <th>0.361878</th>\n",
       "    <th>0.598912</th>\n",
       "    <th>01:01</th>\n",
       "  </tr>\n",
       "</table>\n"
      ],
      "text/plain": [
       "<IPython.core.display.HTML object>"
      ]
     },
     "metadata": {},
     "output_type": "display_data"
    }
   ],
   "source": [
    "_=text_learner.load('tmp2')\n",
    "text_learner.freeze_to(-3)\n",
    "\n",
    "text_learner.fit_one_cycle(2,max_lr = slice(1e-06,8e-05),pct_start=0.3,moms=(0.8,0.7))"
   ]
  },
  {
   "cell_type": "code",
   "execution_count": 49,
   "metadata": {
    "hidden": true
   },
   "outputs": [],
   "source": [
    "# text_learner.save('tmp3')"
   ]
  },
  {
   "cell_type": "code",
   "execution_count": 53,
   "metadata": {
    "hidden": true
   },
   "outputs": [
    {
     "data": {
      "text/html": [],
      "text/plain": [
       "<IPython.core.display.HTML object>"
      ]
     },
     "metadata": {},
     "output_type": "display_data"
    },
    {
     "name": "stdout",
     "output_type": "stream",
     "text": [
      "LR Finder is complete, type {learner_name}.recorder.plot() to see the graph.\n"
     ]
    },
    {
     "data": {
      "image/png": "[encoded data removed]",
      "text/plain": [
       "<Figure size 432x288 with 1 Axes>"
      ]
     },
     "metadata": {
      "needs_background": "light"
     },
     "output_type": "display_data"
    }
   ],
   "source": [
    "_=text_learner.load('tmp3')\n",
    "text_learner.unfreeze()\n",
    "text_learner.lr_find()\n",
    "text_learner.recorder.plot()"
   ]
  },
  {
   "cell_type": "code",
   "execution_count": 52,
   "metadata": {
    "hidden": true
   },
   "outputs": [
    {
     "data": {
      "text/html": [],
      "text/plain": [
       "<IPython.core.display.HTML object>"
      ]
     },
     "metadata": {},
     "output_type": "display_data"
    },
    {
     "name": "stdout",
     "output_type": "stream",
     "text": [
      "LR Finder is complete, type {learner_name}.recorder.plot() to see the graph.\n"
     ]
    },
    {
     "data": {
      "image/png": "[encoded data removed]",
      "text/plain": [
       "<Figure size 432x288 with 1 Axes>"
      ]
     },
     "metadata": {
      "needs_background": "light"
     },
     "output_type": "display_data"
    }
   ],
   "source": [
    "_=text_learner.load('tmp3')\n",
    "text_learner.unfreeze()\n",
    "text_learner.lr_find()\n",
    "text_learner.recorder.plot()"
   ]
  },
  {
   "cell_type": "code",
   "execution_count": 54,
   "metadata": {
    "hidden": true
   },
   "outputs": [
    {
     "data": {
      "text/html": [
       "Total time: 06:31 <p><table style='width:375px; margin-bottom:10px'>\n",
       "  <tr>\n",
       "    <th>epoch</th>\n",
       "    <th>train_loss</th>\n",
       "    <th>valid_loss</th>\n",
       "    <th>root_mean_squared_error</th>\n",
       "    <th>time</th>\n",
       "  </tr>\n",
       "  <tr>\n",
       "    <th>0</th>\n",
       "    <th>0.503838</th>\n",
       "    <th>0.360852</th>\n",
       "    <th>0.598226</th>\n",
       "    <th>01:19</th>\n",
       "  </tr>\n",
       "  <tr>\n",
       "    <th>1</th>\n",
       "    <th>0.471973</th>\n",
       "    <th>0.366016</th>\n",
       "    <th>0.602466</th>\n",
       "    <th>01:14</th>\n",
       "  </tr>\n",
       "  <tr>\n",
       "    <th>2</th>\n",
       "    <th>0.479939</th>\n",
       "    <th>0.360503</th>\n",
       "    <th>0.598051</th>\n",
       "    <th>01:13</th>\n",
       "  </tr>\n",
       "  <tr>\n",
       "    <th>3</th>\n",
       "    <th>0.476493</th>\n",
       "    <th>0.363892</th>\n",
       "    <th>0.600721</th>\n",
       "    <th>01:23</th>\n",
       "  </tr>\n",
       "  <tr>\n",
       "    <th>4</th>\n",
       "    <th>0.467288</th>\n",
       "    <th>0.361779</th>\n",
       "    <th>0.599025</th>\n",
       "    <th>01:21</th>\n",
       "  </tr>\n",
       "</table>\n"
      ],
      "text/plain": [
       "<IPython.core.display.HTML object>"
      ]
     },
     "metadata": {},
     "output_type": "display_data"
    }
   ],
   "source": [
    "_=text_learner.load('tmp3')\n",
    "text_learner.unfreeze()\n",
    "\n",
    "text_learner.fit_one_cycle(5,max_lr = slice(1e-06,8e-05),pct_start=0.3,moms=(0.8,0.7))"
   ]
  },
  {
   "cell_type": "markdown",
   "metadata": {},
   "source": [
    "# Combining tabular and text together"
   ]
  },
  {
   "cell_type": "code",
   "execution_count": 28,
   "metadata": {},
   "outputs": [],
   "source": [
    "class ConcatDataset(Dataset):\n",
    "    def __init__(self, x1, x2, y): self.x1,self.x2,self.y = x1,x2,y\n",
    "    def __len__(self): return len(self.y)\n",
    "    def __getitem__(self, i): return (self.x1[i], self.x2[i]), self.y[i]\n",
    "    \n",
    "def my_collate(batch):    \n",
    "    x,y = list(zip(*batch))\n",
    "    x1,x2 = list(zip(*x)) # x1 would be (cat,cont), x2 would be numericalized ids for text\n",
    "    x1 = to_data(x1)\n",
    "    x1 = list(zip(*x1))\n",
    "    x1 = torch.stack(x1[0]), torch.stack(x1[1])\n",
    "    x2, y = pad_collate(list(zip(x2, y)), pad_idx=1, pad_first=True)\n",
    "    return (x1, x2), y\n",
    "\n",
    "class ConcatModel(nn.Module):\n",
    "    def __init__(self, mod_tab, mod_nlp, layers, drops): \n",
    "        super().__init__()\n",
    "        self.mod_tab = mod_tab\n",
    "        self.mod_nlp = mod_nlp\n",
    "        lst_layers = []\n",
    "        activs = [nn.ReLU(inplace=True),] * (len(layers)-2) + [None]\n",
    "        for n_in,n_out,p,actn in zip(layers[:-1], layers[1:], drops, activs):\n",
    "            lst_layers += bn_drop_lin(n_in, n_out, p=p, actn=actn)\n",
    "        self.layers = nn.Sequential(*lst_layers)\n",
    "\n",
    "    def forward(self, *x):\n",
    "        x_tab = self.mod_tab(*x[0])\n",
    "        x_nlp = self.mod_nlp(x[1])[0]\n",
    "        x = torch.cat([x_tab, x_nlp], dim=1)\n",
    "        return self.layers(x)    "
   ]
  },
  {
   "cell_type": "code",
   "execution_count": 23,
   "metadata": {},
   "outputs": [],
   "source": [
    "tab_db = get_tab_databunch(train_df[cat_names + cont_names+ [dep_var]])\n",
    "\n",
    "text_db = get_text_databunch(train_df[txt_cols +[dep_var]])"
   ]
  },
  {
   "cell_type": "code",
   "execution_count": 27,
   "metadata": {},
   "outputs": [],
   "source": [
    "params={\n",
    "    'layers':[500],\n",
    "#     'ps': [0.001,0,0],\n",
    "    'emb_drop': 0.,\n",
    "    'y_range': [0,6],\n",
    "    'use_bn': True,    \n",
    "}\n",
    "tab_learner = get_tabular_learner(tab_db,params)\n",
    "\n",
    "tab_learner.model.layers = tab_learner.model.layers[:-2]"
   ]
  },
  {
   "cell_type": "code",
   "execution_count": 33,
   "metadata": {},
   "outputs": [
    {
     "data": {
      "text/plain": [
       "TabularModel(\n",
       "  (embeds): ModuleList(\n",
       "    (0): Embedding(11, 6)\n",
       "    (1): Embedding(110, 22)\n",
       "    (2): Embedding(590, 57)\n",
       "    (3): Embedding(1201, 85)\n",
       "    (4): Embedding(3, 3)\n",
       "  )\n",
       "  (emb_drop): Dropout(p=0.0)\n",
       "  (bn_cont): BatchNorm1d(1, eps=1e-05, momentum=0.1, affine=True, track_running_stats=True)\n",
       "  (layers): Sequential(\n",
       "    (0): Linear(in_features=174, out_features=500, bias=True)\n",
       "    (1): ReLU(inplace)\n",
       "  )\n",
       ")"
      ]
     },
     "execution_count": 33,
     "metadata": {},
     "output_type": "execute_result"
    }
   ],
   "source": [
    "tab_learner.model"
   ]
  },
  {
   "cell_type": "code",
   "execution_count": 58,
   "metadata": {},
   "outputs": [],
   "source": [
    "params={\n",
    "#     'lin_ftrs':[1000],\n",
    "#     'ps': [0.001,0,0],\n",
    "    'bptt':70,\n",
    "    'max_len':20*70,\n",
    "    'drop_mult': 1., \n",
    "#     'y_range': [0,6], # there is no y_range in text_classfier_learner\n",
    "#     'use_bn': True,    \n",
    "}\n",
    "\n",
    "text_learner = get_text_learner(text_db,params)"
   ]
  },
  {
   "cell_type": "code",
   "execution_count": 60,
   "metadata": {},
   "outputs": [
    {
     "data": {
      "text/plain": [
       "SequentialRNN(\n",
       "  (0): MultiBatchEncoder(\n",
       "    (module): AWD_LSTM(\n",
       "      (encoder): Embedding(33781, 400, padding_idx=1)\n",
       "      (encoder_dp): EmbeddingDropout(\n",
       "        (emb): Embedding(33781, 400, padding_idx=1)\n",
       "      )\n",
       "      (rnns): ModuleList(\n",
       "        (0): WeightDropout(\n",
       "          (module): LSTM(400, 1150, batch_first=True)\n",
       "        )\n",
       "        (1): WeightDropout(\n",
       "          (module): LSTM(1150, 1150, batch_first=True)\n",
       "        )\n",
       "        (2): WeightDropout(\n",
       "          (module): LSTM(1150, 400, batch_first=True)\n",
       "        )\n",
       "      )\n",
       "      (input_dp): RNNDropout()\n",
       "      (hidden_dps): ModuleList(\n",
       "        (0): RNNDropout()\n",
       "        (1): RNNDropout()\n",
       "        (2): RNNDropout()\n",
       "      )\n",
       "    )\n",
       "  )\n",
       "  (1): PoolingLinearClassifier(\n",
       "    (layers): Sequential(\n",
       "      (0): BatchNorm1d(1200, eps=1e-05, momentum=0.1, affine=True, track_running_stats=True)\n",
       "      (1): Dropout(p=0.4)\n",
       "      (2): Linear(in_features=1200, out_features=50, bias=True)\n",
       "      (3): ReLU(inplace)\n",
       "    )\n",
       "  )\n",
       ")"
      ]
     },
     "execution_count": 60,
     "metadata": {},
     "output_type": "execute_result"
    }
   ],
   "source": [
    "text_learner.model[-1].layers =text_learner.model[-1].layers[:-3] \n",
    "text_learner.model"
   ]
  },
  {
   "cell_type": "code",
   "execution_count": 61,
   "metadata": {},
   "outputs": [],
   "source": [
    "train_ds = ConcatDataset(tab_db.train_ds.x, text_db.train_ds.x, tab_db.train_ds.y)\n",
    "valid_ds = ConcatDataset(tab_db.valid_ds.x, text_db.valid_ds.x, tab_db.valid_ds.y)"
   ]
  },
  {
   "cell_type": "code",
   "execution_count": 63,
   "metadata": {},
   "outputs": [],
   "source": [
    "bs = 70\n",
    "train_sampler = SortishSampler(text_db.train_ds.x, key=lambda t: len(text_db.train_ds[t][0].data), bs=bs//2)\n",
    "valid_sampler = SortSampler(text_db.valid_ds.x, key=lambda t: len(text_db.valid_ds[t][0].data))"
   ]
  },
  {
   "cell_type": "code",
   "execution_count": 64,
   "metadata": {},
   "outputs": [],
   "source": [
    "train_dl = DataLoader(train_ds, bs//2, sampler=train_sampler)\n",
    "valid_dl = DataLoader(valid_ds, bs, sampler=valid_sampler)\n",
    "data = DataBunch(train_dl, valid_dl, device=defaults.device, collate_fn=my_collate, path=mercari_path)"
   ]
  },
  {
   "cell_type": "code",
   "execution_count": 65,
   "metadata": {},
   "outputs": [
    {
     "name": "stdout",
     "output_type": "stream",
     "text": [
      "Shape tabular batch (cats/cont): torch.Size([35, 5]) / torch.Size([35, 1])\n",
      "Shape nlp batch: torch.Size([35, 388])\n",
      "Shape dependent var: torch.Size([35])\n"
     ]
    }
   ],
   "source": [
    "(x1,x2),y = next(iter(data.train_dl))\n",
    "print(f'Shape tabular batch (cats/cont): {x1[0].shape} / {x1[1].shape}')\n",
    "print(f'Shape nlp batch: {x2.shape}')\n",
    "print(f'Shape dependent var: {y.shape}')"
   ]
  },
  {
   "cell_type": "code",
   "execution_count": 67,
   "metadata": {},
   "outputs": [
    {
     "data": {
      "text/plain": [
       "ConcatModel(\n",
       "  (mod_tab): TabularModel(\n",
       "    (embeds): ModuleList(\n",
       "      (0): Embedding(11, 6)\n",
       "      (1): Embedding(110, 22)\n",
       "      (2): Embedding(590, 57)\n",
       "      (3): Embedding(1201, 85)\n",
       "      (4): Embedding(3, 3)\n",
       "    )\n",
       "    (emb_drop): Dropout(p=0.0)\n",
       "    (bn_cont): BatchNorm1d(1, eps=1e-05, momentum=0.1, affine=True, track_running_stats=True)\n",
       "    (layers): Sequential(\n",
       "      (0): Linear(in_features=174, out_features=500, bias=True)\n",
       "      (1): ReLU(inplace)\n",
       "    )\n",
       "  )\n",
       "  (mod_nlp): SequentialRNN(\n",
       "    (0): MultiBatchEncoder(\n",
       "      (module): AWD_LSTM(\n",
       "        (encoder): Embedding(33781, 400, padding_idx=1)\n",
       "        (encoder_dp): EmbeddingDropout(\n",
       "          (emb): Embedding(33781, 400, padding_idx=1)\n",
       "        )\n",
       "        (rnns): ModuleList(\n",
       "          (0): WeightDropout(\n",
       "            (module): LSTM(400, 1150, batch_first=True)\n",
       "          )\n",
       "          (1): WeightDropout(\n",
       "            (module): LSTM(1150, 1150, batch_first=True)\n",
       "          )\n",
       "          (2): WeightDropout(\n",
       "            (module): LSTM(1150, 400, batch_first=True)\n",
       "          )\n",
       "        )\n",
       "        (input_dp): RNNDropout()\n",
       "        (hidden_dps): ModuleList(\n",
       "          (0): RNNDropout()\n",
       "          (1): RNNDropout()\n",
       "          (2): RNNDropout()\n",
       "        )\n",
       "      )\n",
       "    )\n",
       "    (1): PoolingLinearClassifier(\n",
       "      (layers): Sequential(\n",
       "        (0): BatchNorm1d(1200, eps=1e-05, momentum=0.1, affine=True, track_running_stats=True)\n",
       "        (1): Dropout(p=0.4)\n",
       "        (2): Linear(in_features=1200, out_features=50, bias=True)\n",
       "        (3): ReLU(inplace)\n",
       "      )\n",
       "    )\n",
       "  )\n",
       "  (layers): Sequential(\n",
       "    (0): BatchNorm1d(550, eps=1e-05, momentum=0.1, affine=True, track_running_stats=True)\n",
       "    (1): Linear(in_features=550, out_features=1, bias=True)\n",
       "  )\n",
       ")"
      ]
     },
     "execution_count": 67,
     "metadata": {},
     "output_type": "execute_result"
    }
   ],
   "source": [
    "lin_layers = [500+50, 1]\n",
    "ps = [0.]\n",
    "model = ConcatModel(tab_learner.model, text_learner.model, lin_layers, ps)\n",
    "model"
   ]
  },
  {
   "cell_type": "code",
   "execution_count": 68,
   "metadata": {},
   "outputs": [],
   "source": [
    "loss_func = MSELossFlat()\n",
    "layer_groups = [nn.Sequential(*flatten_model(text_learner.layer_groups[0])),\n",
    "                nn.Sequential(*flatten_model(text_learner.layer_groups[1])),\n",
    "                nn.Sequential(*flatten_model(text_learner.layer_groups[2])),\n",
    "                nn.Sequential(*flatten_model(text_learner.layer_groups[3])),\n",
    "                nn.Sequential(*(flatten_model(text_learner.layer_groups[4]) + \n",
    "                                flatten_model(model.mod_tab) +\n",
    "                                flatten_model(model.layers)))] \n",
    "learn = Learner(data, model, loss_func=loss_func, metrics=root_mean_squared_error, layer_groups=layer_groups)"
   ]
  },
  {
   "cell_type": "code",
   "execution_count": 29,
   "metadata": {},
   "outputs": [],
   "source": [
    "def get_data_v2(bs=70,path= mercari_path):\n",
    "    \n",
    "    tab_db = get_tab_databunch(train_df[cat_names + cont_names+ [dep_var]])\n",
    "    text_db = get_text_databunch(train_df[txt_cols +[dep_var]])\n",
    "    \n",
    "    train_ds = ConcatDataset(tab_db.train_ds.x, text_db.train_ds.x, tab_db.train_ds.y)\n",
    "    valid_ds = ConcatDataset(tab_db.valid_ds.x, text_db.valid_ds.x, tab_db.valid_ds.y)\n",
    "    \n",
    "    train_sampler = SortishSampler(text_db.train_ds.x, key=lambda t: len(text_db.train_ds[t][0].data), bs=bs//2)\n",
    "    valid_sampler = SortSampler(text_db.valid_ds.x, key=lambda t: len(text_db.valid_ds[t][0].data))\n",
    "\n",
    "    train_dl = DataLoader(train_ds, bs//2, sampler=train_sampler)\n",
    "    valid_dl = DataLoader(valid_ds, bs, sampler=valid_sampler)\n",
    "    data = DataBunch(train_dl, valid_dl, device=defaults.device, collate_fn=my_collate, path=path)\n",
    "    return data,tab_db,text_db"
   ]
  },
  {
   "cell_type": "code",
   "execution_count": 30,
   "metadata": {},
   "outputs": [],
   "source": [
    "def get_learner_v2(data,tab_db,text_db):\n",
    "    params={\n",
    "    'layers':[500],\n",
    "#     'ps': [0.001,0,0],\n",
    "    'emb_drop': 0.,\n",
    "    'y_range': [0,6],\n",
    "    'use_bn': True,    \n",
    "    }\n",
    "    tab_learner = get_tabular_learner(tab_db,params)\n",
    "\n",
    "    tab_learner.model.layers = tab_learner.model.layers[:-2]\n",
    "    \n",
    "    params={\n",
    "    #     'lin_ftrs':[1000],\n",
    "    #     'ps': [0.001,0,0],\n",
    "        'bptt':70,\n",
    "        'max_len':20*70,\n",
    "        'drop_mult': 1., \n",
    "    #     'y_range': [0,6], # there is no y_range in text_classfier_learner\n",
    "    #     'use_bn': True,    \n",
    "    }\n",
    "\n",
    "    text_learner = get_text_learner(text_db,params)\n",
    "    \n",
    "    text_learner.model[-1].layers =text_learner.model[-1].layers[:-3] \n",
    "    \n",
    "    lin_layers = [500+50, 1]\n",
    "    ps = [0.]\n",
    "    model = ConcatModel(tab_learner.model, text_learner.model, lin_layers, ps)\n",
    "    \n",
    "    loss_func = MSELossFlat()\n",
    "    layer_groups = [nn.Sequential(*flatten_model(text_learner.layer_groups[0])),\n",
    "                    nn.Sequential(*flatten_model(text_learner.layer_groups[1])),\n",
    "                    nn.Sequential(*flatten_model(text_learner.layer_groups[2])),\n",
    "                    nn.Sequential(*flatten_model(text_learner.layer_groups[3])),\n",
    "                    nn.Sequential(*(flatten_model(text_learner.layer_groups[4]) + \n",
    "                                    flatten_model(model.mod_tab) +\n",
    "                                    flatten_model(model.layers)))] \n",
    "    learn = Learner(data, model, loss_func=loss_func, metrics=root_mean_squared_error, layer_groups=layer_groups)\n",
    "    return learn"
   ]
  },
  {
   "cell_type": "code",
   "execution_count": 31,
   "metadata": {},
   "outputs": [],
   "source": [
    "data,tab_db,text_db = get_data_v2(bs=80)\n",
    "learner = get_learner_v2(data,tab_db,text_db)"
   ]
  },
  {
   "cell_type": "code",
   "execution_count": 33,
   "metadata": {
    "scrolled": true
   },
   "outputs": [
    {
     "data": {
      "text/plain": [
       "5"
      ]
     },
     "execution_count": 33,
     "metadata": {},
     "output_type": "execute_result"
    },
    {
     "data": {
      "text/plain": [
       "[Sequential(\n",
       "   (0): Embedding(33781, 400, padding_idx=1)\n",
       "   (1): Embedding(33781, 400, padding_idx=1)\n",
       " ), Sequential(\n",
       "   (0): LSTM(400, 1150, batch_first=True)\n",
       "   (1): ParameterModule()\n",
       "   (2): RNNDropout()\n",
       " ), Sequential(\n",
       "   (0): LSTM(1150, 1150, batch_first=True)\n",
       "   (1): ParameterModule()\n",
       "   (2): RNNDropout()\n",
       " ), Sequential(\n",
       "   (0): LSTM(1150, 400, batch_first=True)\n",
       "   (1): ParameterModule()\n",
       "   (2): RNNDropout()\n",
       " ), Sequential(\n",
       "   (0): BatchNorm1d(1200, eps=1e-05, momentum=0.1, affine=True, track_running_stats=True)\n",
       "   (1): Dropout(p=0.4)\n",
       "   (2): Linear(in_features=1200, out_features=50, bias=True)\n",
       "   (3): ReLU(inplace)\n",
       "   (4): Embedding(11, 6)\n",
       "   (5): Embedding(110, 22)\n",
       "   (6): Embedding(590, 57)\n",
       "   (7): Embedding(1201, 85)\n",
       "   (8): Embedding(3, 3)\n",
       "   (9): Dropout(p=0.0)\n",
       "   (10): BatchNorm1d(1, eps=1e-05, momentum=0.1, affine=True, track_running_stats=True)\n",
       "   (11): Linear(in_features=174, out_features=500, bias=True)\n",
       "   (12): ReLU(inplace)\n",
       "   (13): BatchNorm1d(550, eps=1e-05, momentum=0.1, affine=True, track_running_stats=True)\n",
       "   (14): Linear(in_features=550, out_features=1, bias=True)\n",
       " )]"
      ]
     },
     "execution_count": 33,
     "metadata": {},
     "output_type": "execute_result"
    }
   ],
   "source": [
    "len(learner.layer_groups)\n",
    "learner.layer_groups"
   ]
  },
  {
   "cell_type": "code",
   "execution_count": 34,
   "metadata": {
    "scrolled": true
   },
   "outputs": [
    {
     "data": {
      "text/html": [],
      "text/plain": [
       "<IPython.core.display.HTML object>"
      ]
     },
     "metadata": {},
     "output_type": "display_data"
    },
    {
     "name": "stdout",
     "output_type": "stream",
     "text": [
      "LR Finder is complete, type {learner_name}.recorder.plot() to see the graph.\n"
     ]
    }
   ],
   "source": [
    "learner.freeze()\n",
    "learner.lr_find()"
   ]
  },
  {
   "cell_type": "code",
   "execution_count": 36,
   "metadata": {},
   "outputs": [
    {
     "data": {
      "image/png": "[encoded data removed]",
      "text/plain": [
       "<Figure size 432x288 with 1 Axes>"
      ]
     },
     "metadata": {
      "needs_background": "light"
     },
     "output_type": "display_data"
    }
   ],
   "source": [
    "learner.recorder.plot(skip_end=1)"
   ]
  },
  {
   "cell_type": "code",
   "execution_count": 38,
   "metadata": {},
   "outputs": [
    {
     "data": {
      "text/html": [
       "Total time: 03:04 <p><table style='width:375px; margin-bottom:10px'>\n",
       "  <tr>\n",
       "    <th>epoch</th>\n",
       "    <th>train_loss</th>\n",
       "    <th>valid_loss</th>\n",
       "    <th>root_mean_squared_error</th>\n",
       "    <th>time</th>\n",
       "  </tr>\n",
       "  <tr>\n",
       "    <th>0</th>\n",
       "    <th>0.472726</th>\n",
       "    <th>0.487691</th>\n",
       "    <th>0.693695</th>\n",
       "    <th>00:38</th>\n",
       "  </tr>\n",
       "  <tr>\n",
       "    <th>1</th>\n",
       "    <th>0.383621</th>\n",
       "    <th>0.344949</th>\n",
       "    <th>0.583201</th>\n",
       "    <th>00:38</th>\n",
       "  </tr>\n",
       "  <tr>\n",
       "    <th>2</th>\n",
       "    <th>0.367073</th>\n",
       "    <th>0.312253</th>\n",
       "    <th>0.553651</th>\n",
       "    <th>00:38</th>\n",
       "  </tr>\n",
       "  <tr>\n",
       "    <th>3</th>\n",
       "    <th>0.329585</th>\n",
       "    <th>0.312475</th>\n",
       "    <th>0.553706</th>\n",
       "    <th>00:32</th>\n",
       "  </tr>\n",
       "  <tr>\n",
       "    <th>4</th>\n",
       "    <th>0.292369</th>\n",
       "    <th>0.308925</th>\n",
       "    <th>0.550532</th>\n",
       "    <th>00:36</th>\n",
       "  </tr>\n",
       "</table>\n"
      ],
      "text/plain": [
       "<IPython.core.display.HTML object>"
      ]
     },
     "metadata": {},
     "output_type": "display_data"
    }
   ],
   "source": [
    "learner.fit_one_cycle(5, 1e-2, moms=(0.8, 0.7))"
   ]
  },
  {
   "cell_type": "code",
   "execution_count": 40,
   "metadata": {},
   "outputs": [],
   "source": [
    "# learner.save('tmp1')"
   ]
  },
  {
   "cell_type": "code",
   "execution_count": 41,
   "metadata": {},
   "outputs": [
    {
     "name": "stderr",
     "output_type": "stream",
     "text": [
      "/home/quantran/anaconda3/envs/python37/lib/python3.7/site-packages/torch/serialization.py:250: UserWarning: Couldn't retrieve source code for container of type ConcatModel. It won't be checked for correctness upon loading.\n",
      "  \"type \" + obj.__name__ + \". It won't be checked \"\n"
     ]
    },
    {
     "data": {
      "text/html": [],
      "text/plain": [
       "<IPython.core.display.HTML object>"
      ]
     },
     "metadata": {},
     "output_type": "display_data"
    },
    {
     "name": "stdout",
     "output_type": "stream",
     "text": [
      "LR Finder is complete, type {learner_name}.recorder.plot() to see the graph.\n"
     ]
    },
    {
     "data": {
      "image/png": "[encoded data removed]",
      "text/plain": [
       "<Figure size 432x288 with 1 Axes>"
      ]
     },
     "metadata": {
      "needs_background": "light"
     },
     "output_type": "display_data"
    }
   ],
   "source": [
    "_=learner.load('tmp1')\n",
    "learner.freeze_to(-2)\n",
    "learner.lr_find()\n",
    "learner.recorder.plot(skip_end=1)"
   ]
  },
  {
   "cell_type": "code",
   "execution_count": 43,
   "metadata": {},
   "outputs": [
    {
     "name": "stderr",
     "output_type": "stream",
     "text": [
      "/home/quantran/anaconda3/envs/python37/lib/python3.7/site-packages/torch/serialization.py:250: UserWarning: Couldn't retrieve source code for container of type ConcatModel. It won't be checked for correctness upon loading.\n",
      "  \"type \" + obj.__name__ + \". It won't be checked \"\n",
      "/home/quantran/anaconda3/envs/python37/lib/python3.7/site-packages/fastai/basic_train.py:324: UserWarning: Wasn't able to properly load the optimizer state again.\n",
      "  except: warn(\"Wasn't able to properly load the optimizer state again.\")\n"
     ]
    },
    {
     "data": {
      "text/html": [
       "Total time: 00:42 <p><table style='width:375px; margin-bottom:10px'>\n",
       "  <tr>\n",
       "    <th>epoch</th>\n",
       "    <th>train_loss</th>\n",
       "    <th>valid_loss</th>\n",
       "    <th>root_mean_squared_error</th>\n",
       "    <th>time</th>\n",
       "  </tr>\n",
       "  <tr>\n",
       "    <th>0</th>\n",
       "    <th>0.267487</th>\n",
       "    <th>0.302697</th>\n",
       "    <th>0.544817</th>\n",
       "    <th>00:42</th>\n",
       "  </tr>\n",
       "</table>\n"
      ],
      "text/plain": [
       "<IPython.core.display.HTML object>"
      ]
     },
     "metadata": {},
     "output_type": "display_data"
    }
   ],
   "source": [
    "_=learner.load('tmp1')\n",
    "learner.freeze_to(-2)\n",
    "\n",
    "learner.fit_one_cycle(1, slice(1.5e-03/(2.6**4),1.5e-03), moms=(0.8, 0.7))"
   ]
  },
  {
   "cell_type": "code",
   "execution_count": 45,
   "metadata": {},
   "outputs": [],
   "source": [
    "# learner.save('tmp2')"
   ]
  },
  {
   "cell_type": "code",
   "execution_count": 46,
   "metadata": {},
   "outputs": [
    {
     "name": "stderr",
     "output_type": "stream",
     "text": [
      "/home/quantran/anaconda3/envs/python37/lib/python3.7/site-packages/torch/serialization.py:250: UserWarning: Couldn't retrieve source code for container of type ConcatModel. It won't be checked for correctness upon loading.\n",
      "  \"type \" + obj.__name__ + \". It won't be checked \"\n"
     ]
    },
    {
     "data": {
      "text/html": [],
      "text/plain": [
       "<IPython.core.display.HTML object>"
      ]
     },
     "metadata": {},
     "output_type": "display_data"
    },
    {
     "name": "stdout",
     "output_type": "stream",
     "text": [
      "LR Finder is complete, type {learner_name}.recorder.plot() to see the graph.\n"
     ]
    },
    {
     "data": {
      "image/png": "[encoded data removed]",
      "text/plain": [
       "<Figure size 432x288 with 1 Axes>"
      ]
     },
     "metadata": {
      "needs_background": "light"
     },
     "output_type": "display_data"
    }
   ],
   "source": [
    "_=learner.load('tmp2')\n",
    "learner.freeze_to(-3)\n",
    "learner.lr_find()\n",
    "learner.recorder.plot(skip_end=1)"
   ]
  },
  {
   "cell_type": "code",
   "execution_count": 49,
   "metadata": {},
   "outputs": [
    {
     "name": "stderr",
     "output_type": "stream",
     "text": [
      "/home/quantran/anaconda3/envs/python37/lib/python3.7/site-packages/torch/serialization.py:250: UserWarning: Couldn't retrieve source code for container of type ConcatModel. It won't be checked for correctness upon loading.\n",
      "  \"type \" + obj.__name__ + \". It won't be checked \"\n",
      "/home/quantran/anaconda3/envs/python37/lib/python3.7/site-packages/fastai/basic_train.py:324: UserWarning: Wasn't able to properly load the optimizer state again.\n",
      "  except: warn(\"Wasn't able to properly load the optimizer state again.\")\n"
     ]
    },
    {
     "data": {
      "text/html": [
       "Total time: 01:00 <p><table style='width:375px; margin-bottom:10px'>\n",
       "  <tr>\n",
       "    <th>epoch</th>\n",
       "    <th>train_loss</th>\n",
       "    <th>valid_loss</th>\n",
       "    <th>root_mean_squared_error</th>\n",
       "    <th>time</th>\n",
       "  </tr>\n",
       "  <tr>\n",
       "    <th>0</th>\n",
       "    <th>0.283848</th>\n",
       "    <th>0.304218</th>\n",
       "    <th>0.546063</th>\n",
       "    <th>01:00</th>\n",
       "  </tr>\n",
       "</table>\n"
      ],
      "text/plain": [
       "<IPython.core.display.HTML object>"
      ]
     },
     "metadata": {},
     "output_type": "display_data"
    }
   ],
   "source": [
    "_=learner.load('tmp2')\n",
    "learner.freeze_to(-3)\n",
    "\n",
    "learner.fit_one_cycle(1, slice(1e-04/(2.6**4),1e-04), moms=(0.8, 0.7))"
   ]
  },
  {
   "cell_type": "code",
   "execution_count": 51,
   "metadata": {},
   "outputs": [],
   "source": [
    "learner.save('tmp3')"
   ]
  },
  {
   "cell_type": "code",
   "execution_count": 52,
   "metadata": {},
   "outputs": [
    {
     "name": "stderr",
     "output_type": "stream",
     "text": [
      "/home/quantran/anaconda3/envs/python37/lib/python3.7/site-packages/torch/serialization.py:250: UserWarning: Couldn't retrieve source code for container of type ConcatModel. It won't be checked for correctness upon loading.\n",
      "  \"type \" + obj.__name__ + \". It won't be checked \"\n"
     ]
    },
    {
     "data": {
      "text/html": [],
      "text/plain": [
       "<IPython.core.display.HTML object>"
      ]
     },
     "metadata": {},
     "output_type": "display_data"
    },
    {
     "name": "stdout",
     "output_type": "stream",
     "text": [
      "LR Finder is complete, type {learner_name}.recorder.plot() to see the graph.\n"
     ]
    },
    {
     "data": {
      "image/png": "[encoded data removed]",
      "text/plain": [
       "<Figure size 432x288 with 1 Axes>"
      ]
     },
     "metadata": {
      "needs_background": "light"
     },
     "output_type": "display_data"
    }
   ],
   "source": [
    "_=learner.load('tmp3')\n",
    "learner.unfreeze()\n",
    "learner.lr_find()\n",
    "learner.recorder.plot(skip_end=1)"
   ]
  },
  {
   "cell_type": "code",
   "execution_count": 53,
   "metadata": {},
   "outputs": [
    {
     "name": "stderr",
     "output_type": "stream",
     "text": [
      "/home/quantran/anaconda3/envs/python37/lib/python3.7/site-packages/torch/serialization.py:250: UserWarning: Couldn't retrieve source code for container of type ConcatModel. It won't be checked for correctness upon loading.\n",
      "  \"type \" + obj.__name__ + \". It won't be checked \"\n",
      "/home/quantran/anaconda3/envs/python37/lib/python3.7/site-packages/fastai/basic_train.py:324: UserWarning: Wasn't able to properly load the optimizer state again.\n",
      "  except: warn(\"Wasn't able to properly load the optimizer state again.\")\n"
     ]
    },
    {
     "data": {
      "text/html": [
       "Total time: 07:26 <p><table style='width:375px; margin-bottom:10px'>\n",
       "  <tr>\n",
       "    <th>epoch</th>\n",
       "    <th>train_loss</th>\n",
       "    <th>valid_loss</th>\n",
       "    <th>root_mean_squared_error</th>\n",
       "    <th>time</th>\n",
       "  </tr>\n",
       "  <tr>\n",
       "    <th>0</th>\n",
       "    <th>0.276193</th>\n",
       "    <th>0.307753</th>\n",
       "    <th>0.549099</th>\n",
       "    <th>01:18</th>\n",
       "  </tr>\n",
       "  <tr>\n",
       "    <th>1</th>\n",
       "    <th>0.284283</th>\n",
       "    <th>0.306177</th>\n",
       "    <th>0.547790</th>\n",
       "    <th>01:31</th>\n",
       "  </tr>\n",
       "  <tr>\n",
       "    <th>2</th>\n",
       "    <th>0.268361</th>\n",
       "    <th>0.301729</th>\n",
       "    <th>0.543903</th>\n",
       "    <th>01:33</th>\n",
       "  </tr>\n",
       "  <tr>\n",
       "    <th>3</th>\n",
       "    <th>0.272800</th>\n",
       "    <th>0.302849</th>\n",
       "    <th>0.545007</th>\n",
       "    <th>01:28</th>\n",
       "  </tr>\n",
       "  <tr>\n",
       "    <th>4</th>\n",
       "    <th>0.287973</th>\n",
       "    <th>0.306682</th>\n",
       "    <th>0.548176</th>\n",
       "    <th>01:34</th>\n",
       "  </tr>\n",
       "</table>\n"
      ],
      "text/plain": [
       "<IPython.core.display.HTML object>"
      ]
     },
     "metadata": {},
     "output_type": "display_data"
    }
   ],
   "source": [
    "_=learner.load('tmp3')\n",
    "learner.unfreeze()\n",
    "\n",
    "learner.fit_one_cycle(5, slice(3e-05/(2.6**4),3e-05), moms=(0.8, 0.7))"
   ]
  },
  {
   "cell_type": "code",
   "execution_count": null,
   "metadata": {},
   "outputs": [],
   "source": []
  },
  {
   "cell_type": "code",
   "execution_count": 18,
   "metadata": {},
   "outputs": [
    {
     "data": {
      "text/html": [
       "Total time: 6:51:07 <p><table style='width:375px; margin-bottom:10px'>\n",
       "  <tr>\n",
       "    <th>epoch</th>\n",
       "    <th>train_loss</th>\n",
       "    <th>valid_loss</th>\n",
       "    <th>root_mean_squared_error</th>\n",
       "    <th>time</th>\n",
       "  </tr>\n",
       "  <tr>\n",
       "    <th>0</th>\n",
       "    <th>0.308574</th>\n",
       "    <th>0.297962</th>\n",
       "    <th>0.543225</th>\n",
       "    <th>1:08:28</th>\n",
       "  </tr>\n",
       "  <tr>\n",
       "    <th>1</th>\n",
       "    <th>0.322636</th>\n",
       "    <th>0.325656</th>\n",
       "    <th>0.565951</th>\n",
       "    <th>1:08:32</th>\n",
       "  </tr>\n",
       "  <tr>\n",
       "    <th>2</th>\n",
       "    <th>0.308093</th>\n",
       "    <th>0.320362</th>\n",
       "    <th>0.561940</th>\n",
       "    <th>1:08:28</th>\n",
       "  </tr>\n",
       "  <tr>\n",
       "    <th>3</th>\n",
       "    <th>0.301868</th>\n",
       "    <th>0.287178</th>\n",
       "    <th>0.532738</th>\n",
       "    <th>1:08:28</th>\n",
       "  </tr>\n",
       "  <tr>\n",
       "    <th>4</th>\n",
       "    <th>0.287716</th>\n",
       "    <th>0.280896</th>\n",
       "    <th>0.527114</th>\n",
       "    <th>1:08:32</th>\n",
       "  </tr>\n",
       "  <tr>\n",
       "    <th>5</th>\n",
       "    <th>0.283715</th>\n",
       "    <th>0.277816</th>\n",
       "    <th>0.523942</th>\n",
       "    <th>1:08:35</th>\n",
       "  </tr>\n",
       "</table>\n"
      ],
      "text/plain": [
       "<IPython.core.display.HTML object>"
      ]
     },
     "metadata": {},
     "output_type": "display_data"
    },
    {
     "name": "stdout",
     "output_type": "stream",
     "text": [
      "Better model found at epoch 0 with root_mean_squared_error value: 0.543224573135376.\n",
      "Better model found at epoch 3 with root_mean_squared_error value: 0.5327377915382385.\n",
      "Better model found at epoch 4 with root_mean_squared_error value: 0.5271139144897461.\n",
      "Better model found at epoch 5 with root_mean_squared_error value: 0.5239419341087341.\n"
     ]
    }
   ],
   "source": [
    "# # train on all data from training. Took a whole night\n",
    "# learn.fit_one_cycle(6,max_lr=1e-02,pct_start=0.3,moms=(0.8,0.7))a"
   ]
  },
  {
   "cell_type": "code",
   "execution_count": null,
   "metadata": {},
   "outputs": [],
   "source": []
  }
 ],
 "metadata": {
  "kernelspec": {
   "display_name": "Python 3",
   "language": "python",
   "name": "python3"
  },
  "language_info": {
   "codemirror_mode": {
    "name": "ipython",
    "version": 3
   },
   "file_extension": ".py",
   "mimetype": "text/x-python",
   "name": "python",
   "nbconvert_exporter": "python",
   "pygments_lexer": "ipython3",
   "version": "3.7.1"
  }
 },
 "nbformat": 4,
 "nbformat_minor": 2
}

{
 "cells": [
  {
   "cell_type": "code",
   "execution_count": 1,
   "metadata": {},
   "outputs": [],
   "source": [
    "from IPython.core.interactiveshell import InteractiveShell\n",
    "InteractiveShell.ast_node_interactivity = \"all\""
   ]
  },
  {
   "cell_type": "code",
   "execution_count": 2,
   "metadata": {},
   "outputs": [],
   "source": [
    "from sklearn.model_selection import KFold"
   ]
  },
  {
   "cell_type": "code",
   "execution_count": 3,
   "metadata": {},
   "outputs": [],
   "source": [
    "from fastai.callbacks.tracker import *\n",
    "from fastai.text import *\n",
    "from fastai.tabular import *\n",
    "from fastai_tab_text import *"
   ]
  },
  {
   "cell_type": "code",
   "execution_count": 4,
   "metadata": {},
   "outputs": [],
   "source": [
    "def reset_seed(seed=42):\n",
    "    random.seed(seed)\n",
    "    os.environ['PYTHONHASHSEED'] = str(seed)\n",
    "#     tf.set_random_seed(seed)\n",
    "    np.random.seed(seed)\n",
    "    torch.manual_seed(seed)\n",
    "    torch.backends.cudnn.deterministic = True\n",
    "    if torch.cuda.is_available(): \n",
    "        torch.cuda.manual_seed(seed)\n",
    "        torch.cuda.manual_seed_all(seed)\n",
    "reset_seed()"
   ]
  },
  {
   "cell_type": "code",
   "execution_count": 5,
   "metadata": {},
   "outputs": [],
   "source": [
    "mercari_path = Path('data/')"
   ]
  },
  {
   "cell_type": "markdown",
   "metadata": {},
   "source": [
    "# Prepare data"
   ]
  },
  {
   "cell_type": "code",
   "execution_count": 6,
   "metadata": {},
   "outputs": [],
   "source": [
    "def preprocess_text_cols(df: pd.DataFrame) -> pd.DataFrame:\n",
    "  \n",
    "    df['category_name'] = df['category_name'].fillna('//')\n",
    "    df['category1'] = df['category_name'].apply(lambda x : x.split('/')[0].strip())\n",
    "    df.loc[df.category1=='','category1']= np.NaN\n",
    "    df['category2'] = df['category_name'].apply(lambda x : x.split('/')[1].strip())\n",
    "    df.loc[df.category2=='','category2']= np.NaN\n",
    "    df['category3'] = df['category_name'].apply(lambda x : x.split('/')[2].strip())\n",
    "    df.loc[df.category3=='','category3']= np.NaN\n",
    "    df['category_name'] = df['category_name'].apply( lambda x : ' '.join( x.split('/') ).strip() )\n",
    "    df.loc[df.category_name=='','category_name']= 'No category' # let this info in when concatenating text for RNN\n",
    "    \n",
    "    df_bn_fillna = df['brand_name'].fillna('No brand')\n",
    "    df['text'] = (df['name'].fillna('No name') + '. ' + df_bn_fillna + '. ' + \n",
    "                  df['category_name'] + '. ' + df['item_description'].fillna('No description'))\n",
    "    return df[['category1','category2','category3','brand_name', 'text', 'shipping', 'item_condition_id','price']]\n",
    "\n",
    "def preprocess_all(sample=None):\n",
    "    train = pd.read_table(mercari_path/'train.tsv').drop('train_id',axis=1)\n",
    "    price = train.price.values\n",
    "    train=train.drop('price',axis=1)\n",
    "    train['price']=price\n",
    "    \n",
    "    test = pd.read_table(mercari_path/'test_stg2.tsv').drop('test_id',axis=1)\n",
    "    test['price'] = np.NAN\n",
    "    train = train[train['price'] > 0].reset_index(drop=True)\n",
    "    all_df = pd.concat([train,test],axis=0).reset_index(drop=True)\n",
    "    del train\n",
    "    del test\n",
    "    gc.collect()\n",
    "#     if sample:\n",
    "#         np.random.seed(42)\n",
    "#         sample = np.random.permutation(sample)\n",
    "#         train = train.loc[sample].reset_index(drop=True)\n",
    "\n",
    "    all_df = preprocess_text_cols(all_df)\n",
    "    \n",
    "    return all_df\n",
    "def preprocess_train(sample=None):\n",
    "    train = pd.read_table(mercari_path/'train.tsv').drop('train_id',axis=1)\n",
    "    price = train.price.values\n",
    "    train=train.drop('price',axis=1)\n",
    "    train['price']=price\n",
    "\n",
    "    if sample:\n",
    "        np.random.seed(42)\n",
    "        sample = np.random.permutation(sample)\n",
    "        train = train.loc[sample].reset_index(drop=True)\n",
    "\n",
    "    train = preprocess_text_cols(train)\n",
    "\n",
    "    return train\n",
    "def get_val_idxs(train,n_splits=20):\n",
    "    np.random.seed(42)\n",
    "    cv = KFold(n_splits=n_splits, shuffle=True, random_state=42)\n",
    "    train_idxs, valid_idxs = next(cv.split(train))\n",
    "    return train_idxs,valid_idxs"
   ]
  },
  {
   "cell_type": "code",
   "execution_count": 7,
   "metadata": {},
   "outputs": [],
   "source": [
    "n=1482535 # train shape"
   ]
  },
  {
   "cell_type": "code",
   "execution_count": 8,
   "metadata": {},
   "outputs": [
    {
     "data": {
      "text/plain": [
       "(44476, 8)"
      ]
     },
     "execution_count": 8,
     "metadata": {},
     "output_type": "execute_result"
    }
   ],
   "source": [
    "train_df = preprocess_train(int(.03*n))\n",
    "train_df.shape"
   ]
  },
  {
   "cell_type": "code",
   "execution_count": 9,
   "metadata": {},
   "outputs": [],
   "source": [
    "train_df.price = np.log1p(train_df['price']) # so we can use MSE in NN"
   ]
  },
  {
   "cell_type": "code",
   "execution_count": 10,
   "metadata": {},
   "outputs": [
    {
     "name": "stdout",
     "output_type": "stream",
     "text": [
      "# of continuous feas: 1\n",
      "# of categorical feas: 5\n"
     ]
    },
    {
     "data": {
      "text/plain": [
       "True"
      ]
     },
     "execution_count": 10,
     "metadata": {},
     "output_type": "execute_result"
    }
   ],
   "source": [
    "cat_names=['category1','category2','category3','brand_name','shipping']\n",
    "# cont_names= list(set(train.columns) - set(cat_names) - {'AdoptionSpeed'})\n",
    "cont_names= list(set(train_df.columns) - set(cat_names) - {'price','text'})\n",
    "print(f'# of continuous feas: {len(cont_names)}')\n",
    "print(f'# of categorical feas: {len(cat_names)}')\n",
    "dep_var = 'price'\n",
    "procs = [FillMissing,Categorify, Normalize]\n",
    "\n",
    "txt_cols=['text']\n",
    "\n",
    "len(cat_names) + len(cont_names) + 2 == train_df.shape[1]"
   ]
  },
  {
   "cell_type": "code",
   "execution_count": 11,
   "metadata": {},
   "outputs": [
    {
     "data": {
      "text/plain": [
       "(array([    0,     1,     2,     3, ..., 44472, 44473, 44474, 44475]),\n",
       " array([    4,     7,    40,    49, ..., 44424, 44438, 44445, 44457]))"
      ]
     },
     "execution_count": 11,
     "metadata": {},
     "output_type": "execute_result"
    },
    {
     "data": {
      "text/plain": [
       "((40028,), (4448,))"
      ]
     },
     "execution_count": 11,
     "metadata": {},
     "output_type": "execute_result"
    }
   ],
   "source": [
    "train_idxs,val_idxs = get_val_idxs(train_df,n_splits=10)\n",
    "train_idxs,val_idxs\n",
    "train_idxs.shape,val_idxs.shape"
   ]
  },
  {
   "cell_type": "code",
   "execution_count": 12,
   "metadata": {},
   "outputs": [],
   "source": [
    "def get_tabulartext_databunch(bs=100,val_idxs=val_idxs,path=mercari_path):\n",
    "    data_lm = load_data(path, 'data_lm.pkl', bs=bs)\n",
    "    collate_fn = partial(mixed_tabular_pad_collate, pad_idx=1, pad_first=True)\n",
    "    reset_seed()\n",
    "    return (TabularTextList.from_df(train_df, cat_names, cont_names, txt_cols, vocab=data_lm.vocab, procs=procs, path=path)\n",
    "                            .split_by_idx(val_idxs)\n",
    "                            .label_from_df(cols=dep_var)\n",
    "#                             .add_test(TabularTextList.from_df(test, cat_names, cont_names, txt_cols,path=path))\n",
    "                            .databunch(bs=bs,collate_fn=collate_fn, no_check=False))"
   ]
  },
  {
   "cell_type": "code",
   "execution_count": 13,
   "metadata": {},
   "outputs": [],
   "source": [
    "encoder_name = 'bs60-awdlstm-enc-stage2'\n",
    "def get_tabtext_lr_find(data,params,seed=42):\n",
    "    reset_seed(seed)\n",
    "    learn_lf = tabtext_learner(data,AWD_LSTM,metrics=[root_mean_squared_error],**params).to_fp16()\n",
    "    learn_lf.load_encoder(encoder_name)\n",
    "    return learn_lf.to_fp32()\n",
    "\n",
    "def get_tabulartext_learner(data,params,seed=42):\n",
    "    reset_seed(seed)\n",
    "    learn= tabtext_learner(data,AWD_LSTM,metrics=[root_mean_squared_error],\n",
    "                               callback_fns=[partial(SaveModelCallback, monitor='root_mean_squared_error',mode='min',every='improvement',name='best_nn')],\n",
    "                               **params).to_fp16()\n",
    "    learn.load_encoder(encoder_name)\n",
    "    return learn"
   ]
  },
  {
   "cell_type": "markdown",
   "metadata": {},
   "source": [
    "# stage 1"
   ]
  },
  {
   "cell_type": "code",
   "execution_count": 14,
   "metadata": {},
   "outputs": [],
   "source": [
    "params={\n",
    "    'layers':[500,400,200],\n",
    "    'bptt':70,\n",
    "    'max_len':20*70,\n",
    "    'drop_mult': 1., # drop_mult: multiply to different dropouts in AWD LSTM\n",
    "    'lin_ftrs': [300],\n",
    "    'ps_lin_ftrs': [0],\n",
    "    'ps': [0.001,0,0],\n",
    "    'emb_drop': 0.,\n",
    "    'y_range': [0,6],\n",
    "    'use_bn': True,    \n",
    "}\n",
    "bs=100"
   ]
  },
  {
   "cell_type": "code",
   "execution_count": 15,
   "metadata": {},
   "outputs": [],
   "source": [
    "data = get_tabulartext_databunch(bs=bs)"
   ]
  },
  {
   "cell_type": "code",
   "execution_count": 17,
   "metadata": {},
   "outputs": [],
   "source": [
    "learn = get_tabtext_lr_find(data,params,seed=42).to_fp32()"
   ]
  },
  {
   "cell_type": "code",
   "execution_count": 21,
   "metadata": {},
   "outputs": [
    {
     "data": {
      "text/plain": [
       "0"
      ]
     },
     "execution_count": 21,
     "metadata": {},
     "output_type": "execute_result"
    },
    {
     "data": {
      "text/html": [],
      "text/plain": [
       "<IPython.core.display.HTML object>"
      ]
     },
     "metadata": {},
     "output_type": "display_data"
    },
    {
     "name": "stdout",
     "output_type": "stream",
     "text": [
      "LR Finder is complete, type {learner_name}.recorder.plot() to see the graph.\n"
     ]
    },
    {
     "data": {
      "image/png": "[encoded data removed]",
      "text/plain": [
       "<Figure size 432x288 with 1 Axes>"
      ]
     },
     "metadata": {
      "needs_background": "light"
     },
     "output_type": "display_data"
    }
   ],
   "source": [
    "_=learn.load('temp1')\n",
    "gc.collect()\n",
    "learn.unfreeze()\n",
    "learn.lr_find()\n",
    "learn.recorder.plot()"
   ]
  },
  {
   "cell_type": "code",
   "execution_count": 18,
   "metadata": {},
   "outputs": [
    {
     "data": {
      "text/plain": [
       "153"
      ]
     },
     "execution_count": 18,
     "metadata": {},
     "output_type": "execute_result"
    }
   ],
   "source": [
    "learn = get_tabulartext_learner(data,params,seed=42).to_fp32()\n",
    "gc.collect()"
   ]
  },
  {
   "cell_type": "code",
   "execution_count": 19,
   "metadata": {},
   "outputs": [
    {
     "data": {
      "text/html": [
       "Total time: 04:04 <p><table style='width:375px; margin-bottom:10px'>\n",
       "  <tr>\n",
       "    <th>epoch</th>\n",
       "    <th>train_loss</th>\n",
       "    <th>valid_loss</th>\n",
       "    <th>root_mean_squared_error</th>\n",
       "    <th>time</th>\n",
       "  </tr>\n",
       "  <tr>\n",
       "    <th>0</th>\n",
       "    <th>0.374204</th>\n",
       "    <th>0.371318</th>\n",
       "    <th>0.604306</th>\n",
       "    <th>02:02</th>\n",
       "  </tr>\n",
       "  <tr>\n",
       "    <th>1</th>\n",
       "    <th>0.329129</th>\n",
       "    <th>0.348524</th>\n",
       "    <th>0.585446</th>\n",
       "    <th>02:01</th>\n",
       "  </tr>\n",
       "</table>\n"
      ],
      "text/plain": [
       "<IPython.core.display.HTML object>"
      ]
     },
     "metadata": {},
     "output_type": "display_data"
    },
    {
     "name": "stdout",
     "output_type": "stream",
     "text": [
      "Better model found at epoch 0 with root_mean_squared_error value: 0.6043059229850769.\n",
      "Better model found at epoch 1 with root_mean_squared_error value: 0.5854463577270508.\n"
     ]
    }
   ],
   "source": [
    "learn.fit_one_cycle(2,max_lr=1e-02,pct_start=0.3,moms=(0.8,0.7))"
   ]
  },
  {
   "cell_type": "code",
   "execution_count": 30,
   "metadata": {},
   "outputs": [
    {
     "data": {
      "text/html": [
       "Total time: 01:59 <p><table style='width:375px; margin-bottom:10px'>\n",
       "  <tr>\n",
       "    <th>epoch</th>\n",
       "    <th>train_loss</th>\n",
       "    <th>valid_loss</th>\n",
       "    <th>root_mean_squared_error</th>\n",
       "    <th>time</th>\n",
       "  </tr>\n",
       "  <tr>\n",
       "    <th>0</th>\n",
       "    <th>0.457749</th>\n",
       "    <th>0.393187</th>\n",
       "    <th>0.625363</th>\n",
       "    <th>00:39</th>\n",
       "  </tr>\n",
       "  <tr>\n",
       "    <th>1</th>\n",
       "    <th>0.371698</th>\n",
       "    <th>0.337614</th>\n",
       "    <th>0.579418</th>\n",
       "    <th>00:39</th>\n",
       "  </tr>\n",
       "  <tr>\n",
       "    <th>2</th>\n",
       "    <th>0.320161</th>\n",
       "    <th>0.332637</th>\n",
       "    <th>0.575189</th>\n",
       "    <th>00:39</th>\n",
       "  </tr>\n",
       "</table>\n"
      ],
      "text/plain": [
       "<IPython.core.display.HTML object>"
      ]
     },
     "metadata": {},
     "output_type": "display_data"
    },
    {
     "name": "stdout",
     "output_type": "stream",
     "text": [
      "Better model found at epoch 0 with root_mean_squared_error value: 0.6253625750541687.\n",
      "Better model found at epoch 1 with root_mean_squared_error value: 0.5794180035591125.\n",
      "Better model found at epoch 2 with root_mean_squared_error value: 0.5751887559890747.\n"
     ]
    }
   ],
   "source": [
    "# learn.fit_one_cycle(3,max_lr=1e-02,pct_start=0.3,moms=(0.8,0.7))"
   ]
  },
  {
   "cell_type": "code",
   "execution_count": 20,
   "metadata": {},
   "outputs": [],
   "source": [
    "# learn.save('temp1')"
   ]
  },
  {
   "cell_type": "code",
   "execution_count": 22,
   "metadata": {},
   "outputs": [
    {
     "data": {
      "text/plain": [
       "11"
      ]
     },
     "execution_count": 22,
     "metadata": {},
     "output_type": "execute_result"
    }
   ],
   "source": [
    "learn = get_tabtext_lr_find(data,params,seed=42).to_fp32()\n",
    "_=learn.load('temp1')\n",
    "gc.collect()"
   ]
  },
  {
   "cell_type": "code",
   "execution_count": 23,
   "metadata": {},
   "outputs": [
    {
     "data": {
      "text/html": [
       "Total time: 10:14 <p><table style='width:375px; margin-bottom:10px'>\n",
       "  <tr>\n",
       "    <th>epoch</th>\n",
       "    <th>train_loss</th>\n",
       "    <th>valid_loss</th>\n",
       "    <th>root_mean_squared_error</th>\n",
       "    <th>time</th>\n",
       "  </tr>\n",
       "  <tr>\n",
       "    <th>0</th>\n",
       "    <th>0.301406</th>\n",
       "    <th>0.344652</th>\n",
       "    <th>0.582179</th>\n",
       "    <th>05:06</th>\n",
       "  </tr>\n",
       "  <tr>\n",
       "    <th>1</th>\n",
       "    <th>0.316974</th>\n",
       "    <th>0.336493</th>\n",
       "    <th>0.574820</th>\n",
       "    <th>05:07</th>\n",
       "  </tr>\n",
       "</table>\n"
      ],
      "text/plain": [
       "<IPython.core.display.HTML object>"
      ]
     },
     "metadata": {},
     "output_type": "display_data"
    }
   ],
   "source": [
    "learn.unfreeze()\n",
    "learn.fit_one_cycle(2,max_lr=slice(1e-05,1e-03),pct_start=0.3,moms=(0.8,0.7))"
   ]
  },
  {
   "cell_type": "code",
   "execution_count": 21,
   "metadata": {},
   "outputs": [
    {
     "data": {
      "text/html": [
       "Total time: 08:38 <p><table style='width:375px; margin-bottom:10px'>\n",
       "  <tr>\n",
       "    <th>epoch</th>\n",
       "    <th>train_loss</th>\n",
       "    <th>valid_loss</th>\n",
       "    <th>root_mean_squared_error</th>\n",
       "    <th>time</th>\n",
       "  </tr>\n",
       "  <tr>\n",
       "    <th>0</th>\n",
       "    <th>0.293322</th>\n",
       "    <th>0.326228</th>\n",
       "    <th>0.569505</th>\n",
       "    <th>01:43</th>\n",
       "  </tr>\n",
       "  <tr>\n",
       "    <th>1</th>\n",
       "    <th>0.295367</th>\n",
       "    <th>0.332587</th>\n",
       "    <th>0.575211</th>\n",
       "    <th>01:44</th>\n",
       "  </tr>\n",
       "  <tr>\n",
       "    <th>2</th>\n",
       "    <th>0.304284</th>\n",
       "    <th>0.322180</th>\n",
       "    <th>0.566263</th>\n",
       "    <th>01:42</th>\n",
       "  </tr>\n",
       "  <tr>\n",
       "    <th>3</th>\n",
       "    <th>0.288383</th>\n",
       "    <th>0.324699</th>\n",
       "    <th>0.568140</th>\n",
       "    <th>01:42</th>\n",
       "  </tr>\n",
       "  <tr>\n",
       "    <th>4</th>\n",
       "    <th>0.287395</th>\n",
       "    <th>0.324750</th>\n",
       "    <th>0.568179</th>\n",
       "    <th>01:45</th>\n",
       "  </tr>\n",
       "</table>\n"
      ],
      "text/plain": [
       "<IPython.core.display.HTML object>"
      ]
     },
     "metadata": {},
     "output_type": "display_data"
    }
   ],
   "source": [
    "# learn.unfreeze()\n",
    "# learn.fit_one_cycle(5,max_lr=slice(1e-06,8e-04),pct_start=0.3,moms=(0.8,0.7))"
   ]
  },
  {
   "cell_type": "code",
   "execution_count": 19,
   "metadata": {},
   "outputs": [
    {
     "data": {
      "text/html": [
       "Total time: 08:34 <p><table style='width:375px; margin-bottom:10px'>\n",
       "  <tr>\n",
       "    <th>epoch</th>\n",
       "    <th>train_loss</th>\n",
       "    <th>valid_loss</th>\n",
       "    <th>root_mean_squared_error</th>\n",
       "    <th>time</th>\n",
       "  </tr>\n",
       "  <tr>\n",
       "    <th>0</th>\n",
       "    <th>0.294495</th>\n",
       "    <th>0.335348</th>\n",
       "    <th>0.577498</th>\n",
       "    <th>01:41</th>\n",
       "  </tr>\n",
       "  <tr>\n",
       "    <th>1</th>\n",
       "    <th>0.287542</th>\n",
       "    <th>0.328527</th>\n",
       "    <th>0.571548</th>\n",
       "    <th>01:42</th>\n",
       "  </tr>\n",
       "  <tr>\n",
       "    <th>2</th>\n",
       "    <th>0.299809</th>\n",
       "    <th>0.330349</th>\n",
       "    <th>0.573148</th>\n",
       "    <th>01:42</th>\n",
       "  </tr>\n",
       "  <tr>\n",
       "    <th>3</th>\n",
       "    <th>0.291962</th>\n",
       "    <th>0.323944</th>\n",
       "    <th>0.567475</th>\n",
       "    <th>01:43</th>\n",
       "  </tr>\n",
       "  <tr>\n",
       "    <th>4</th>\n",
       "    <th>0.296757</th>\n",
       "    <th>0.324230</th>\n",
       "    <th>0.567679</th>\n",
       "    <th>01:44</th>\n",
       "  </tr>\n",
       "</table>\n"
      ],
      "text/plain": [
       "<IPython.core.display.HTML object>"
      ]
     },
     "metadata": {},
     "output_type": "display_data"
    }
   ],
   "source": [
    "learn.unfreeze()\n",
    "learn.fit_one_cycle(1,max_lr=slice(1e-06,1e-04),pct_start=0.3,moms=(0.8,0.7))"
   ]
  },
  {
   "cell_type": "code",
   "execution_count": 17,
   "metadata": {},
   "outputs": [
    {
     "data": {
      "text/html": [
       "Total time: 08:35 <p><table style='width:375px; margin-bottom:10px'>\n",
       "  <tr>\n",
       "    <th>epoch</th>\n",
       "    <th>train_loss</th>\n",
       "    <th>valid_loss</th>\n",
       "    <th>root_mean_squared_error</th>\n",
       "    <th>time</th>\n",
       "  </tr>\n",
       "  <tr>\n",
       "    <th>0</th>\n",
       "    <th>0.295371</th>\n",
       "    <th>0.332972</th>\n",
       "    <th>0.575451</th>\n",
       "    <th>01:42</th>\n",
       "  </tr>\n",
       "  <tr>\n",
       "    <th>1</th>\n",
       "    <th>0.288805</th>\n",
       "    <th>0.329607</th>\n",
       "    <th>0.572507</th>\n",
       "    <th>01:42</th>\n",
       "  </tr>\n",
       "  <tr>\n",
       "    <th>2</th>\n",
       "    <th>0.301661</th>\n",
       "    <th>0.332245</th>\n",
       "    <th>0.574773</th>\n",
       "    <th>01:42</th>\n",
       "  </tr>\n",
       "  <tr>\n",
       "    <th>3</th>\n",
       "    <th>0.292274</th>\n",
       "    <th>0.324797</th>\n",
       "    <th>0.568222</th>\n",
       "    <th>01:43</th>\n",
       "  </tr>\n",
       "  <tr>\n",
       "    <th>4</th>\n",
       "    <th>0.297009</th>\n",
       "    <th>0.325818</th>\n",
       "    <th>0.569094</th>\n",
       "    <th>01:44</th>\n",
       "  </tr>\n",
       "</table>\n"
      ],
      "text/plain": [
       "<IPython.core.display.HTML object>"
      ]
     },
     "metadata": {},
     "output_type": "display_data"
    }
   ],
   "source": [
    "# learn.unfreeze()\n",
    "# learn.fit_one_cycle(5,max_lr=slice(1.5e-06,4e-05),pct_start=0.3,moms=(0.8,0.7))"
   ]
  },
  {
   "cell_type": "code",
   "execution_count": 25,
   "metadata": {},
   "outputs": [
    {
     "data": {
      "text/html": [
       "Total time: 00:50 <p><table style='width:375px; margin-bottom:10px'>\n",
       "  <tr>\n",
       "    <th>epoch</th>\n",
       "    <th>train_loss</th>\n",
       "    <th>valid_loss</th>\n",
       "    <th>root_mean_squared_error</th>\n",
       "    <th>time</th>\n",
       "  </tr>\n",
       "  <tr>\n",
       "    <th>0</th>\n",
       "    <th>0.310943</th>\n",
       "    <th>0.335388</th>\n",
       "    <th>0.577758</th>\n",
       "    <th>00:50</th>\n",
       "  </tr>\n",
       "</table>\n"
      ],
      "text/plain": [
       "<IPython.core.display.HTML object>"
      ]
     },
     "metadata": {},
     "output_type": "display_data"
    }
   ],
   "source": [
    "# learn.freeze_to(-2)\n",
    "# learn.fit_one_cycle(1,max_lr=slice(1e-05,3e-04),pct_start=0.3,moms=(0.8,0.7))"
   ]
  },
  {
   "cell_type": "code",
   "execution_count": null,
   "metadata": {},
   "outputs": [],
   "source": []
  },
  {
   "cell_type": "code",
   "execution_count": null,
   "metadata": {},
   "outputs": [],
   "source": []
  },
  {
   "cell_type": "code",
   "execution_count": 153,
   "metadata": {},
   "outputs": [
    {
     "data": {
      "text/html": [
       "Total time: 02:35 <p><table style='width:375px; margin-bottom:10px'>\n",
       "  <tr>\n",
       "    <th>epoch</th>\n",
       "    <th>train_loss</th>\n",
       "    <th>valid_loss</th>\n",
       "    <th>root_mean_squared_error</th>\n",
       "    <th>time</th>\n",
       "  </tr>\n",
       "  <tr>\n",
       "    <th>0</th>\n",
       "    <th>0.493848</th>\n",
       "    <th>0.346415</th>\n",
       "    <th>0.587800</th>\n",
       "    <th>00:38</th>\n",
       "  </tr>\n",
       "  <tr>\n",
       "    <th>1</th>\n",
       "    <th>0.392703</th>\n",
       "    <th>0.375146</th>\n",
       "    <th>0.610408</th>\n",
       "    <th>00:38</th>\n",
       "  </tr>\n",
       "  <tr>\n",
       "    <th>2</th>\n",
       "    <th>0.341316</th>\n",
       "    <th>0.325856</th>\n",
       "    <th>0.569676</th>\n",
       "    <th>00:38</th>\n",
       "  </tr>\n",
       "  <tr>\n",
       "    <th>3</th>\n",
       "    <th>0.304012</th>\n",
       "    <th>0.319580</th>\n",
       "    <th>0.563768</th>\n",
       "    <th>00:38</th>\n",
       "  </tr>\n",
       "</table>\n"
      ],
      "text/plain": [
       "<IPython.core.display.HTML object>"
      ]
     },
     "metadata": {},
     "output_type": "display_data"
    },
    {
     "name": "stdout",
     "output_type": "stream",
     "text": [
      "Better model found at epoch 0 with root_mean_squared_error value: 0.5877997875213623.\n",
      "Better model found at epoch 2 with root_mean_squared_error value: 0.5696762800216675.\n",
      "Better model found at epoch 3 with root_mean_squared_error value: 0.5637679696083069.\n"
     ]
    }
   ],
   "source": [
    "# learn.fit_one_cycle(4,max_lr=1e-02,pct_start=0.3,moms=(0.8,0.7))"
   ]
  },
  {
   "cell_type": "code",
   "execution_count": 148,
   "metadata": {},
   "outputs": [
    {
     "data": {
      "text/html": [
       "Total time: 02:35 <p><table style='width:375px; margin-bottom:10px'>\n",
       "  <tr>\n",
       "    <th>epoch</th>\n",
       "    <th>train_loss</th>\n",
       "    <th>valid_loss</th>\n",
       "    <th>root_mean_squared_error</th>\n",
       "    <th>time</th>\n",
       "  </tr>\n",
       "  <tr>\n",
       "    <th>0</th>\n",
       "    <th>0.491284</th>\n",
       "    <th>0.368734</th>\n",
       "    <th>0.606353</th>\n",
       "    <th>00:38</th>\n",
       "  </tr>\n",
       "  <tr>\n",
       "    <th>1</th>\n",
       "    <th>0.393837</th>\n",
       "    <th>0.356004</th>\n",
       "    <th>0.594548</th>\n",
       "    <th>00:38</th>\n",
       "  </tr>\n",
       "  <tr>\n",
       "    <th>2</th>\n",
       "    <th>0.340752</th>\n",
       "    <th>0.328317</th>\n",
       "    <th>0.571813</th>\n",
       "    <th>00:38</th>\n",
       "  </tr>\n",
       "  <tr>\n",
       "    <th>3</th>\n",
       "    <th>0.302183</th>\n",
       "    <th>0.321478</th>\n",
       "    <th>0.565397</th>\n",
       "    <th>00:39</th>\n",
       "  </tr>\n",
       "</table>\n"
      ],
      "text/plain": [
       "<IPython.core.display.HTML object>"
      ]
     },
     "metadata": {},
     "output_type": "display_data"
    },
    {
     "name": "stdout",
     "output_type": "stream",
     "text": [
      "Better model found at epoch 0 with root_mean_squared_error value: 0.606352686882019.\n",
      "Better model found at epoch 1 with root_mean_squared_error value: 0.5945475101470947.\n",
      "Better model found at epoch 2 with root_mean_squared_error value: 0.5718128681182861.\n",
      "Better model found at epoch 3 with root_mean_squared_error value: 0.5653970241546631.\n"
     ]
    }
   ],
   "source": [
    "# params={\n",
    "#     'layers':[500,200,100],\n",
    "#     'bptt':70,\n",
    "#     'max_len':20*70,\n",
    "#     'drop_mult': 1., # drop_mult: multiply to different dropouts in AWD LSTM\n",
    "#     'lin_ftrs': [300],\n",
    "#     'ps_lin_ftrs': [0],\n",
    "#     'ps': [0.001,0.01,0],\n",
    "#     'emb_drop': 0.,\n",
    "#     'y_range': [0,6],\n",
    "#     'use_bn': True,    \n",
    "# }\n",
    "# bs=160\n",
    "# learn.fit_one_cycle(4,max_lr=1e-02,pct_start=0.3,moms=(0.8,0.7))"
   ]
  },
  {
   "cell_type": "code",
   "execution_count": 144,
   "metadata": {},
   "outputs": [
    {
     "data": {
      "text/html": [
       "Total time: 02:36 <p><table style='width:375px; margin-bottom:10px'>\n",
       "  <tr>\n",
       "    <th>epoch</th>\n",
       "    <th>train_loss</th>\n",
       "    <th>valid_loss</th>\n",
       "    <th>root_mean_squared_error</th>\n",
       "    <th>time</th>\n",
       "  </tr>\n",
       "  <tr>\n",
       "    <th>0</th>\n",
       "    <th>0.493846</th>\n",
       "    <th>0.429104</th>\n",
       "    <th>0.653575</th>\n",
       "    <th>00:38</th>\n",
       "  </tr>\n",
       "  <tr>\n",
       "    <th>1</th>\n",
       "    <th>0.395507</th>\n",
       "    <th>0.345336</th>\n",
       "    <th>0.585665</th>\n",
       "    <th>00:38</th>\n",
       "  </tr>\n",
       "  <tr>\n",
       "    <th>2</th>\n",
       "    <th>0.340096</th>\n",
       "    <th>0.324664</th>\n",
       "    <th>0.568578</th>\n",
       "    <th>00:38</th>\n",
       "  </tr>\n",
       "  <tr>\n",
       "    <th>3</th>\n",
       "    <th>0.301711</th>\n",
       "    <th>0.322196</th>\n",
       "    <th>0.566304</th>\n",
       "    <th>00:39</th>\n",
       "  </tr>\n",
       "</table>\n"
      ],
      "text/plain": [
       "<IPython.core.display.HTML object>"
      ]
     },
     "metadata": {},
     "output_type": "display_data"
    },
    {
     "name": "stdout",
     "output_type": "stream",
     "text": [
      "Better model found at epoch 0 with root_mean_squared_error value: 0.6535751819610596.\n",
      "Better model found at epoch 1 with root_mean_squared_error value: 0.5856654047966003.\n",
      "Better model found at epoch 2 with root_mean_squared_error value: 0.5685781240463257.\n",
      "Better model found at epoch 3 with root_mean_squared_error value: 0.5663036704063416.\n"
     ]
    }
   ],
   "source": [
    "# params={\n",
    "#     'layers':[500,200,100],\n",
    "#     'bptt':70,\n",
    "#     'max_len':20*70,\n",
    "#     'drop_mult': 1., # drop_mult: multiply to different dropouts in AWD LSTM\n",
    "#     'lin_ftrs': [300],\n",
    "#     'ps_lin_ftrs': [0],\n",
    "#     'ps': [0.01,0,0],\n",
    "#     'emb_drop': 0.,\n",
    "#     'y_range': [0,6],\n",
    "#     'use_bn': True,    \n",
    "# }\n",
    "# bs=160\n",
    "# learn.fit_one_cycle(4,max_lr=1e-02,pct_start=0.3,moms=(0.8,0.7))"
   ]
  },
  {
   "cell_type": "code",
   "execution_count": 132,
   "metadata": {},
   "outputs": [
    {
     "data": {
      "text/html": [
       "Total time: 02:35 <p><table style='width:375px; margin-bottom:10px'>\n",
       "  <tr>\n",
       "    <th>epoch</th>\n",
       "    <th>train_loss</th>\n",
       "    <th>valid_loss</th>\n",
       "    <th>root_mean_squared_error</th>\n",
       "    <th>time</th>\n",
       "  </tr>\n",
       "  <tr>\n",
       "    <th>0</th>\n",
       "    <th>0.491759</th>\n",
       "    <th>0.362901</th>\n",
       "    <th>0.601719</th>\n",
       "    <th>00:38</th>\n",
       "  </tr>\n",
       "  <tr>\n",
       "    <th>1</th>\n",
       "    <th>0.392879</th>\n",
       "    <th>0.344217</th>\n",
       "    <th>0.584863</th>\n",
       "    <th>00:38</th>\n",
       "  </tr>\n",
       "  <tr>\n",
       "    <th>2</th>\n",
       "    <th>0.342886</th>\n",
       "    <th>0.322263</th>\n",
       "    <th>0.566235</th>\n",
       "    <th>00:38</th>\n",
       "  </tr>\n",
       "  <tr>\n",
       "    <th>3</th>\n",
       "    <th>0.303403</th>\n",
       "    <th>0.324691</th>\n",
       "    <th>0.568224</th>\n",
       "    <th>00:38</th>\n",
       "  </tr>\n",
       "</table>\n"
      ],
      "text/plain": [
       "<IPython.core.display.HTML object>"
      ]
     },
     "metadata": {},
     "output_type": "display_data"
    },
    {
     "name": "stdout",
     "output_type": "stream",
     "text": [
      "Better model found at epoch 0 with root_mean_squared_error value: 0.6017189025878906.\n",
      "Better model found at epoch 1 with root_mean_squared_error value: 0.584863007068634.\n",
      "Better model found at epoch 2 with root_mean_squared_error value: 0.5662351846694946.\n"
     ]
    }
   ],
   "source": [
    "# params={\n",
    "#     'layers':[500,200,100],\n",
    "#     'bptt':70,\n",
    "#     'max_len':20*70,\n",
    "#     'drop_mult': 1., # drop_mult: multiply to different dropouts in AWD LSTM\n",
    "#     'lin_ftrs': [300],\n",
    "#     'ps_lin_ftrs': [0],\n",
    "#     'ps': None,\n",
    "#     'emb_drop': 0.,\n",
    "#     'y_range': [0,6],\n",
    "#     'use_bn': True,    \n",
    "# }\n",
    "# bs=160\n",
    "# learn.fit_one_cycle(4,max_lr=1e-02,pct_start=0.3,moms=(0.8,0.7))"
   ]
  },
  {
   "cell_type": "code",
   "execution_count": 125,
   "metadata": {},
   "outputs": [
    {
     "data": {
      "text/html": [
       "Total time: 02:34 <p><table style='width:375px; margin-bottom:10px'>\n",
       "  <tr>\n",
       "    <th>epoch</th>\n",
       "    <th>train_loss</th>\n",
       "    <th>valid_loss</th>\n",
       "    <th>root_mean_squared_error</th>\n",
       "    <th>time</th>\n",
       "  </tr>\n",
       "  <tr>\n",
       "    <th>0</th>\n",
       "    <th>0.591034</th>\n",
       "    <th>0.598132</th>\n",
       "    <th>0.772947</th>\n",
       "    <th>00:38</th>\n",
       "  </tr>\n",
       "  <tr>\n",
       "    <th>1</th>\n",
       "    <th>0.431274</th>\n",
       "    <th>0.338375</th>\n",
       "    <th>0.580686</th>\n",
       "    <th>00:38</th>\n",
       "  </tr>\n",
       "  <tr>\n",
       "    <th>2</th>\n",
       "    <th>0.357075</th>\n",
       "    <th>0.352426</th>\n",
       "    <th>0.591758</th>\n",
       "    <th>00:38</th>\n",
       "  </tr>\n",
       "  <tr>\n",
       "    <th>3</th>\n",
       "    <th>0.325217</th>\n",
       "    <th>0.321156</th>\n",
       "    <th>0.565075</th>\n",
       "    <th>00:37</th>\n",
       "  </tr>\n",
       "</table>\n"
      ],
      "text/plain": [
       "<IPython.core.display.HTML object>"
      ]
     },
     "metadata": {},
     "output_type": "display_data"
    },
    {
     "name": "stdout",
     "output_type": "stream",
     "text": [
      "Better model found at epoch 0 with root_mean_squared_error value: 0.772946834564209.\n",
      "Better model found at epoch 1 with root_mean_squared_error value: 0.5806857943534851.\n",
      "Better model found at epoch 3 with root_mean_squared_error value: 0.5650749206542969.\n"
     ]
    }
   ],
   "source": [
    "# params={\n",
    "#     'layers':[1000,800],\n",
    "#     'bptt':70,\n",
    "#     'max_len':20*70,\n",
    "#     'drop_mult': 1., # drop_mult: multiply to different dropouts in AWD LSTM\n",
    "#     'lin_ftrs': [300],\n",
    "#     'ps_lin_ftrs': [0],\n",
    "#     'ps': None,\n",
    "#     'emb_drop': 0.,\n",
    "#     'y_range': [0,6],\n",
    "#     'use_bn': True,    \n",
    "# }\n",
    "# bs=160\n",
    "# learn.fit_one_cycle(4,max_lr=3e-03,pct_start=0.3,moms=(0.8,0.7))"
   ]
  },
  {
   "cell_type": "code",
   "execution_count": 114,
   "metadata": {},
   "outputs": [
    {
     "data": {
      "text/html": [
       "Total time: 02:35 <p><table style='width:375px; margin-bottom:10px'>\n",
       "  <tr>\n",
       "    <th>epoch</th>\n",
       "    <th>train_loss</th>\n",
       "    <th>valid_loss</th>\n",
       "    <th>root_mean_squared_error</th>\n",
       "    <th>time</th>\n",
       "  </tr>\n",
       "  <tr>\n",
       "    <th>0</th>\n",
       "    <th>0.589302</th>\n",
       "    <th>0.709070</th>\n",
       "    <th>0.841480</th>\n",
       "    <th>00:38</th>\n",
       "  </tr>\n",
       "  <tr>\n",
       "    <th>1</th>\n",
       "    <th>0.430315</th>\n",
       "    <th>0.394613</th>\n",
       "    <th>0.626915</th>\n",
       "    <th>00:38</th>\n",
       "  </tr>\n",
       "  <tr>\n",
       "    <th>2</th>\n",
       "    <th>0.360243</th>\n",
       "    <th>0.332992</th>\n",
       "    <th>0.575737</th>\n",
       "    <th>00:38</th>\n",
       "  </tr>\n",
       "  <tr>\n",
       "    <th>3</th>\n",
       "    <th>0.322125</th>\n",
       "    <th>0.323762</th>\n",
       "    <th>0.567482</th>\n",
       "    <th>00:38</th>\n",
       "  </tr>\n",
       "</table>\n"
      ],
      "text/plain": [
       "<IPython.core.display.HTML object>"
      ]
     },
     "metadata": {},
     "output_type": "display_data"
    },
    {
     "name": "stdout",
     "output_type": "stream",
     "text": [
      "Better model found at epoch 0 with root_mean_squared_error value: 0.8414801955223083.\n",
      "Better model found at epoch 1 with root_mean_squared_error value: 0.6269147396087646.\n",
      "Better model found at epoch 2 with root_mean_squared_error value: 0.575736939907074.\n",
      "Better model found at epoch 3 with root_mean_squared_error value: 0.567482054233551.\n"
     ]
    }
   ],
   "source": [
    "# params={\n",
    "#     'layers':[1000,800],\n",
    "#     'bptt':70,\n",
    "#     'max_len':20*70,\n",
    "#     'drop_mult': 1., # drop_mult: multiply to different dropouts in AWD LSTM\n",
    "#     'lin_ftrs': [200],\n",
    "#     'ps_lin_ftrs': [0],\n",
    "#     'ps': None,\n",
    "#     'emb_drop': 0.,\n",
    "#     'y_range': [0,6],\n",
    "#     'use_bn': True,    \n",
    "# }\n",
    "# bs=160\n",
    "# learn.fit_one_cycle(4,max_lr=3e-03,pct_start=0.3,moms=(0.8,0.7))"
   ]
  },
  {
   "cell_type": "code",
   "execution_count": 106,
   "metadata": {},
   "outputs": [
    {
     "data": {
      "text/html": [
       "Total time: 02:36 <p><table style='width:375px; margin-bottom:10px'>\n",
       "  <tr>\n",
       "    <th>epoch</th>\n",
       "    <th>train_loss</th>\n",
       "    <th>valid_loss</th>\n",
       "    <th>root_mean_squared_error</th>\n",
       "    <th>time</th>\n",
       "  </tr>\n",
       "  <tr>\n",
       "    <th>0</th>\n",
       "    <th>0.579370</th>\n",
       "    <th>0.427674</th>\n",
       "    <th>0.653506</th>\n",
       "    <th>00:38</th>\n",
       "  </tr>\n",
       "  <tr>\n",
       "    <th>1</th>\n",
       "    <th>0.426073</th>\n",
       "    <th>0.383988</th>\n",
       "    <th>0.618939</th>\n",
       "    <th>00:38</th>\n",
       "  </tr>\n",
       "  <tr>\n",
       "    <th>2</th>\n",
       "    <th>0.361907</th>\n",
       "    <th>0.326580</th>\n",
       "    <th>0.570574</th>\n",
       "    <th>00:38</th>\n",
       "  </tr>\n",
       "  <tr>\n",
       "    <th>3</th>\n",
       "    <th>0.326879</th>\n",
       "    <th>0.316452</th>\n",
       "    <th>0.561157</th>\n",
       "    <th>00:38</th>\n",
       "  </tr>\n",
       "</table>\n"
      ],
      "text/plain": [
       "<IPython.core.display.HTML object>"
      ]
     },
     "metadata": {},
     "output_type": "display_data"
    },
    {
     "name": "stdout",
     "output_type": "stream",
     "text": [
      "Better model found at epoch 0 with root_mean_squared_error value: 0.6535059809684753.\n",
      "Better model found at epoch 1 with root_mean_squared_error value: 0.6189391613006592.\n",
      "Better model found at epoch 2 with root_mean_squared_error value: 0.5705739259719849.\n",
      "Better model found at epoch 3 with root_mean_squared_error value: 0.5611568689346313.\n"
     ]
    }
   ],
   "source": [
    "# learn.fit_one_cycle(4,max_lr=3e-03,pct_start=0.3,moms=(0.8,0.7))"
   ]
  },
  {
   "cell_type": "code",
   "execution_count": 94,
   "metadata": {},
   "outputs": [
    {
     "data": {
      "text/html": [
       "Total time: 02:33 <p><table style='width:375px; margin-bottom:10px'>\n",
       "  <tr>\n",
       "    <th>epoch</th>\n",
       "    <th>train_loss</th>\n",
       "    <th>valid_loss</th>\n",
       "    <th>root_mean_squared_error</th>\n",
       "    <th>time</th>\n",
       "  </tr>\n",
       "  <tr>\n",
       "    <th>0</th>\n",
       "    <th>0.561193</th>\n",
       "    <th>0.415435</th>\n",
       "    <th>0.643755</th>\n",
       "    <th>00:37</th>\n",
       "  </tr>\n",
       "  <tr>\n",
       "    <th>1</th>\n",
       "    <th>0.412999</th>\n",
       "    <th>0.345504</th>\n",
       "    <th>0.587103</th>\n",
       "    <th>00:37</th>\n",
       "  </tr>\n",
       "  <tr>\n",
       "    <th>2</th>\n",
       "    <th>0.359064</th>\n",
       "    <th>0.327147</th>\n",
       "    <th>0.570451</th>\n",
       "    <th>00:38</th>\n",
       "  </tr>\n",
       "  <tr>\n",
       "    <th>3</th>\n",
       "    <th>0.319049</th>\n",
       "    <th>0.325347</th>\n",
       "    <th>0.568935</th>\n",
       "    <th>00:38</th>\n",
       "  </tr>\n",
       "</table>\n"
      ],
      "text/plain": [
       "<IPython.core.display.HTML object>"
      ]
     },
     "metadata": {},
     "output_type": "display_data"
    },
    {
     "name": "stdout",
     "output_type": "stream",
     "text": [
      "Better model found at epoch 0 with root_mean_squared_error value: 0.6437553763389587.\n",
      "Better model found at epoch 1 with root_mean_squared_error value: 0.5871034264564514.\n",
      "Better model found at epoch 2 with root_mean_squared_error value: 0.5704505443572998.\n",
      "Better model found at epoch 3 with root_mean_squared_error value: 0.5689345002174377.\n"
     ]
    }
   ],
   "source": [
    "# params={\n",
    "#     'layers':[1000,500],\n",
    "#     'bptt':70,\n",
    "#     'max_len':20*70,\n",
    "#     'drop_mult': 1., # drop_mult: multiply to different dropouts in AWD LSTM\n",
    "#     'lin_ftrs': [100],\n",
    "#     'ps_lin_ftrs': [0],\n",
    "#     'ps': None,\n",
    "#     'emb_drop': 0.,\n",
    "#     'y_range': [0,6],\n",
    "#     'use_bn': True,    \n",
    "# }\n",
    "# bs=160\n",
    "# learn.fit_one_cycle(4,max_lr=3e-03,pct_start=0.3,moms=(0.8,0.7))"
   ]
  },
  {
   "cell_type": "code",
   "execution_count": 90,
   "metadata": {},
   "outputs": [
    {
     "data": {
      "text/html": [
       "Total time: 02:34 <p><table style='width:375px; margin-bottom:10px'>\n",
       "  <tr>\n",
       "    <th>epoch</th>\n",
       "    <th>train_loss</th>\n",
       "    <th>valid_loss</th>\n",
       "    <th>root_mean_squared_error</th>\n",
       "    <th>time</th>\n",
       "  </tr>\n",
       "  <tr>\n",
       "    <th>0</th>\n",
       "    <th>0.555403</th>\n",
       "    <th>0.513504</th>\n",
       "    <th>0.715292</th>\n",
       "    <th>00:38</th>\n",
       "  </tr>\n",
       "  <tr>\n",
       "    <th>1</th>\n",
       "    <th>0.411900</th>\n",
       "    <th>0.338592</th>\n",
       "    <th>0.581090</th>\n",
       "    <th>00:38</th>\n",
       "  </tr>\n",
       "  <tr>\n",
       "    <th>2</th>\n",
       "    <th>0.357547</th>\n",
       "    <th>0.334185</th>\n",
       "    <th>0.576832</th>\n",
       "    <th>00:38</th>\n",
       "  </tr>\n",
       "  <tr>\n",
       "    <th>3</th>\n",
       "    <th>0.320162</th>\n",
       "    <th>0.329410</th>\n",
       "    <th>0.572374</th>\n",
       "    <th>00:38</th>\n",
       "  </tr>\n",
       "</table>\n"
      ],
      "text/plain": [
       "<IPython.core.display.HTML object>"
      ]
     },
     "metadata": {},
     "output_type": "display_data"
    },
    {
     "name": "stdout",
     "output_type": "stream",
     "text": [
      "Better model found at epoch 0 with root_mean_squared_error value: 0.7152920365333557.\n",
      "Better model found at epoch 1 with root_mean_squared_error value: 0.5810903906822205.\n",
      "Better model found at epoch 2 with root_mean_squared_error value: 0.5768318772315979.\n",
      "Better model found at epoch 3 with root_mean_squared_error value: 0.5723740458488464.\n"
     ]
    }
   ],
   "source": [
    "# params={\n",
    "#     'layers':[1000,500],\n",
    "#     'bptt':70,\n",
    "#     'max_len':20*70,\n",
    "#     'drop_mult': 1., # drop_mult: multiply to different dropouts in AWD LSTM\n",
    "#     'lin_ftrs': [100],\n",
    "#     'ps_lin_ftrs': [0.05],\n",
    "#     'ps': None,\n",
    "#     'emb_drop': 0.,\n",
    "#     'y_range': [0,6],\n",
    "#     'use_bn': True,    \n",
    "# }\n",
    "# bs=160\n",
    "# learn.fit_one_cycle(4,max_lr=3e-03,pct_start=0.3,moms=(0.8,0.7))"
   ]
  },
  {
   "cell_type": "code",
   "execution_count": 84,
   "metadata": {},
   "outputs": [
    {
     "data": {
      "text/html": [
       "Total time: 02:35 <p><table style='width:375px; margin-bottom:10px'>\n",
       "  <tr>\n",
       "    <th>epoch</th>\n",
       "    <th>train_loss</th>\n",
       "    <th>valid_loss</th>\n",
       "    <th>root_mean_squared_error</th>\n",
       "    <th>time</th>\n",
       "  </tr>\n",
       "  <tr>\n",
       "    <th>0</th>\n",
       "    <th>0.569736</th>\n",
       "    <th>0.497820</th>\n",
       "    <th>0.704238</th>\n",
       "    <th>00:38</th>\n",
       "  </tr>\n",
       "  <tr>\n",
       "    <th>1</th>\n",
       "    <th>0.411551</th>\n",
       "    <th>0.344538</th>\n",
       "    <th>0.585527</th>\n",
       "    <th>00:38</th>\n",
       "  </tr>\n",
       "  <tr>\n",
       "    <th>2</th>\n",
       "    <th>0.353614</th>\n",
       "    <th>0.327816</th>\n",
       "    <th>0.571286</th>\n",
       "    <th>00:38</th>\n",
       "  </tr>\n",
       "  <tr>\n",
       "    <th>3</th>\n",
       "    <th>0.321359</th>\n",
       "    <th>0.335778</th>\n",
       "    <th>0.577965</th>\n",
       "    <th>00:38</th>\n",
       "  </tr>\n",
       "</table>\n"
      ],
      "text/plain": [
       "<IPython.core.display.HTML object>"
      ]
     },
     "metadata": {},
     "output_type": "display_data"
    },
    {
     "name": "stdout",
     "output_type": "stream",
     "text": [
      "Better model found at epoch 0 with root_mean_squared_error value: 0.704237699508667.\n",
      "Better model found at epoch 1 with root_mean_squared_error value: 0.5855271816253662.\n",
      "Better model found at epoch 2 with root_mean_squared_error value: 0.5712860822677612.\n"
     ]
    }
   ],
   "source": [
    "# params={\n",
    "#     'layers':[1000,500],\n",
    "#     'bptt':70,\n",
    "#     'max_len':20*70,\n",
    "#     'drop_mult': 1., # drop_mult: multiply to different dropouts in AWD LSTM\n",
    "#     'lin_ftrs': [50],\n",
    "#     'ps_lin_ftrs': [0.1],\n",
    "#     'ps': None,\n",
    "#     'emb_drop': 0.,\n",
    "#     'y_range': [0,6],\n",
    "#     'use_bn': True,    \n",
    "# }\n",
    "# bs=160\n",
    "# learn.fit_one_cycle(4,max_lr=3e-03,pct_start=0.3,moms=(0.8,0.7))"
   ]
  },
  {
   "cell_type": "code",
   "execution_count": 77,
   "metadata": {},
   "outputs": [
    {
     "data": {
      "text/html": [
       "Total time: 02:26 <p><table style='width:375px; margin-bottom:10px'>\n",
       "  <tr>\n",
       "    <th>epoch</th>\n",
       "    <th>train_loss</th>\n",
       "    <th>valid_loss</th>\n",
       "    <th>root_mean_squared_error</th>\n",
       "    <th>time</th>\n",
       "  </tr>\n",
       "  <tr>\n",
       "    <th>0</th>\n",
       "    <th>0.476132</th>\n",
       "    <th>0.398845</th>\n",
       "    <th>0.630696</th>\n",
       "    <th>00:35</th>\n",
       "  </tr>\n",
       "  <tr>\n",
       "    <th>1</th>\n",
       "    <th>0.389079</th>\n",
       "    <th>0.360870</th>\n",
       "    <th>0.599738</th>\n",
       "    <th>00:36</th>\n",
       "  </tr>\n",
       "  <tr>\n",
       "    <th>2</th>\n",
       "    <th>0.338664</th>\n",
       "    <th>0.330467</th>\n",
       "    <th>0.574033</th>\n",
       "    <th>00:37</th>\n",
       "  </tr>\n",
       "  <tr>\n",
       "    <th>3</th>\n",
       "    <th>0.308899</th>\n",
       "    <th>0.331175</th>\n",
       "    <th>0.574617</th>\n",
       "    <th>00:36</th>\n",
       "  </tr>\n",
       "</table>\n"
      ],
      "text/plain": [
       "<IPython.core.display.HTML object>"
      ]
     },
     "metadata": {},
     "output_type": "display_data"
    },
    {
     "name": "stdout",
     "output_type": "stream",
     "text": [
      "Better model found at epoch 0 with root_mean_squared_error value: 0.6306961178779602.\n",
      "Better model found at epoch 1 with root_mean_squared_error value: 0.5997379422187805.\n",
      "Better model found at epoch 2 with root_mean_squared_error value: 0.5740325450897217.\n"
     ]
    }
   ],
   "source": [
    "# params={\n",
    "#     'layers':[500,200],\n",
    "#     'bptt':70,\n",
    "#     'max_len':20*70,\n",
    "#     'drop_mult': 1., # drop_mult: multiply to different dropouts in AWD LSTM\n",
    "#     'lin_ftrs': [50],\n",
    "#     'ps_lin_ftrs': [0.1],\n",
    "#     'ps': None,\n",
    "#     'emb_drop': 0.,\n",
    "#     'y_range': [0,6],\n",
    "#     'use_bn': True,    \n",
    "# }\n",
    "# bs=180\n",
    "# 1%\n",
    "# learn.fit_one_cycle(4,max_lr=1e-02,pct_start=0.3,moms=(0.8,0.7))"
   ]
  },
  {
   "cell_type": "code",
   "execution_count": 59,
   "metadata": {},
   "outputs": [
    {
     "data": {
      "text/html": [
       "Total time: 06:02 <p><table style='width:375px; margin-bottom:10px'>\n",
       "  <tr>\n",
       "    <th>epoch</th>\n",
       "    <th>train_loss</th>\n",
       "    <th>valid_loss</th>\n",
       "    <th>root_mean_squared_error</th>\n",
       "    <th>time</th>\n",
       "  </tr>\n",
       "  <tr>\n",
       "    <th>0</th>\n",
       "    <th>0.376960</th>\n",
       "    <th>0.396846</th>\n",
       "    <th>0.626014</th>\n",
       "    <th>01:59</th>\n",
       "  </tr>\n",
       "  <tr>\n",
       "    <th>1</th>\n",
       "    <th>0.328361</th>\n",
       "    <th>0.355420</th>\n",
       "    <th>0.592391</th>\n",
       "    <th>02:00</th>\n",
       "  </tr>\n",
       "  <tr>\n",
       "    <th>2</th>\n",
       "    <th>0.305817</th>\n",
       "    <th>0.353427</th>\n",
       "    <th>0.590345</th>\n",
       "    <th>02:01</th>\n",
       "  </tr>\n",
       "</table>\n"
      ],
      "text/plain": [
       "<IPython.core.display.HTML object>"
      ]
     },
     "metadata": {},
     "output_type": "display_data"
    },
    {
     "name": "stdout",
     "output_type": "stream",
     "text": [
      "Better model found at epoch 0 with root_mean_squared_error value: 0.6260137557983398.\n",
      "Better model found at epoch 1 with root_mean_squared_error value: 0.5923912525177002.\n",
      "Better model found at epoch 2 with root_mean_squared_error value: 0.5903449058532715.\n"
     ]
    }
   ],
   "source": [
    "# 3%\n",
    "# learn.fit_one_cycle(3,max_lr=1e-02,pct_start=0.3,moms=(0.8,0.7))"
   ]
  },
  {
   "cell_type": "code",
   "execution_count": 42,
   "metadata": {},
   "outputs": [
    {
     "data": {
      "text/html": [
       "Total time: 08:43 <p><table style='width:375px; margin-bottom:10px'>\n",
       "  <tr>\n",
       "    <th>epoch</th>\n",
       "    <th>train_loss</th>\n",
       "    <th>valid_loss</th>\n",
       "    <th>root_mean_squared_error</th>\n",
       "    <th>time</th>\n",
       "  </tr>\n",
       "  <tr>\n",
       "    <th>0</th>\n",
       "    <th>0.370297</th>\n",
       "    <th>0.338513</th>\n",
       "    <th>0.579393</th>\n",
       "    <th>02:54</th>\n",
       "  </tr>\n",
       "  <tr>\n",
       "    <th>1</th>\n",
       "    <th>0.326743</th>\n",
       "    <th>0.339801</th>\n",
       "    <th>0.580735</th>\n",
       "    <th>02:53</th>\n",
       "  </tr>\n",
       "  <tr>\n",
       "    <th>2</th>\n",
       "    <th>0.301308</th>\n",
       "    <th>0.317136</th>\n",
       "    <th>0.560875</th>\n",
       "    <th>02:55</th>\n",
       "  </tr>\n",
       "</table>\n"
      ],
      "text/plain": [
       "<IPython.core.display.HTML object>"
      ]
     },
     "metadata": {},
     "output_type": "display_data"
    }
   ],
   "source": [
    "# 5%\n",
    "# learn.fit_one_cycle(3,max_lr=1e-02,pct_start=0.3,moms=(0.8,0.7))"
   ]
  },
  {
   "cell_type": "code",
   "execution_count": 18,
   "metadata": {},
   "outputs": [
    {
     "data": {
      "text/html": [
       "Total time: 35:55 <p><table style='width:375px; margin-bottom:10px'>\n",
       "  <tr>\n",
       "    <th>epoch</th>\n",
       "    <th>train_loss</th>\n",
       "    <th>valid_loss</th>\n",
       "    <th>root_mean_squared_error</th>\n",
       "    <th>time</th>\n",
       "  </tr>\n",
       "  <tr>\n",
       "    <th>0</th>\n",
       "    <th>0.334035</th>\n",
       "    <th>0.320535</th>\n",
       "    <th>0.563829</th>\n",
       "    <th>11:57</th>\n",
       "  </tr>\n",
       "  <tr>\n",
       "    <th>1</th>\n",
       "    <th>0.310734</th>\n",
       "    <th>0.309240</th>\n",
       "    <th>0.553604</th>\n",
       "    <th>11:57</th>\n",
       "  </tr>\n",
       "  <tr>\n",
       "    <th>2</th>\n",
       "    <th>0.296536</th>\n",
       "    <th>0.302858</th>\n",
       "    <th>0.547888</th>\n",
       "    <th>11:59</th>\n",
       "  </tr>\n",
       "</table>\n"
      ],
      "text/plain": [
       "<IPython.core.display.HTML object>"
      ]
     },
     "metadata": {},
     "output_type": "display_data"
    },
    {
     "name": "stdout",
     "output_type": "stream",
     "text": [
      "Better model found at epoch 0 with root_mean_squared_error value: 0.5638288855552673.\n",
      "Better model found at epoch 1 with root_mean_squared_error value: 0.5536041855812073.\n",
      "Better model found at epoch 2 with root_mean_squared_error value: 0.5478876829147339.\n"
     ]
    }
   ],
   "source": [
    "# 50%\n",
    "# learn.fit_one_cycle(3,max_lr=1e-02,pct_start=0.3,moms=(0.8,0.7))"
   ]
  },
  {
   "cell_type": "code",
   "execution_count": 19,
   "metadata": {},
   "outputs": [],
   "source": [
    "# learn.save('version2-50pct-stage1')"
   ]
  },
  {
   "cell_type": "code",
   "execution_count": 25,
   "metadata": {},
   "outputs": [
    {
     "data": {
      "text/html": [
       "Total time: 06:34 <p><table style='width:375px; margin-bottom:10px'>\n",
       "  <tr>\n",
       "    <th>epoch</th>\n",
       "    <th>train_loss</th>\n",
       "    <th>valid_loss</th>\n",
       "    <th>root_mean_squared_error</th>\n",
       "    <th>time</th>\n",
       "  </tr>\n",
       "  <tr>\n",
       "    <th>0</th>\n",
       "    <th>0.398566</th>\n",
       "    <th>0.365835</th>\n",
       "    <th>0.601927</th>\n",
       "    <th>01:18</th>\n",
       "  </tr>\n",
       "  <tr>\n",
       "    <th>1</th>\n",
       "    <th>0.376464</th>\n",
       "    <th>0.338829</th>\n",
       "    <th>0.578204</th>\n",
       "    <th>01:18</th>\n",
       "  </tr>\n",
       "  <tr>\n",
       "    <th>2</th>\n",
       "    <th>0.338271</th>\n",
       "    <th>0.333970</th>\n",
       "    <th>0.573566</th>\n",
       "    <th>01:18</th>\n",
       "  </tr>\n",
       "  <tr>\n",
       "    <th>3</th>\n",
       "    <th>0.321110</th>\n",
       "    <th>0.327015</th>\n",
       "    <th>0.566773</th>\n",
       "    <th>01:18</th>\n",
       "  </tr>\n",
       "  <tr>\n",
       "    <th>4</th>\n",
       "    <th>0.293169</th>\n",
       "    <th>0.323621</th>\n",
       "    <th>0.563851</th>\n",
       "    <th>01:19</th>\n",
       "  </tr>\n",
       "</table>\n"
      ],
      "text/plain": [
       "<IPython.core.display.HTML object>"
      ]
     },
     "metadata": {},
     "output_type": "display_data"
    }
   ],
   "source": [
    "\n",
    "# learn.fit_one_cycle(5,max_lr=1e-02,pct_start=0.3,moms=(0.8,0.7))"
   ]
  },
  {
   "cell_type": "code",
   "execution_count": 26,
   "metadata": {},
   "outputs": [],
   "source": [
    "# learn.save('version2-stage1')"
   ]
  },
  {
   "cell_type": "markdown",
   "metadata": {},
   "source": [
    "# Tune 2"
   ]
  },
  {
   "cell_type": "code",
   "execution_count": 27,
   "metadata": {},
   "outputs": [],
   "source": [
    "params={\n",
    "    'layers':[500,200],\n",
    "    'bptt':70,\n",
    "    'max_len':20*70,\n",
    "    'drop_mult': 1., # drop_mult: multiply to different dropouts in AWD LSTM\n",
    "    'lin_ftrs': [50],\n",
    "    'ps_lin_ftrs': [0.1],\n",
    "    'ps': None,\n",
    "    'emb_drop': 0.,\n",
    "    'y_range': [0,6],\n",
    "    'use_bn': True,    \n",
    "}\n",
    "bs=100"
   ]
  },
  {
   "cell_type": "code",
   "execution_count": 28,
   "metadata": {},
   "outputs": [],
   "source": [
    "data = get_tabulartext_databunch(bs=bs)"
   ]
  },
  {
   "cell_type": "code",
   "execution_count": 30,
   "metadata": {},
   "outputs": [
    {
     "data": {
      "text/plain": [
       "0"
      ]
     },
     "execution_count": 30,
     "metadata": {},
     "output_type": "execute_result"
    },
    {
     "data": {
      "text/html": [],
      "text/plain": [
       "<IPython.core.display.HTML object>"
      ]
     },
     "metadata": {},
     "output_type": "display_data"
    },
    {
     "name": "stdout",
     "output_type": "stream",
     "text": [
      "LR Finder is complete, type {learner_name}.recorder.plot() to see the graph.\n"
     ]
    },
    {
     "data": {
      "image/png": "[encoded data removed]",
      "text/plain": [
       "<Figure size 432x288 with 1 Axes>"
      ]
     },
     "metadata": {
      "needs_background": "light"
     },
     "output_type": "display_data"
    }
   ],
   "source": [
    "learn = get_tabtext_lr_find(data,params,seed=42).to_fp32()\n",
    "_=learn.load('version2-stage1');\n",
    "gc.collect()\n",
    "learn.freeze_to(-2)\n",
    "learn.lr_find()\n",
    "learn.recorder.plot()"
   ]
  },
  {
   "cell_type": "code",
   "execution_count": 33,
   "metadata": {},
   "outputs": [
    {
     "data": {
      "text/plain": [
       "0"
      ]
     },
     "execution_count": 33,
     "metadata": {},
     "output_type": "execute_result"
    },
    {
     "data": {
      "text/html": [],
      "text/plain": [
       "<IPython.core.display.HTML object>"
      ]
     },
     "metadata": {},
     "output_type": "display_data"
    },
    {
     "name": "stdout",
     "output_type": "stream",
     "text": [
      "LR Finder is complete, type {learner_name}.recorder.plot() to see the graph.\n"
     ]
    },
    {
     "data": {
      "image/png": "[encoded data removed]",
      "text/plain": [
       "<Figure size 432x288 with 1 Axes>"
      ]
     },
     "metadata": {
      "needs_background": "light"
     },
     "output_type": "display_data"
    }
   ],
   "source": [
    "_=learn.load('version2-stage1');\n",
    "gc.collect()\n",
    "learn.freeze_to(-2)\n",
    "learn.lr_find()\n",
    "learn.recorder.plot()"
   ]
  },
  {
   "cell_type": "code",
   "execution_count": 35,
   "metadata": {},
   "outputs": [
    {
     "data": {
      "text/html": [
       "Total time: 03:59 <p><table style='width:375px; margin-bottom:10px'>\n",
       "  <tr>\n",
       "    <th>epoch</th>\n",
       "    <th>train_loss</th>\n",
       "    <th>valid_loss</th>\n",
       "    <th>root_mean_squared_error</th>\n",
       "    <th>time</th>\n",
       "  </tr>\n",
       "  <tr>\n",
       "    <th>0</th>\n",
       "    <th>0.285587</th>\n",
       "    <th>0.315873</th>\n",
       "    <th>0.557165</th>\n",
       "    <th>01:19</th>\n",
       "  </tr>\n",
       "  <tr>\n",
       "    <th>1</th>\n",
       "    <th>0.285786</th>\n",
       "    <th>0.316151</th>\n",
       "    <th>0.557276</th>\n",
       "    <th>01:20</th>\n",
       "  </tr>\n",
       "  <tr>\n",
       "    <th>2</th>\n",
       "    <th>0.269703</th>\n",
       "    <th>0.319143</th>\n",
       "    <th>0.559815</th>\n",
       "    <th>01:18</th>\n",
       "  </tr>\n",
       "</table>\n"
      ],
      "text/plain": [
       "<IPython.core.display.HTML object>"
      ]
     },
     "metadata": {},
     "output_type": "display_data"
    }
   ],
   "source": [
    "learn = get_tabtext_lr_find(data,params,seed=42).to_fp32()\n",
    "_=learn.load('version2-stage1');\n",
    "learn.fit_one_cycle(3,max_lr=slice(1e-05,1e-03),pct_start=0.3,moms=(0.8,0.7))"
   ]
  },
  {
   "cell_type": "code",
   "execution_count": 31,
   "metadata": {},
   "outputs": [
    {
     "data": {
      "text/plain": [
       "SequentialMultipleInput(\n",
       "  (0): MultiBatchMixEncoder(\n",
       "    (module): AWD_LSTM(\n",
       "      (encoder): Embedding(33781, 400, padding_idx=1)\n",
       "      (encoder_dp): EmbeddingDropout(\n",
       "        (emb): Embedding(33781, 400, padding_idx=1)\n",
       "      )\n",
       "      (rnns): ModuleList(\n",
       "        (0): WeightDropout(\n",
       "          (module): LSTM(400, 1150, batch_first=True)\n",
       "        )\n",
       "        (1): WeightDropout(\n",
       "          (module): LSTM(1150, 1150, batch_first=True)\n",
       "        )\n",
       "        (2): WeightDropout(\n",
       "          (module): LSTM(1150, 400, batch_first=True)\n",
       "        )\n",
       "      )\n",
       "      (input_dp): RNNDropout()\n",
       "      (hidden_dps): ModuleList(\n",
       "        (0): RNNDropout()\n",
       "        (1): RNNDropout()\n",
       "        (2): RNNDropout()\n",
       "      )\n",
       "    )\n",
       "  )\n",
       "  (1): PoolingLinearTabularTextClassifier(\n",
       "    (rnn_lin_layers): Sequential(\n",
       "      (0): BatchNorm1d(1200, eps=1e-05, momentum=0.1, affine=True, track_running_stats=True)\n",
       "      (1): Dropout(p=0.4)\n",
       "      (2): Linear(in_features=1200, out_features=50, bias=True)\n",
       "      (3): ReLU(inplace)\n",
       "      (4): BatchNorm1d(50, eps=1e-05, momentum=0.1, affine=True, track_running_stats=True)\n",
       "      (5): Dropout(p=0.1)\n",
       "    )\n",
       "    (embeds): ModuleList(\n",
       "      (0): Embedding(11, 6)\n",
       "      (1): Embedding(110, 22)\n",
       "      (2): Embedding(581, 57)\n",
       "      (3): Embedding(1178, 84)\n",
       "      (4): Embedding(3, 3)\n",
       "    )\n",
       "    (emb_drop): Dropout(p=0.0)\n",
       "    (bn_cont): BatchNorm1d(1, eps=1e-05, momentum=0.1, affine=True, track_running_stats=True)\n",
       "    (layers): Sequential(\n",
       "      (0): Linear(in_features=223, out_features=500, bias=True)\n",
       "      (1): ReLU(inplace)\n",
       "      (2): BatchNorm1d(500, eps=1e-05, momentum=0.1, affine=True, track_running_stats=True)\n",
       "      (3): Linear(in_features=500, out_features=200, bias=True)\n",
       "      (4): ReLU(inplace)\n",
       "      (5): BatchNorm1d(200, eps=1e-05, momentum=0.1, affine=True, track_running_stats=True)\n",
       "      (6): Linear(in_features=200, out_features=1, bias=True)\n",
       "    )\n",
       "  )\n",
       ")"
      ]
     },
     "execution_count": 31,
     "metadata": {},
     "output_type": "execute_result"
    }
   ],
   "source": [
    "# learn.model"
   ]
  }
 ],
 "metadata": {
  "kernelspec": {
   "display_name": "Python 3",
   "language": "python",
   "name": "python3"
  },
  "language_info": {
   "codemirror_mode": {
    "name": "ipython",
    "version": 3
   },
   "file_extension": ".py",
   "mimetype": "text/x-python",
   "name": "python",
   "nbconvert_exporter": "python",
   "pygments_lexer": "ipython3",
   "version": "3.7.1"
  }
 },
 "nbformat": 4,
 "nbformat_minor": 2
}
